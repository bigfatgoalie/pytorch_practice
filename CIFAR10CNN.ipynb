{
 "cells": [
  {
   "cell_type": "markdown",
   "metadata": {
    "id": "XJunnYmn2k-8"
   },
   "source": [
    "#### classifying CIFAR10 with CNN \n",
    "#### with linear model accuracy didn't go above 44%"
   ]
  },
  {
   "cell_type": "code",
   "execution_count": 1,
   "metadata": {
    "id": "wSKxPbDZ2k--"
   },
   "outputs": [],
   "source": [
    "#import everything\n",
    "import torch\n",
    "import torchvision\n",
    "import torch.nn as nn\n",
    "import numpy as np\n",
    "import matplotlib.pyplot as plt\n",
    "import torch.nn.functional as F\n",
    "from torch.utils.data.dataloader import DataLoader\n",
    "from torchvision.datasets import CIFAR10\n",
    "from torchvision.transforms import ToTensor\n",
    "from torch.utils.data import random_split"
   ]
  },
  {
   "cell_type": "code",
   "execution_count": 56,
   "metadata": {
    "colab": {
     "base_uri": "https://localhost:8080/"
    },
    "id": "fPcCrFXj2k-_",
    "outputId": "f2ceefab-5084-41cc-9ee8-2613f759f6e1"
   },
   "outputs": [
    {
     "name": "stdout",
     "output_type": "stream",
     "text": [
      "Files already downloaded and verified\n"
     ]
    }
   ],
   "source": [
    "dataset = CIFAR10(root='datasets/',download=True,transform=ToTensor())"
   ]
  },
  {
   "cell_type": "code",
   "execution_count": 57,
   "metadata": {
    "colab": {
     "base_uri": "https://localhost:8080/"
    },
    "id": "EaO6o3s32k_B",
    "outputId": "d8540b18-ffca-4ed5-acc0-236ccc55c436"
   },
   "outputs": [
    {
     "data": {
      "text/plain": [
       "['airplane',\n",
       " 'automobile',\n",
       " 'bird',\n",
       " 'cat',\n",
       " 'deer',\n",
       " 'dog',\n",
       " 'frog',\n",
       " 'horse',\n",
       " 'ship',\n",
       " 'truck']"
      ]
     },
     "execution_count": 57,
     "metadata": {
      "tags": []
     },
     "output_type": "execute_result"
    }
   ],
   "source": [
    "dataset.classes"
   ]
  },
  {
   "cell_type": "code",
   "execution_count": 58,
   "metadata": {
    "colab": {
     "base_uri": "https://localhost:8080/"
    },
    "id": "mihd_zhS2k_C",
    "outputId": "e009047e-698a-4e43-d494-24219e5a58d2"
   },
   "outputs": [
    {
     "data": {
      "text/plain": [
       "torch.Size([3, 32, 32])"
      ]
     },
     "execution_count": 58,
     "metadata": {
      "tags": []
     },
     "output_type": "execute_result"
    }
   ],
   "source": [
    "dataset[0][0].shape"
   ]
  },
  {
   "cell_type": "code",
   "execution_count": 59,
   "metadata": {
    "colab": {
     "base_uri": "https://localhost:8080/",
     "height": 35
    },
    "id": "s1MzmPEe2k_D",
    "outputId": "a0af248b-70f7-44e4-eae1-b1cdb86de775"
   },
   "outputs": [
    {
     "data": {
      "application/vnd.google.colaboratory.intrinsic+json": {
       "type": "string"
      },
      "text/plain": [
       "'frog'"
      ]
     },
     "execution_count": 59,
     "metadata": {
      "tags": []
     },
     "output_type": "execute_result"
    }
   ],
   "source": [
    "dataset.classes[train_dataset[0][1]]"
   ]
  },
  {
   "cell_type": "code",
   "execution_count": 60,
   "metadata": {
    "colab": {
     "base_uri": "https://localhost:8080/",
     "height": 285
    },
    "id": "bp5z16bd2k_E",
    "outputId": "0d541d61-6ed6-4a7c-9541-cbf12580ae4b"
   },
   "outputs": [
    {
     "data": {
      "text/plain": [
       "<matplotlib.image.AxesImage at 0x7f09d3f3c0f0>"
      ]
     },
     "execution_count": 60,
     "metadata": {
      "tags": []
     },
     "output_type": "execute_result"
    },
    {
     "data": {
      "image/png": "[encoded data removed]",
      "text/plain": [
       "<Figure size 432x288 with 1 Axes>"
      ]
     },
     "metadata": {
      "needs_background": "light",
      "tags": []
     },
     "output_type": "display_data"
    }
   ],
   "source": [
    "plt.imshow(dataset[0][0].permute(1,2,0))"
   ]
  },
  {
   "cell_type": "code",
   "execution_count": 7,
   "metadata": {
    "colab": {
     "base_uri": "https://localhost:8080/"
    },
    "id": "zpSI4spW2k_F",
    "outputId": "8cee32c9-6974-4961-f533-f648d3ebaf9d"
   },
   "outputs": [
    {
     "data": {
      "text/plain": [
       "<torch._C.Generator at 0x7f0e63afab58>"
      ]
     },
     "execution_count": 7,
     "metadata": {
      "tags": []
     },
     "output_type": "execute_result"
    }
   ],
   "source": [
    "#so that barely looks like a frog\n",
    "random_seed=43\n",
    "torch.manual_seed(random_seed)"
   ]
  },
  {
   "cell_type": "code",
   "execution_count": 61,
   "metadata": {
    "colab": {
     "base_uri": "https://localhost:8080/"
    },
    "id": "wvfebNc52k_F",
    "outputId": "209d9e1f-0c46-4471-bc7d-c534dcb5cb4a"
   },
   "outputs": [
    {
     "data": {
      "text/plain": [
       "50000"
      ]
     },
     "execution_count": 61,
     "metadata": {
      "tags": []
     },
     "output_type": "execute_result"
    }
   ],
   "source": [
    "len(dataset)"
   ]
  },
  {
   "cell_type": "code",
   "execution_count": 62,
   "metadata": {
    "id": "LDSjNpU72k_G"
   },
   "outputs": [],
   "source": [
    "train_dataset,valid_dataset = random_split(dataset,[45000,5000])"
   ]
  },
  {
   "cell_type": "code",
   "execution_count": 10,
   "metadata": {
    "id": "uyaIO8712k_H"
   },
   "outputs": [],
   "source": [
    "test_dataset = CIFAR10(root='datasets/',train=False,transform=ToTensor())"
   ]
  },
  {
   "cell_type": "code",
   "execution_count": 11,
   "metadata": {
    "colab": {
     "base_uri": "https://localhost:8080/"
    },
    "id": "rZ6e9L_I2k_H",
    "outputId": "41dc5009-dd87-4e24-ba36-b59001e09d9b"
   },
   "outputs": [
    {
     "data": {
      "text/plain": [
       "10000"
      ]
     },
     "execution_count": 11,
     "metadata": {
      "tags": []
     },
     "output_type": "execute_result"
    }
   ],
   "source": [
    "len(test_dataset)"
   ]
  },
  {
   "cell_type": "code",
   "execution_count": 12,
   "metadata": {
    "id": "685OEl962k_I"
   },
   "outputs": [],
   "source": [
    "#for GPU optims\n",
    "def get_default_device():\n",
    "    if torch.cuda.is_available():\n",
    "        return torch.device('cuda')\n",
    "    else:\n",
    "        return torch.device('cpu')"
   ]
  },
  {
   "cell_type": "code",
   "execution_count": 13,
   "metadata": {
    "id": "qKiqrxCu2k_J"
   },
   "outputs": [],
   "source": [
    "def to_device(data,device):\n",
    "    if isinstance(data,(list,tuple)):\n",
    "        return [to_device(x,device) for x in data]\n",
    "    return data.to(device,non_blocking=True)"
   ]
  },
  {
   "cell_type": "code",
   "execution_count": 14,
   "metadata": {
    "id": "IHRj3kKR2k_J"
   },
   "outputs": [],
   "source": [
    "class DeviceDataLoader(): #wrapper over DataLoader class, to push it to device and create __iter__ class for taking full advantage of GPU\n",
    "    def __init__(self,data_loader,device):\n",
    "        self.data_loader = data_loader\n",
    "        self.device = device\n",
    "    \n",
    "    def __iter__(self): #this class makes the magic of GPU happen\n",
    "        for batch in self.data_loader:\n",
    "            yield(to_device(batch,self.device))\n",
    "    \n",
    "    def __len__(self):\n",
    "        return len(self.data_loader)"
   ]
  },
  {
   "cell_type": "code",
   "execution_count": 15,
   "metadata": {
    "colab": {
     "base_uri": "https://localhost:8080/"
    },
    "id": "rsTS6EUB2k_K",
    "outputId": "47bb4b29-87e9-4284-a7d0-9ad471936907"
   },
   "outputs": [
    {
     "data": {
      "text/plain": [
       "device(type='cuda')"
      ]
     },
     "execution_count": 15,
     "metadata": {
      "tags": []
     },
     "output_type": "execute_result"
    }
   ],
   "source": [
    "device = get_default_device()\n",
    "device"
   ]
  },
  {
   "cell_type": "code",
   "execution_count": 16,
   "metadata": {
    "id": "1UVUUvrP2k_L"
   },
   "outputs": [],
   "source": [
    "#create loaders\n",
    "batch_size=128\n",
    "train_loader = DeviceDataLoader(DataLoader(train_dataset,batch_size,shuffle=True,pin_memory=True,num_workers=4),device)\n",
    "valid_loader = DeviceDataLoader(DataLoader(valid_dataset,batch_size*2,pin_memory=True,num_workers=4),device)\n",
    "test_loader  = DeviceDataLoader(DataLoader(test_dataset,batch_size*2,pin_memory=True,num_workers=4),device)"
   ]
  },
  {
   "cell_type": "code",
   "execution_count": 17,
   "metadata": {
    "id": "WYSyt5Ja2k_L"
   },
   "outputs": [],
   "source": [
    "class ImageBase(nn.Module):\n",
    "    def train_step(self,X_batch):\n",
    "        images,labels = X_batch\n",
    "        out = self.forward(images)\n",
    "        loss = F.cross_entropy(out,labels)\n",
    "        return loss\n",
    "    \n",
    "    def valid_step(self,X_batch):\n",
    "        images,labels = X_batch\n",
    "        out = self.forward(images)\n",
    "        loss = F.cross_entropy(out,labels)\n",
    "        _,preds = torch.max(out,dim=1)\n",
    "        acc = torch.tensor(torch.sum(preds==labels).item()/len(preds))\n",
    "        return {'loss':loss,'acc':acc}"
   ]
  },
  {
   "cell_type": "code",
   "execution_count": 18,
   "metadata": {
    "id": "Ao1tMsl02k_M"
   },
   "outputs": [],
   "source": [
    "class CIFAR10Model(ImageBase):\n",
    "    def __init__(self):\n",
    "        super().__init__()\n",
    "        self.net = nn.Sequential(\n",
    "            nn.Conv2d(3,32,kernel_size=3,padding=1),\n",
    "            nn.ReLU(), #3 to 32 channel first\n",
    "            nn.Conv2d(32,64,kernel_size=3,stride=1,padding=1),\n",
    "            nn.ReLU(), #32 to 64 channel, till now size is still 32x32 of image, even though channels have increased\n",
    "            nn.MaxPool2d(2,2), # size reduced to 16x16\n",
    "            \n",
    "            nn.Conv2d(64,128,kernel_size=3,padding=1),\n",
    "            nn.ReLU(), #64 to 128\n",
    "            nn.Conv2d(128,128,kernel_size=3,stride=1,padding=1),\n",
    "            nn.ReLU(),\n",
    "            nn.MaxPool2d(2,2), # size reduced to 8x8\n",
    "            \n",
    "            nn.Conv2d(128,256,kernel_size=3,padding=1),\n",
    "            nn.ReLU(), #3 to 32 channel first\n",
    "            nn.Conv2d(256,256,kernel_size=3,stride=1,padding=1),\n",
    "            nn.ReLU(), #32 to 64 channel, till now size is still 32x32 of image, even though channels have increased\n",
    "            nn.MaxPool2d(2,2), # size reduced to 4x4\n",
    "            \n",
    "            nn.Flatten(),\n",
    "            nn.Linear(256*4*4,1024),\n",
    "            nn.ReLU(),\n",
    "            nn.Linear(1024,512),\n",
    "            nn.ReLU(),\n",
    "            nn.Linear(512,10)\n",
    "        )\n",
    "    def forward(self,X_batch):\n",
    "        return self.net(X_batch)"
   ]
  },
  {
   "cell_type": "code",
   "execution_count": 25,
   "metadata": {
    "colab": {
     "base_uri": "https://localhost:8080/"
    },
    "id": "Vcpv0gb72k_M",
    "outputId": "0c24d0e2-b0ef-436f-f03c-0c51ba629c45"
   },
   "outputs": [
    {
     "data": {
      "text/plain": [
       "CIFAR10Model(\n",
       "  (net): Sequential(\n",
       "    (0): Conv2d(3, 32, kernel_size=(3, 3), stride=(1, 1), padding=(1, 1))\n",
       "    (1): ReLU()\n",
       "    (2): Conv2d(32, 64, kernel_size=(3, 3), stride=(1, 1), padding=(1, 1))\n",
       "    (3): ReLU()\n",
       "    (4): MaxPool2d(kernel_size=2, stride=2, padding=0, dilation=1, ceil_mode=False)\n",
       "    (5): Conv2d(64, 128, kernel_size=(3, 3), stride=(1, 1), padding=(1, 1))\n",
       "    (6): ReLU()\n",
       "    (7): Conv2d(128, 128, kernel_size=(3, 3), stride=(1, 1), padding=(1, 1))\n",
       "    (8): ReLU()\n",
       "    (9): MaxPool2d(kernel_size=2, stride=2, padding=0, dilation=1, ceil_mode=False)\n",
       "    (10): Conv2d(128, 256, kernel_size=(3, 3), stride=(1, 1), padding=(1, 1))\n",
       "    (11): ReLU()\n",
       "    (12): Conv2d(256, 256, kernel_size=(3, 3), stride=(1, 1), padding=(1, 1))\n",
       "    (13): ReLU()\n",
       "    (14): MaxPool2d(kernel_size=2, stride=2, padding=0, dilation=1, ceil_mode=False)\n",
       "    (15): Flatten(start_dim=1, end_dim=-1)\n",
       "    (16): Linear(in_features=4096, out_features=1024, bias=True)\n",
       "    (17): ReLU()\n",
       "    (18): Linear(in_features=1024, out_features=512, bias=True)\n",
       "    (19): ReLU()\n",
       "    (20): Linear(in_features=512, out_features=10, bias=True)\n",
       "  )\n",
       ")"
      ]
     },
     "execution_count": 25,
     "metadata": {
      "tags": []
     },
     "output_type": "execute_result"
    }
   ],
   "source": [
    "model = CIFAR10Model()\n",
    "model\n",
    "to_device(model,device)"
   ]
  },
  {
   "cell_type": "code",
   "execution_count": 26,
   "metadata": {
    "colab": {
     "base_uri": "https://localhost:8080/"
    },
    "id": "HA3ykmHo2k_M",
    "outputId": "1eaa836e-9f52-483d-f474-5cd401a671e5"
   },
   "outputs": [
    {
     "name": "stdout",
     "output_type": "stream",
     "text": [
      "images.shape: torch.Size([128, 3, 32, 32])\n",
      "out.shape: torch.Size([128, 10])\n",
      "out[0]: tensor([-0.0173,  0.0004,  0.0149,  0.0369,  0.0319,  0.0140,  0.0062,  0.0222,\n",
      "        -0.0055,  0.0178], device='cuda:0', grad_fn=<SelectBackward>)\n"
     ]
    }
   ],
   "source": [
    "for images, labels in train_loader:\n",
    "    print('images.shape:', images.shape)\n",
    "    out = model(images)\n",
    "    print('out.shape:', out.shape)\n",
    "    print('out[0]:', out[0])\n",
    "    break"
   ]
  },
  {
   "cell_type": "code",
   "execution_count": 27,
   "metadata": {
    "id": "Nd4g6t9C2k_N"
   },
   "outputs": [],
   "source": [
    "def evaluate(model,loader):\n",
    "    out = [model.valid_step(batch) for batch in loader]\n",
    "    batch_loss = [x['loss'] for x in out]\n",
    "    batch_acc  = [x['acc'] for x in out]\n",
    "    epoch_loss = torch.stack(batch_loss).mean()\n",
    "    epoch_acc  = torch.stack(batch_acc).mean()\n",
    "    print(f\"loss is {epoch_loss} and acc is {epoch_acc}\")"
   ]
  },
  {
   "cell_type": "code",
   "execution_count": 28,
   "metadata": {
    "id": "Lqn1xhkz2k_N"
   },
   "outputs": [],
   "source": [
    "def train(model,train_loader,valid_loader,num_epochs=10,lr=0.01,optim_func=torch.optim.SGD):\n",
    "    optim = optim_func(model.parameters(),lr)\n",
    "    for epoch in range(num_epochs):\n",
    "        for batch in train_loader:\n",
    "            loss = model.train_step(batch)\n",
    "            loss.backward()\n",
    "            optim.step()\n",
    "            optim.zero_grad()\n",
    "        evaluate(model,valid_loader)"
   ]
  },
  {
   "cell_type": "code",
   "execution_count": 29,
   "metadata": {
    "colab": {
     "base_uri": "https://localhost:8080/"
    },
    "id": "AjNiHU8f2k_N",
    "outputId": "fb8bbc89-ff12-409d-8d2f-2a5fc8b803be"
   },
   "outputs": [
    {
     "name": "stdout",
     "output_type": "stream",
     "text": [
      "loss is 2.302569627761841 and acc is 0.1067095547914505\n"
     ]
    }
   ],
   "source": [
    "evaluate(model,valid_loader)"
   ]
  },
  {
   "cell_type": "code",
   "execution_count": 30,
   "metadata": {
    "colab": {
     "base_uri": "https://localhost:8080/"
    },
    "id": "ihtoiUQR3q_7",
    "outputId": "ca0a0688-a739-4e9d-dbc0-b409cc4c740b"
   },
   "outputs": [
    {
     "name": "stdout",
     "output_type": "stream",
     "text": [
      "loss is 1.497259497642517 and acc is 0.45211395621299744\n",
      "loss is 1.2265287637710571 and acc is 0.5576746463775635\n",
      "loss is 1.0043538808822632 and acc is 0.6428998112678528\n",
      "loss is 0.8604998588562012 and acc is 0.6948643922805786\n",
      "loss is 0.7595627903938293 and acc is 0.7329388856887817\n"
     ]
    }
   ],
   "source": [
    "train(model,train_loader,valid_loader,5,0.001,torch.optim.Adam)"
   ]
  },
  {
   "cell_type": "code",
   "execution_count": 31,
   "metadata": {
    "colab": {
     "base_uri": "https://localhost:8080/"
    },
    "id": "XBzZ66Po4Qlb",
    "outputId": "a5e43089-1bf4-459f-e258-caa38540f462"
   },
   "outputs": [
    {
     "name": "stdout",
     "output_type": "stream",
     "text": [
      "loss is 0.7074953317642212 and acc is 0.7591682076454163\n",
      "loss is 0.7069641947746277 and acc is 0.763051450252533\n",
      "loss is 0.7104300260543823 and acc is 0.759604811668396\n",
      "loss is 0.7101128101348877 and acc is 0.761017918586731\n",
      "loss is 0.7262405753135681 and acc is 0.7569622993469238\n"
     ]
    }
   ],
   "source": [
    "train(model,train_loader,valid_loader,5,0.0001,torch.optim.Adam)"
   ]
  },
  {
   "cell_type": "code",
   "execution_count": 32,
   "metadata": {
    "colab": {
     "base_uri": "https://localhost:8080/"
    },
    "id": "eb8KVdTQ4e_z",
    "outputId": "ac1b72cd-2072-4cab-f4af-acf9d1478932"
   },
   "outputs": [
    {
     "name": "stdout",
     "output_type": "stream",
     "text": [
      "loss is 0.7263638377189636 and acc is 0.7604089975357056\n",
      "loss is 0.7312187552452087 and acc is 0.7609260082244873\n",
      "loss is 0.7328195571899414 and acc is 0.7636833786964417\n"
     ]
    }
   ],
   "source": [
    "train(model,train_loader,valid_loader,3,0.00001,torch.optim.Adam)"
   ]
  },
  {
   "cell_type": "code",
   "execution_count": 34,
   "metadata": {
    "colab": {
     "base_uri": "https://localhost:8080/"
    },
    "id": "NkrjGjVq4s3a",
    "outputId": "9a33841e-7c69-4e95-b05d-727ff9a0bb95"
   },
   "outputs": [
    {
     "name": "stdout",
     "output_type": "stream",
     "text": [
      "loss is 0.7328195571899414 and acc is 0.7636833786964417\n"
     ]
    }
   ],
   "source": [
    "evaluate(model,valid_loader)"
   ]
  },
  {
   "cell_type": "code",
   "execution_count": 35,
   "metadata": {
    "colab": {
     "base_uri": "https://localhost:8080/"
    },
    "id": "wfgM5Wkl5CB5",
    "outputId": "a36ea5bf-b76a-4dc5-a680-fd968cc3232f"
   },
   "outputs": [
    {
     "name": "stdout",
     "output_type": "stream",
     "text": [
      "loss is 0.7351624369621277 and acc is 0.7634420990943909\n",
      "loss is 0.7372557520866394 and acc is 0.7628791332244873\n",
      "loss is 0.7398781180381775 and acc is 0.7634650468826294\n"
     ]
    }
   ],
   "source": [
    "train(model,train_loader,valid_loader,3,0.00001,torch.optim.Adam)"
   ]
  },
  {
   "cell_type": "code",
   "execution_count": 64,
   "metadata": {
    "id": "o6Ui9wY45MoR"
   },
   "outputs": [],
   "source": [
    "#that's it, we cannot go above 76.36% accuracy with this model\n",
    "image,label = test_dataset[0]"
   ]
  },
  {
   "cell_type": "code",
   "execution_count": 65,
   "metadata": {
    "colab": {
     "base_uri": "https://localhost:8080/"
    },
    "id": "rTiRGs1S5eoY",
    "outputId": "1c79c19a-78f3-445b-c0bd-f24d075ff651"
   },
   "outputs": [
    {
     "data": {
      "text/plain": [
       "torch.Size([3, 32, 32])"
      ]
     },
     "execution_count": 65,
     "metadata": {
      "tags": []
     },
     "output_type": "execute_result"
    }
   ],
   "source": [
    "image.shape"
   ]
  },
  {
   "cell_type": "code",
   "execution_count": 66,
   "metadata": {
    "id": "L24ONWS05lQh"
   },
   "outputs": [],
   "source": [
    "image = image.unsqueeze(0)"
   ]
  },
  {
   "cell_type": "code",
   "execution_count": 67,
   "metadata": {
    "colab": {
     "base_uri": "https://localhost:8080/"
    },
    "id": "byBj8Kiw5zsB",
    "outputId": "6546e1ed-d759-4c45-cad1-016f612da893"
   },
   "outputs": [
    {
     "data": {
      "text/plain": [
       "torch.Size([1, 3, 32, 32])"
      ]
     },
     "execution_count": 67,
     "metadata": {
      "tags": []
     },
     "output_type": "execute_result"
    }
   ],
   "source": [
    "image.shape"
   ]
  },
  {
   "cell_type": "code",
   "execution_count": 68,
   "metadata": {
    "id": "ymK2TCtq507g"
   },
   "outputs": [],
   "source": [
    "image = to_device(image,device)"
   ]
  },
  {
   "cell_type": "code",
   "execution_count": 69,
   "metadata": {
    "id": "FVWvQQ4O58ai"
   },
   "outputs": [],
   "source": [
    "pred = model(image)"
   ]
  },
  {
   "cell_type": "code",
   "execution_count": 70,
   "metadata": {
    "id": "mvECqeT75_yR"
   },
   "outputs": [],
   "source": [
    "_,pred_label = torch.max(pred,dim=1)"
   ]
  },
  {
   "cell_type": "code",
   "execution_count": 71,
   "metadata": {
    "colab": {
     "base_uri": "https://localhost:8080/"
    },
    "id": "kWSyQ8zo6FPZ",
    "outputId": "a834a692-ecae-4d03-9c4f-67e90b1ae2c7"
   },
   "outputs": [
    {
     "data": {
      "text/plain": [
       "3"
      ]
     },
     "execution_count": 71,
     "metadata": {
      "tags": []
     },
     "output_type": "execute_result"
    }
   ],
   "source": [
    "pred_label[0].item()"
   ]
  },
  {
   "cell_type": "code",
   "execution_count": 72,
   "metadata": {
    "colab": {
     "base_uri": "https://localhost:8080/",
     "height": 35
    },
    "id": "YeM3epQb6MNJ",
    "outputId": "abe1422d-303f-4b41-c324-081dc7d10df7"
   },
   "outputs": [
    {
     "data": {
      "application/vnd.google.colaboratory.intrinsic+json": {
       "type": "string"
      },
      "text/plain": [
       "'cat'"
      ]
     },
     "execution_count": 72,
     "metadata": {
      "tags": []
     },
     "output_type": "execute_result"
    }
   ],
   "source": [
    "dataset.classes[pred_label[0].item()]"
   ]
  },
  {
   "cell_type": "code",
   "execution_count": 73,
   "metadata": {
    "colab": {
     "base_uri": "https://localhost:8080/",
     "height": 285
    },
    "id": "SeHAJZnR6Wln",
    "outputId": "240e636f-701c-43c7-c6d6-0e3aaff58fa9"
   },
   "outputs": [
    {
     "name": "stdout",
     "output_type": "stream",
     "text": [
      "Actual:cat, Predicted:cat\n"
     ]
    },
    {
     "data": {
      "image/png": "[encoded data removed]",
      "text/plain": [
       "<Figure size 432x288 with 1 Axes>"
      ]
     },
     "metadata": {
      "needs_background": "light",
      "tags": []
     },
     "output_type": "display_data"
    }
   ],
   "source": [
    "image,label = test_dataset[0]\n",
    "plt.imshow(image.permute(1,2,0))\n",
    "print(f\"Actual:{dataset.classes[label]}, Predicted:{dataset.classes[pred_label[0].item()]}\")"
   ]
  },
  {
   "cell_type": "code",
   "execution_count": null,
   "metadata": {
    "id": "21IKJLy97IxO"
   },
   "outputs": [],
   "source": []
  }
 ],
 "metadata": {
  "accelerator": "GPU",
  "colab": {
   "collapsed_sections": [],
   "name": "CIFAR10CNN.ipynb",
   "provenance": []
  },
  "kernelspec": {
   "display_name": "Python 3",
   "language": "python",
   "name": "python3"
  },
  "language_info": {
   "codemirror_mode": {
    "name": "ipython",
    "version": 3
   },
   "file_extension": ".py",
   "mimetype": "text/x-python",
   "name": "python",
   "nbconvert_exporter": "python",
   "pygments_lexer": "ipython3",
   "version": "3.8.5"
  }
 },
 "nbformat": 4,
 "nbformat_minor": 1
}
