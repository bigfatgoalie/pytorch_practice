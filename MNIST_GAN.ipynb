{
  "nbformat": 4,
  "nbformat_minor": 0,
  "metadata": {
    "colab": {
      "name": "MNIST_GAN.ipynb",
      "provenance": []
    },
    "kernelspec": {
      "name": "python3",
      "display_name": "Python 3"
    },
    "accelerator": "GPU",
    "widgets": {
      "application/vnd.jupyter.widget-state+json": {
        "d2d6f807c2b340fe8ad57e3a6288000a": {
          "model_module": "@jupyter-widgets/controls",
          "model_name": "HBoxModel",
          "state": {
            "_view_name": "HBoxView",
            "_dom_classes": [],
            "_model_name": "HBoxModel",
            "_view_module": "@jupyter-widgets/controls",
            "_model_module_version": "1.5.0",
            "_view_count": null,
            "_view_module_version": "1.5.0",
            "box_style": "",
            "layout": "IPY_MODEL_fcc0412724da461d995fdab3fc336311",
            "_model_module": "@jupyter-widgets/controls",
            "children": [
              "IPY_MODEL_3c630e3cf8a94b44a75fc6f05d8711d4",
              "IPY_MODEL_27369ce1f7944a9680ab17a953cca967"
            ]
          }
        },
        "fcc0412724da461d995fdab3fc336311": {
          "model_module": "@jupyter-widgets/base",
          "model_name": "LayoutModel",
          "state": {
            "_view_name": "LayoutView",
            "grid_template_rows": null,
            "right": null,
            "justify_content": null,
            "_view_module": "@jupyter-widgets/base",
            "overflow": null,
            "_model_module_version": "1.2.0",
            "_view_count": null,
            "flex_flow": null,
            "width": null,
            "min_width": null,
            "border": null,
            "align_items": null,
            "bottom": null,
            "_model_module": "@jupyter-widgets/base",
            "top": null,
            "grid_column": null,
            "overflow_y": null,
            "overflow_x": null,
            "grid_auto_flow": null,
            "grid_area": null,
            "grid_template_columns": null,
            "flex": null,
            "_model_name": "LayoutModel",
            "justify_items": null,
            "grid_row": null,
            "max_height": null,
            "align_content": null,
            "visibility": null,
            "align_self": null,
            "height": null,
            "min_height": null,
            "padding": null,
            "grid_auto_rows": null,
            "grid_gap": null,
            "max_width": null,
            "order": null,
            "_view_module_version": "1.2.0",
            "grid_template_areas": null,
            "object_position": null,
            "object_fit": null,
            "grid_auto_columns": null,
            "margin": null,
            "display": null,
            "left": null
          }
        },
        "3c630e3cf8a94b44a75fc6f05d8711d4": {
          "model_module": "@jupyter-widgets/controls",
          "model_name": "FloatProgressModel",
          "state": {
            "_view_name": "ProgressView",
            "style": "IPY_MODEL_6458bb4bcfd44421844d558d5749fc45",
            "_dom_classes": [],
            "description": "",
            "_model_name": "FloatProgressModel",
            "bar_style": "success",
            "max": 1,
            "_view_module": "@jupyter-widgets/controls",
            "_model_module_version": "1.5.0",
            "value": 1,
            "_view_count": null,
            "_view_module_version": "1.5.0",
            "orientation": "horizontal",
            "min": 0,
            "description_tooltip": null,
            "_model_module": "@jupyter-widgets/controls",
            "layout": "IPY_MODEL_56ef85b60d274609a638b89facf5da88"
          }
        },
        "27369ce1f7944a9680ab17a953cca967": {
          "model_module": "@jupyter-widgets/controls",
          "model_name": "HTMLModel",
          "state": {
            "_view_name": "HTMLView",
            "style": "IPY_MODEL_5b434ea2aede4384a3118a81c5c8c63b",
            "_dom_classes": [],
            "description": "",
            "_model_name": "HTMLModel",
            "placeholder": "​",
            "_view_module": "@jupyter-widgets/controls",
            "_model_module_version": "1.5.0",
            "value": " 9920512/? [00:05&lt;00:00, 1760687.37it/s]",
            "_view_count": null,
            "_view_module_version": "1.5.0",
            "description_tooltip": null,
            "_model_module": "@jupyter-widgets/controls",
            "layout": "IPY_MODEL_b7c0998c6c2548a6ab380af63f31eb50"
          }
        },
        "6458bb4bcfd44421844d558d5749fc45": {
          "model_module": "@jupyter-widgets/controls",
          "model_name": "ProgressStyleModel",
          "state": {
            "_view_name": "StyleView",
            "_model_name": "ProgressStyleModel",
            "description_width": "initial",
            "_view_module": "@jupyter-widgets/base",
            "_model_module_version": "1.5.0",
            "_view_count": null,
            "_view_module_version": "1.2.0",
            "bar_color": null,
            "_model_module": "@jupyter-widgets/controls"
          }
        },
        "56ef85b60d274609a638b89facf5da88": {
          "model_module": "@jupyter-widgets/base",
          "model_name": "LayoutModel",
          "state": {
            "_view_name": "LayoutView",
            "grid_template_rows": null,
            "right": null,
            "justify_content": null,
            "_view_module": "@jupyter-widgets/base",
            "overflow": null,
            "_model_module_version": "1.2.0",
            "_view_count": null,
            "flex_flow": null,
            "width": null,
            "min_width": null,
            "border": null,
            "align_items": null,
            "bottom": null,
            "_model_module": "@jupyter-widgets/base",
            "top": null,
            "grid_column": null,
            "overflow_y": null,
            "overflow_x": null,
            "grid_auto_flow": null,
            "grid_area": null,
            "grid_template_columns": null,
            "flex": null,
            "_model_name": "LayoutModel",
            "justify_items": null,
            "grid_row": null,
            "max_height": null,
            "align_content": null,
            "visibility": null,
            "align_self": null,
            "height": null,
            "min_height": null,
            "padding": null,
            "grid_auto_rows": null,
            "grid_gap": null,
            "max_width": null,
            "order": null,
            "_view_module_version": "1.2.0",
            "grid_template_areas": null,
            "object_position": null,
            "object_fit": null,
            "grid_auto_columns": null,
            "margin": null,
            "display": null,
            "left": null
          }
        },
        "5b434ea2aede4384a3118a81c5c8c63b": {
          "model_module": "@jupyter-widgets/controls",
          "model_name": "DescriptionStyleModel",
          "state": {
            "_view_name": "StyleView",
            "_model_name": "DescriptionStyleModel",
            "description_width": "",
            "_view_module": "@jupyter-widgets/base",
            "_model_module_version": "1.5.0",
            "_view_count": null,
            "_view_module_version": "1.2.0",
            "_model_module": "@jupyter-widgets/controls"
          }
        },
        "b7c0998c6c2548a6ab380af63f31eb50": {
          "model_module": "@jupyter-widgets/base",
          "model_name": "LayoutModel",
          "state": {
            "_view_name": "LayoutView",
            "grid_template_rows": null,
            "right": null,
            "justify_content": null,
            "_view_module": "@jupyter-widgets/base",
            "overflow": null,
            "_model_module_version": "1.2.0",
            "_view_count": null,
            "flex_flow": null,
            "width": null,
            "min_width": null,
            "border": null,
            "align_items": null,
            "bottom": null,
            "_model_module": "@jupyter-widgets/base",
            "top": null,
            "grid_column": null,
            "overflow_y": null,
            "overflow_x": null,
            "grid_auto_flow": null,
            "grid_area": null,
            "grid_template_columns": null,
            "flex": null,
            "_model_name": "LayoutModel",
            "justify_items": null,
            "grid_row": null,
            "max_height": null,
            "align_content": null,
            "visibility": null,
            "align_self": null,
            "height": null,
            "min_height": null,
            "padding": null,
            "grid_auto_rows": null,
            "grid_gap": null,
            "max_width": null,
            "order": null,
            "_view_module_version": "1.2.0",
            "grid_template_areas": null,
            "object_position": null,
            "object_fit": null,
            "grid_auto_columns": null,
            "margin": null,
            "display": null,
            "left": null
          }
        },
        "273ebbe11ad54a2e85d9fb8f5ef24085": {
          "model_module": "@jupyter-widgets/controls",
          "model_name": "HBoxModel",
          "state": {
            "_view_name": "HBoxView",
            "_dom_classes": [],
            "_model_name": "HBoxModel",
            "_view_module": "@jupyter-widgets/controls",
            "_model_module_version": "1.5.0",
            "_view_count": null,
            "_view_module_version": "1.5.0",
            "box_style": "",
            "layout": "IPY_MODEL_fae879d584ee4afc85c4219d3df5aa8d",
            "_model_module": "@jupyter-widgets/controls",
            "children": [
              "IPY_MODEL_f2cc9b5e703149ca8c873d552f601fcb",
              "IPY_MODEL_e0897960a32641d8a92a03915027f6bc"
            ]
          }
        },
        "fae879d584ee4afc85c4219d3df5aa8d": {
          "model_module": "@jupyter-widgets/base",
          "model_name": "LayoutModel",
          "state": {
            "_view_name": "LayoutView",
            "grid_template_rows": null,
            "right": null,
            "justify_content": null,
            "_view_module": "@jupyter-widgets/base",
            "overflow": null,
            "_model_module_version": "1.2.0",
            "_view_count": null,
            "flex_flow": null,
            "width": null,
            "min_width": null,
            "border": null,
            "align_items": null,
            "bottom": null,
            "_model_module": "@jupyter-widgets/base",
            "top": null,
            "grid_column": null,
            "overflow_y": null,
            "overflow_x": null,
            "grid_auto_flow": null,
            "grid_area": null,
            "grid_template_columns": null,
            "flex": null,
            "_model_name": "LayoutModel",
            "justify_items": null,
            "grid_row": null,
            "max_height": null,
            "align_content": null,
            "visibility": null,
            "align_self": null,
            "height": null,
            "min_height": null,
            "padding": null,
            "grid_auto_rows": null,
            "grid_gap": null,
            "max_width": null,
            "order": null,
            "_view_module_version": "1.2.0",
            "grid_template_areas": null,
            "object_position": null,
            "object_fit": null,
            "grid_auto_columns": null,
            "margin": null,
            "display": null,
            "left": null
          }
        },
        "f2cc9b5e703149ca8c873d552f601fcb": {
          "model_module": "@jupyter-widgets/controls",
          "model_name": "FloatProgressModel",
          "state": {
            "_view_name": "ProgressView",
            "style": "IPY_MODEL_85ab3441e03c41719fccd3099a0128f8",
            "_dom_classes": [],
            "description": "",
            "_model_name": "FloatProgressModel",
            "bar_style": "success",
            "max": 1,
            "_view_module": "@jupyter-widgets/controls",
            "_model_module_version": "1.5.0",
            "value": 1,
            "_view_count": null,
            "_view_module_version": "1.5.0",
            "orientation": "horizontal",
            "min": 0,
            "description_tooltip": null,
            "_model_module": "@jupyter-widgets/controls",
            "layout": "IPY_MODEL_8d6df65628e24903af549fed63990cea"
          }
        },
        "e0897960a32641d8a92a03915027f6bc": {
          "model_module": "@jupyter-widgets/controls",
          "model_name": "HTMLModel",
          "state": {
            "_view_name": "HTMLView",
            "style": "IPY_MODEL_02466f3423f4464286ccddd24238ec87",
            "_dom_classes": [],
            "description": "",
            "_model_name": "HTMLModel",
            "placeholder": "​",
            "_view_module": "@jupyter-widgets/controls",
            "_model_module_version": "1.5.0",
            "value": " 32768/? [00:00&lt;00:00, 118390.31it/s]",
            "_view_count": null,
            "_view_module_version": "1.5.0",
            "description_tooltip": null,
            "_model_module": "@jupyter-widgets/controls",
            "layout": "IPY_MODEL_a059a4aa4ecf4d69b1d5487c6ab18e4c"
          }
        },
        "85ab3441e03c41719fccd3099a0128f8": {
          "model_module": "@jupyter-widgets/controls",
          "model_name": "ProgressStyleModel",
          "state": {
            "_view_name": "StyleView",
            "_model_name": "ProgressStyleModel",
            "description_width": "initial",
            "_view_module": "@jupyter-widgets/base",
            "_model_module_version": "1.5.0",
            "_view_count": null,
            "_view_module_version": "1.2.0",
            "bar_color": null,
            "_model_module": "@jupyter-widgets/controls"
          }
        },
        "8d6df65628e24903af549fed63990cea": {
          "model_module": "@jupyter-widgets/base",
          "model_name": "LayoutModel",
          "state": {
            "_view_name": "LayoutView",
            "grid_template_rows": null,
            "right": null,
            "justify_content": null,
            "_view_module": "@jupyter-widgets/base",
            "overflow": null,
            "_model_module_version": "1.2.0",
            "_view_count": null,
            "flex_flow": null,
            "width": null,
            "min_width": null,
            "border": null,
            "align_items": null,
            "bottom": null,
            "_model_module": "@jupyter-widgets/base",
            "top": null,
            "grid_column": null,
            "overflow_y": null,
            "overflow_x": null,
            "grid_auto_flow": null,
            "grid_area": null,
            "grid_template_columns": null,
            "flex": null,
            "_model_name": "LayoutModel",
            "justify_items": null,
            "grid_row": null,
            "max_height": null,
            "align_content": null,
            "visibility": null,
            "align_self": null,
            "height": null,
            "min_height": null,
            "padding": null,
            "grid_auto_rows": null,
            "grid_gap": null,
            "max_width": null,
            "order": null,
            "_view_module_version": "1.2.0",
            "grid_template_areas": null,
            "object_position": null,
            "object_fit": null,
            "grid_auto_columns": null,
            "margin": null,
            "display": null,
            "left": null
          }
        },
        "02466f3423f4464286ccddd24238ec87": {
          "model_module": "@jupyter-widgets/controls",
          "model_name": "DescriptionStyleModel",
          "state": {
            "_view_name": "StyleView",
            "_model_name": "DescriptionStyleModel",
            "description_width": "",
            "_view_module": "@jupyter-widgets/base",
            "_model_module_version": "1.5.0",
            "_view_count": null,
            "_view_module_version": "1.2.0",
            "_model_module": "@jupyter-widgets/controls"
          }
        },
        "a059a4aa4ecf4d69b1d5487c6ab18e4c": {
          "model_module": "@jupyter-widgets/base",
          "model_name": "LayoutModel",
          "state": {
            "_view_name": "LayoutView",
            "grid_template_rows": null,
            "right": null,
            "justify_content": null,
            "_view_module": "@jupyter-widgets/base",
            "overflow": null,
            "_model_module_version": "1.2.0",
            "_view_count": null,
            "flex_flow": null,
            "width": null,
            "min_width": null,
            "border": null,
            "align_items": null,
            "bottom": null,
            "_model_module": "@jupyter-widgets/base",
            "top": null,
            "grid_column": null,
            "overflow_y": null,
            "overflow_x": null,
            "grid_auto_flow": null,
            "grid_area": null,
            "grid_template_columns": null,
            "flex": null,
            "_model_name": "LayoutModel",
            "justify_items": null,
            "grid_row": null,
            "max_height": null,
            "align_content": null,
            "visibility": null,
            "align_self": null,
            "height": null,
            "min_height": null,
            "padding": null,
            "grid_auto_rows": null,
            "grid_gap": null,
            "max_width": null,
            "order": null,
            "_view_module_version": "1.2.0",
            "grid_template_areas": null,
            "object_position": null,
            "object_fit": null,
            "grid_auto_columns": null,
            "margin": null,
            "display": null,
            "left": null
          }
        },
        "1f25daef802a48428b1524e990c601a5": {
          "model_module": "@jupyter-widgets/controls",
          "model_name": "HBoxModel",
          "state": {
            "_view_name": "HBoxView",
            "_dom_classes": [],
            "_model_name": "HBoxModel",
            "_view_module": "@jupyter-widgets/controls",
            "_model_module_version": "1.5.0",
            "_view_count": null,
            "_view_module_version": "1.5.0",
            "box_style": "",
            "layout": "IPY_MODEL_48373ae1f2f542d781698336c98bd816",
            "_model_module": "@jupyter-widgets/controls",
            "children": [
              "IPY_MODEL_054f5a6777bd415fa571b0e325f107d9",
              "IPY_MODEL_5e2f100c61b841479f605df108137993"
            ]
          }
        },
        "48373ae1f2f542d781698336c98bd816": {
          "model_module": "@jupyter-widgets/base",
          "model_name": "LayoutModel",
          "state": {
            "_view_name": "LayoutView",
            "grid_template_rows": null,
            "right": null,
            "justify_content": null,
            "_view_module": "@jupyter-widgets/base",
            "overflow": null,
            "_model_module_version": "1.2.0",
            "_view_count": null,
            "flex_flow": null,
            "width": null,
            "min_width": null,
            "border": null,
            "align_items": null,
            "bottom": null,
            "_model_module": "@jupyter-widgets/base",
            "top": null,
            "grid_column": null,
            "overflow_y": null,
            "overflow_x": null,
            "grid_auto_flow": null,
            "grid_area": null,
            "grid_template_columns": null,
            "flex": null,
            "_model_name": "LayoutModel",
            "justify_items": null,
            "grid_row": null,
            "max_height": null,
            "align_content": null,
            "visibility": null,
            "align_self": null,
            "height": null,
            "min_height": null,
            "padding": null,
            "grid_auto_rows": null,
            "grid_gap": null,
            "max_width": null,
            "order": null,
            "_view_module_version": "1.2.0",
            "grid_template_areas": null,
            "object_position": null,
            "object_fit": null,
            "grid_auto_columns": null,
            "margin": null,
            "display": null,
            "left": null
          }
        },
        "054f5a6777bd415fa571b0e325f107d9": {
          "model_module": "@jupyter-widgets/controls",
          "model_name": "FloatProgressModel",
          "state": {
            "_view_name": "ProgressView",
            "style": "IPY_MODEL_019d178692324f31b075942e8de7bb5d",
            "_dom_classes": [],
            "description": "",
            "_model_name": "FloatProgressModel",
            "bar_style": "success",
            "max": 1,
            "_view_module": "@jupyter-widgets/controls",
            "_model_module_version": "1.5.0",
            "value": 1,
            "_view_count": null,
            "_view_module_version": "1.5.0",
            "orientation": "horizontal",
            "min": 0,
            "description_tooltip": null,
            "_model_module": "@jupyter-widgets/controls",
            "layout": "IPY_MODEL_13d796f0796542e99968cd95b98df3c3"
          }
        },
        "5e2f100c61b841479f605df108137993": {
          "model_module": "@jupyter-widgets/controls",
          "model_name": "HTMLModel",
          "state": {
            "_view_name": "HTMLView",
            "style": "IPY_MODEL_9e3355b2f2044ec5b40380d404cef545",
            "_dom_classes": [],
            "description": "",
            "_model_name": "HTMLModel",
            "placeholder": "​",
            "_view_module": "@jupyter-widgets/controls",
            "_model_module_version": "1.5.0",
            "value": " 1654784/? [00:01&lt;00:00, 1238029.09it/s]",
            "_view_count": null,
            "_view_module_version": "1.5.0",
            "description_tooltip": null,
            "_model_module": "@jupyter-widgets/controls",
            "layout": "IPY_MODEL_487d7991cd114a90931302de6482b466"
          }
        },
        "019d178692324f31b075942e8de7bb5d": {
          "model_module": "@jupyter-widgets/controls",
          "model_name": "ProgressStyleModel",
          "state": {
            "_view_name": "StyleView",
            "_model_name": "ProgressStyleModel",
            "description_width": "initial",
            "_view_module": "@jupyter-widgets/base",
            "_model_module_version": "1.5.0",
            "_view_count": null,
            "_view_module_version": "1.2.0",
            "bar_color": null,
            "_model_module": "@jupyter-widgets/controls"
          }
        },
        "13d796f0796542e99968cd95b98df3c3": {
          "model_module": "@jupyter-widgets/base",
          "model_name": "LayoutModel",
          "state": {
            "_view_name": "LayoutView",
            "grid_template_rows": null,
            "right": null,
            "justify_content": null,
            "_view_module": "@jupyter-widgets/base",
            "overflow": null,
            "_model_module_version": "1.2.0",
            "_view_count": null,
            "flex_flow": null,
            "width": null,
            "min_width": null,
            "border": null,
            "align_items": null,
            "bottom": null,
            "_model_module": "@jupyter-widgets/base",
            "top": null,
            "grid_column": null,
            "overflow_y": null,
            "overflow_x": null,
            "grid_auto_flow": null,
            "grid_area": null,
            "grid_template_columns": null,
            "flex": null,
            "_model_name": "LayoutModel",
            "justify_items": null,
            "grid_row": null,
            "max_height": null,
            "align_content": null,
            "visibility": null,
            "align_self": null,
            "height": null,
            "min_height": null,
            "padding": null,
            "grid_auto_rows": null,
            "grid_gap": null,
            "max_width": null,
            "order": null,
            "_view_module_version": "1.2.0",
            "grid_template_areas": null,
            "object_position": null,
            "object_fit": null,
            "grid_auto_columns": null,
            "margin": null,
            "display": null,
            "left": null
          }
        },
        "9e3355b2f2044ec5b40380d404cef545": {
          "model_module": "@jupyter-widgets/controls",
          "model_name": "DescriptionStyleModel",
          "state": {
            "_view_name": "StyleView",
            "_model_name": "DescriptionStyleModel",
            "description_width": "",
            "_view_module": "@jupyter-widgets/base",
            "_model_module_version": "1.5.0",
            "_view_count": null,
            "_view_module_version": "1.2.0",
            "_model_module": "@jupyter-widgets/controls"
          }
        },
        "487d7991cd114a90931302de6482b466": {
          "model_module": "@jupyter-widgets/base",
          "model_name": "LayoutModel",
          "state": {
            "_view_name": "LayoutView",
            "grid_template_rows": null,
            "right": null,
            "justify_content": null,
            "_view_module": "@jupyter-widgets/base",
            "overflow": null,
            "_model_module_version": "1.2.0",
            "_view_count": null,
            "flex_flow": null,
            "width": null,
            "min_width": null,
            "border": null,
            "align_items": null,
            "bottom": null,
            "_model_module": "@jupyter-widgets/base",
            "top": null,
            "grid_column": null,
            "overflow_y": null,
            "overflow_x": null,
            "grid_auto_flow": null,
            "grid_area": null,
            "grid_template_columns": null,
            "flex": null,
            "_model_name": "LayoutModel",
            "justify_items": null,
            "grid_row": null,
            "max_height": null,
            "align_content": null,
            "visibility": null,
            "align_self": null,
            "height": null,
            "min_height": null,
            "padding": null,
            "grid_auto_rows": null,
            "grid_gap": null,
            "max_width": null,
            "order": null,
            "_view_module_version": "1.2.0",
            "grid_template_areas": null,
            "object_position": null,
            "object_fit": null,
            "grid_auto_columns": null,
            "margin": null,
            "display": null,
            "left": null
          }
        },
        "fa5eb55cb30b423f9f3e67e203efef09": {
          "model_module": "@jupyter-widgets/controls",
          "model_name": "HBoxModel",
          "state": {
            "_view_name": "HBoxView",
            "_dom_classes": [],
            "_model_name": "HBoxModel",
            "_view_module": "@jupyter-widgets/controls",
            "_model_module_version": "1.5.0",
            "_view_count": null,
            "_view_module_version": "1.5.0",
            "box_style": "",
            "layout": "IPY_MODEL_65e78f0b7cbd4b42b1eab7384ee92f8e",
            "_model_module": "@jupyter-widgets/controls",
            "children": [
              "IPY_MODEL_823a6bfb08b34d039a90861304edffd7",
              "IPY_MODEL_ba9ba2b623474b41a7e2593fa5bdff6e"
            ]
          }
        },
        "65e78f0b7cbd4b42b1eab7384ee92f8e": {
          "model_module": "@jupyter-widgets/base",
          "model_name": "LayoutModel",
          "state": {
            "_view_name": "LayoutView",
            "grid_template_rows": null,
            "right": null,
            "justify_content": null,
            "_view_module": "@jupyter-widgets/base",
            "overflow": null,
            "_model_module_version": "1.2.0",
            "_view_count": null,
            "flex_flow": null,
            "width": null,
            "min_width": null,
            "border": null,
            "align_items": null,
            "bottom": null,
            "_model_module": "@jupyter-widgets/base",
            "top": null,
            "grid_column": null,
            "overflow_y": null,
            "overflow_x": null,
            "grid_auto_flow": null,
            "grid_area": null,
            "grid_template_columns": null,
            "flex": null,
            "_model_name": "LayoutModel",
            "justify_items": null,
            "grid_row": null,
            "max_height": null,
            "align_content": null,
            "visibility": null,
            "align_self": null,
            "height": null,
            "min_height": null,
            "padding": null,
            "grid_auto_rows": null,
            "grid_gap": null,
            "max_width": null,
            "order": null,
            "_view_module_version": "1.2.0",
            "grid_template_areas": null,
            "object_position": null,
            "object_fit": null,
            "grid_auto_columns": null,
            "margin": null,
            "display": null,
            "left": null
          }
        },
        "823a6bfb08b34d039a90861304edffd7": {
          "model_module": "@jupyter-widgets/controls",
          "model_name": "FloatProgressModel",
          "state": {
            "_view_name": "ProgressView",
            "style": "IPY_MODEL_e6baa58bdd1a42e7960d753ff8da9596",
            "_dom_classes": [],
            "description": "",
            "_model_name": "FloatProgressModel",
            "bar_style": "success",
            "max": 1,
            "_view_module": "@jupyter-widgets/controls",
            "_model_module_version": "1.5.0",
            "value": 1,
            "_view_count": null,
            "_view_module_version": "1.5.0",
            "orientation": "horizontal",
            "min": 0,
            "description_tooltip": null,
            "_model_module": "@jupyter-widgets/controls",
            "layout": "IPY_MODEL_9036720bd7454b22aba6075e88daac79"
          }
        },
        "ba9ba2b623474b41a7e2593fa5bdff6e": {
          "model_module": "@jupyter-widgets/controls",
          "model_name": "HTMLModel",
          "state": {
            "_view_name": "HTMLView",
            "style": "IPY_MODEL_cd5016f975024bb1b5d1ddc8d3964390",
            "_dom_classes": [],
            "description": "",
            "_model_name": "HTMLModel",
            "placeholder": "​",
            "_view_module": "@jupyter-widgets/controls",
            "_model_module_version": "1.5.0",
            "value": " 8192/? [00:00&lt;00:00, 18921.05it/s]",
            "_view_count": null,
            "_view_module_version": "1.5.0",
            "description_tooltip": null,
            "_model_module": "@jupyter-widgets/controls",
            "layout": "IPY_MODEL_6e5511e45fec436492b41cbde51d2c1b"
          }
        },
        "e6baa58bdd1a42e7960d753ff8da9596": {
          "model_module": "@jupyter-widgets/controls",
          "model_name": "ProgressStyleModel",
          "state": {
            "_view_name": "StyleView",
            "_model_name": "ProgressStyleModel",
            "description_width": "initial",
            "_view_module": "@jupyter-widgets/base",
            "_model_module_version": "1.5.0",
            "_view_count": null,
            "_view_module_version": "1.2.0",
            "bar_color": null,
            "_model_module": "@jupyter-widgets/controls"
          }
        },
        "9036720bd7454b22aba6075e88daac79": {
          "model_module": "@jupyter-widgets/base",
          "model_name": "LayoutModel",
          "state": {
            "_view_name": "LayoutView",
            "grid_template_rows": null,
            "right": null,
            "justify_content": null,
            "_view_module": "@jupyter-widgets/base",
            "overflow": null,
            "_model_module_version": "1.2.0",
            "_view_count": null,
            "flex_flow": null,
            "width": null,
            "min_width": null,
            "border": null,
            "align_items": null,
            "bottom": null,
            "_model_module": "@jupyter-widgets/base",
            "top": null,
            "grid_column": null,
            "overflow_y": null,
            "overflow_x": null,
            "grid_auto_flow": null,
            "grid_area": null,
            "grid_template_columns": null,
            "flex": null,
            "_model_name": "LayoutModel",
            "justify_items": null,
            "grid_row": null,
            "max_height": null,
            "align_content": null,
            "visibility": null,
            "align_self": null,
            "height": null,
            "min_height": null,
            "padding": null,
            "grid_auto_rows": null,
            "grid_gap": null,
            "max_width": null,
            "order": null,
            "_view_module_version": "1.2.0",
            "grid_template_areas": null,
            "object_position": null,
            "object_fit": null,
            "grid_auto_columns": null,
            "margin": null,
            "display": null,
            "left": null
          }
        },
        "cd5016f975024bb1b5d1ddc8d3964390": {
          "model_module": "@jupyter-widgets/controls",
          "model_name": "DescriptionStyleModel",
          "state": {
            "_view_name": "StyleView",
            "_model_name": "DescriptionStyleModel",
            "description_width": "",
            "_view_module": "@jupyter-widgets/base",
            "_model_module_version": "1.5.0",
            "_view_count": null,
            "_view_module_version": "1.2.0",
            "_model_module": "@jupyter-widgets/controls"
          }
        },
        "6e5511e45fec436492b41cbde51d2c1b": {
          "model_module": "@jupyter-widgets/base",
          "model_name": "LayoutModel",
          "state": {
            "_view_name": "LayoutView",
            "grid_template_rows": null,
            "right": null,
            "justify_content": null,
            "_view_module": "@jupyter-widgets/base",
            "overflow": null,
            "_model_module_version": "1.2.0",
            "_view_count": null,
            "flex_flow": null,
            "width": null,
            "min_width": null,
            "border": null,
            "align_items": null,
            "bottom": null,
            "_model_module": "@jupyter-widgets/base",
            "top": null,
            "grid_column": null,
            "overflow_y": null,
            "overflow_x": null,
            "grid_auto_flow": null,
            "grid_area": null,
            "grid_template_columns": null,
            "flex": null,
            "_model_name": "LayoutModel",
            "justify_items": null,
            "grid_row": null,
            "max_height": null,
            "align_content": null,
            "visibility": null,
            "align_self": null,
            "height": null,
            "min_height": null,
            "padding": null,
            "grid_auto_rows": null,
            "grid_gap": null,
            "max_width": null,
            "order": null,
            "_view_module_version": "1.2.0",
            "grid_template_areas": null,
            "object_position": null,
            "object_fit": null,
            "grid_auto_columns": null,
            "margin": null,
            "display": null,
            "left": null
          }
        }
      }
    }
  },
  "cells": [
    {
      "cell_type": "code",
      "metadata": {
        "id": "qXsr3YZwz5D-"
      },
      "source": [
        "import os\r\n",
        "import torch\r\n",
        "import torchvision\r\n",
        "import torch.nn as nn\r\n",
        "import torch.nn.functional as F\r\n",
        "from torchvision.transforms import ToTensor, Normalize, Compose\r\n",
        "from torchvision.utils import save_image\r\n",
        "from torchvision.datasets import MNIST\r\n",
        "from torch.utils.data import DataLoader"
      ],
      "execution_count": 1,
      "outputs": []
    },
    {
      "cell_type": "code",
      "metadata": {
        "colab": {
          "base_uri": "https://localhost:8080/",
          "height": 383,
          "referenced_widgets": [
            "d2d6f807c2b340fe8ad57e3a6288000a",
            "fcc0412724da461d995fdab3fc336311",
            "3c630e3cf8a94b44a75fc6f05d8711d4",
            "27369ce1f7944a9680ab17a953cca967",
            "6458bb4bcfd44421844d558d5749fc45",
            "56ef85b60d274609a638b89facf5da88",
            "5b434ea2aede4384a3118a81c5c8c63b",
            "b7c0998c6c2548a6ab380af63f31eb50",
            "273ebbe11ad54a2e85d9fb8f5ef24085",
            "fae879d584ee4afc85c4219d3df5aa8d",
            "f2cc9b5e703149ca8c873d552f601fcb",
            "e0897960a32641d8a92a03915027f6bc",
            "85ab3441e03c41719fccd3099a0128f8",
            "8d6df65628e24903af549fed63990cea",
            "02466f3423f4464286ccddd24238ec87",
            "a059a4aa4ecf4d69b1d5487c6ab18e4c",
            "1f25daef802a48428b1524e990c601a5",
            "48373ae1f2f542d781698336c98bd816",
            "054f5a6777bd415fa571b0e325f107d9",
            "5e2f100c61b841479f605df108137993",
            "019d178692324f31b075942e8de7bb5d",
            "13d796f0796542e99968cd95b98df3c3",
            "9e3355b2f2044ec5b40380d404cef545",
            "487d7991cd114a90931302de6482b466",
            "fa5eb55cb30b423f9f3e67e203efef09",
            "65e78f0b7cbd4b42b1eab7384ee92f8e",
            "823a6bfb08b34d039a90861304edffd7",
            "ba9ba2b623474b41a7e2593fa5bdff6e",
            "e6baa58bdd1a42e7960d753ff8da9596",
            "9036720bd7454b22aba6075e88daac79",
            "cd5016f975024bb1b5d1ddc8d3964390",
            "6e5511e45fec436492b41cbde51d2c1b"
          ]
        },
        "id": "0PS3lOfK0gZN",
        "outputId": "e1cfde47-5696-47f7-f0a5-17f9123610b9"
      },
      "source": [
        "mnist = MNIST(root='data',train=True,download=True,transform=Compose([ToTensor(),Normalize(mean=(0.5,), std=(0.5,))]))"
      ],
      "execution_count": 2,
      "outputs": [
        {
          "output_type": "stream",
          "text": [
            "Downloading http://yann.lecun.com/exdb/mnist/train-images-idx3-ubyte.gz to data/MNIST/raw/train-images-idx3-ubyte.gz\n"
          ],
          "name": "stdout"
        },
        {
          "output_type": "display_data",
          "data": {
            "application/vnd.jupyter.widget-view+json": {
              "model_id": "d2d6f807c2b340fe8ad57e3a6288000a",
              "version_minor": 0,
              "version_major": 2
            },
            "text/plain": [
              "HBox(children=(FloatProgress(value=1.0, bar_style='info', max=1.0), HTML(value='')))"
            ]
          },
          "metadata": {
            "tags": []
          }
        },
        {
          "output_type": "stream",
          "text": [
            "Extracting data/MNIST/raw/train-images-idx3-ubyte.gz to data/MNIST/raw\n",
            "Downloading http://yann.lecun.com/exdb/mnist/train-labels-idx1-ubyte.gz to data/MNIST/raw/train-labels-idx1-ubyte.gz\n"
          ],
          "name": "stdout"
        },
        {
          "output_type": "display_data",
          "data": {
            "application/vnd.jupyter.widget-view+json": {
              "model_id": "273ebbe11ad54a2e85d9fb8f5ef24085",
              "version_minor": 0,
              "version_major": 2
            },
            "text/plain": [
              "HBox(children=(FloatProgress(value=1.0, bar_style='info', max=1.0), HTML(value='')))"
            ]
          },
          "metadata": {
            "tags": []
          }
        },
        {
          "output_type": "stream",
          "text": [
            "Extracting data/MNIST/raw/train-labels-idx1-ubyte.gz to data/MNIST/raw\n",
            "Downloading http://yann.lecun.com/exdb/mnist/t10k-images-idx3-ubyte.gz to data/MNIST/raw/t10k-images-idx3-ubyte.gz\n",
            "\n"
          ],
          "name": "stdout"
        },
        {
          "output_type": "display_data",
          "data": {
            "application/vnd.jupyter.widget-view+json": {
              "model_id": "1f25daef802a48428b1524e990c601a5",
              "version_minor": 0,
              "version_major": 2
            },
            "text/plain": [
              "HBox(children=(FloatProgress(value=1.0, bar_style='info', max=1.0), HTML(value='')))"
            ]
          },
          "metadata": {
            "tags": []
          }
        },
        {
          "output_type": "stream",
          "text": [
            "Extracting data/MNIST/raw/t10k-images-idx3-ubyte.gz to data/MNIST/raw\n",
            "Downloading http://yann.lecun.com/exdb/mnist/t10k-labels-idx1-ubyte.gz to data/MNIST/raw/t10k-labels-idx1-ubyte.gz\n"
          ],
          "name": "stdout"
        },
        {
          "output_type": "display_data",
          "data": {
            "application/vnd.jupyter.widget-view+json": {
              "model_id": "fa5eb55cb30b423f9f3e67e203efef09",
              "version_minor": 0,
              "version_major": 2
            },
            "text/plain": [
              "HBox(children=(FloatProgress(value=1.0, bar_style='info', max=1.0), HTML(value='')))"
            ]
          },
          "metadata": {
            "tags": []
          }
        },
        {
          "output_type": "stream",
          "text": [
            "Extracting data/MNIST/raw/t10k-labels-idx1-ubyte.gz to data/MNIST/raw\n",
            "Processing...\n",
            "Done!\n"
          ],
          "name": "stdout"
        },
        {
          "output_type": "stream",
          "text": [
            "/usr/local/lib/python3.6/dist-packages/torchvision/datasets/mnist.py:480: UserWarning: The given NumPy array is not writeable, and PyTorch does not support non-writeable tensors. This means you can write to the underlying (supposedly non-writeable) NumPy array using the tensor. You may want to copy the array to protect its data or make it writeable before converting it to a tensor. This type of warning will be suppressed for the rest of this program. (Triggered internally at  /pytorch/torch/csrc/utils/tensor_numpy.cpp:141.)\n",
            "  return torch.from_numpy(parsed.astype(m[2], copy=False)).view(*s)\n"
          ],
          "name": "stderr"
        }
      ]
    },
    {
      "cell_type": "code",
      "metadata": {
        "id": "s2QeolZ_1Mn3"
      },
      "source": [
        "image,label = mnist[0]"
      ],
      "execution_count": 3,
      "outputs": []
    },
    {
      "cell_type": "code",
      "metadata": {
        "colab": {
          "base_uri": "https://localhost:8080/"
        },
        "id": "xeA_kcox1UmP",
        "outputId": "21feac42-f446-4ef2-adb9-00b1ee43b593"
      },
      "source": [
        "image.shape"
      ],
      "execution_count": 4,
      "outputs": [
        {
          "output_type": "execute_result",
          "data": {
            "text/plain": [
              "torch.Size([1, 28, 28])"
            ]
          },
          "metadata": {
            "tags": []
          },
          "execution_count": 4
        }
      ]
    },
    {
      "cell_type": "code",
      "metadata": {
        "id": "m54vStWv1Wm3"
      },
      "source": [
        "import matplotlib.pyplot as plt"
      ],
      "execution_count": 5,
      "outputs": []
    },
    {
      "cell_type": "code",
      "metadata": {
        "colab": {
          "base_uri": "https://localhost:8080/",
          "height": 332
        },
        "id": "k5ceDtyh1aSX",
        "outputId": "431f8d05-8fb3-49e1-9bde-fb95546eae86"
      },
      "source": [
        "plt.imshow(image[0])"
      ],
      "execution_count": 6,
      "outputs": [
        {
          "output_type": "stream",
          "text": [
            "\n"
          ],
          "name": "stdout"
        },
        {
          "output_type": "execute_result",
          "data": {
            "text/plain": [
              "<matplotlib.image.AxesImage at 0x7fa025bca668>"
            ]
          },
          "metadata": {
            "tags": []
          },
          "execution_count": 6
        },
        {
          "output_type": "display_data",
          "data": {
            "image/png": "[encoded data removed]",
            "text/plain": [
              "<Figure size 432x288 with 1 Axes>"
            ]
          },
          "metadata": {
            "tags": [],
            "needs_background": "light"
          }
        },
        {
          "output_type": "stream",
          "text": [
            "\n",
            "\n"
          ],
          "name": "stdout"
        }
      ]
    },
    {
      "cell_type": "code",
      "metadata": {
        "colab": {
          "base_uri": "https://localhost:8080/"
        },
        "id": "i30JbWox1dEn",
        "outputId": "da412620-37b7-495c-84b1-3a91b5a4b8ca"
      },
      "source": [
        "image[:,:10,:10]"
      ],
      "execution_count": 7,
      "outputs": [
        {
          "output_type": "execute_result",
          "data": {
            "text/plain": [
              "tensor([[[-1.0000, -1.0000, -1.0000, -1.0000, -1.0000, -1.0000, -1.0000,\n",
              "          -1.0000, -1.0000, -1.0000],\n",
              "         [-1.0000, -1.0000, -1.0000, -1.0000, -1.0000, -1.0000, -1.0000,\n",
              "          -1.0000, -1.0000, -1.0000],\n",
              "         [-1.0000, -1.0000, -1.0000, -1.0000, -1.0000, -1.0000, -1.0000,\n",
              "          -1.0000, -1.0000, -1.0000],\n",
              "         [-1.0000, -1.0000, -1.0000, -1.0000, -1.0000, -1.0000, -1.0000,\n",
              "          -1.0000, -1.0000, -1.0000],\n",
              "         [-1.0000, -1.0000, -1.0000, -1.0000, -1.0000, -1.0000, -1.0000,\n",
              "          -1.0000, -1.0000, -1.0000],\n",
              "         [-1.0000, -1.0000, -1.0000, -1.0000, -1.0000, -1.0000, -1.0000,\n",
              "          -1.0000, -1.0000, -1.0000],\n",
              "         [-1.0000, -1.0000, -1.0000, -1.0000, -1.0000, -1.0000, -1.0000,\n",
              "          -1.0000, -0.7647, -0.7176],\n",
              "         [-1.0000, -1.0000, -1.0000, -1.0000, -1.0000, -1.0000, -1.0000,\n",
              "          -0.6157,  0.8667,  0.9843],\n",
              "         [-1.0000, -1.0000, -1.0000, -1.0000, -1.0000, -1.0000, -1.0000,\n",
              "          -0.8588,  0.7176,  0.9843],\n",
              "         [-1.0000, -1.0000, -1.0000, -1.0000, -1.0000, -1.0000, -1.0000,\n",
              "          -1.0000, -0.3725,  0.2235]]])"
            ]
          },
          "metadata": {
            "tags": []
          },
          "execution_count": 7
        }
      ]
    },
    {
      "cell_type": "code",
      "metadata": {
        "id": "7cunsmPu2pKZ"
      },
      "source": [
        "batch_size = 100\r\n",
        "data_loader = DataLoader(mnist,batch_size,shuffle=True)"
      ],
      "execution_count": 54,
      "outputs": []
    },
    {
      "cell_type": "code",
      "metadata": {
        "colab": {
          "base_uri": "https://localhost:8080/"
        },
        "id": "yMCWSodS258X",
        "outputId": "b47e8076-4f1c-4e66-b20f-3189bf77db9f"
      },
      "source": [
        "for image,label in data_loader:\r\n",
        "    print(image.shape)\r\n",
        "    print(label)\r\n",
        "    break"
      ],
      "execution_count": 55,
      "outputs": [
        {
          "output_type": "stream",
          "text": [
            "torch.Size([100, 1, 28, 28])\n",
            "tensor([8, 0, 2, 9, 5, 2, 8, 3, 8, 6, 3, 6, 8, 8, 6, 3, 1, 7, 7, 0, 6, 2, 5, 3,\n",
            "        9, 3, 5, 4, 5, 7, 5, 7, 0, 0, 4, 4, 7, 8, 5, 0, 6, 5, 5, 2, 1, 8, 4, 6,\n",
            "        5, 0, 0, 3, 7, 4, 2, 7, 1, 3, 9, 1, 1, 4, 3, 5, 8, 6, 5, 4, 2, 3, 3, 8,\n",
            "        2, 1, 6, 4, 7, 4, 1, 8, 2, 9, 9, 4, 6, 9, 9, 5, 0, 3, 1, 5, 0, 5, 3, 7,\n",
            "        9, 8, 1, 7])\n"
          ],
          "name": "stdout"
        }
      ]
    },
    {
      "cell_type": "code",
      "metadata": {
        "id": "v4N-HsO13Cq_"
      },
      "source": [
        "device = torch.device('cuda' if torch.cuda.is_available() else 'cpu')"
      ],
      "execution_count": 56,
      "outputs": []
    },
    {
      "cell_type": "code",
      "metadata": {
        "colab": {
          "base_uri": "https://localhost:8080/"
        },
        "id": "VAu5fZqJ3OvP",
        "outputId": "a00655b5-6478-4657-f1a5-2cd3eafe46e0"
      },
      "source": [
        "device"
      ],
      "execution_count": 57,
      "outputs": [
        {
          "output_type": "execute_result",
          "data": {
            "text/plain": [
              "device(type='cuda')"
            ]
          },
          "metadata": {
            "tags": []
          },
          "execution_count": 57
        }
      ]
    },
    {
      "cell_type": "code",
      "metadata": {
        "id": "YNtvjio53PLH"
      },
      "source": [
        "image_size = 784\r\n",
        "hidden_size = 256"
      ],
      "execution_count": 58,
      "outputs": []
    },
    {
      "cell_type": "code",
      "metadata": {
        "id": "v9wSiqjO3WMv"
      },
      "source": [
        "#discriminator here is essentially a binary classifier\r\n",
        "D = nn.Sequential(\r\n",
        "    nn.Linear(image_size,hidden_size),\r\n",
        "    nn.LeakyReLU(0.2),\r\n",
        "    nn.Linear(hidden_size,hidden_size),\r\n",
        "    nn.LeakyReLU(0.2),\r\n",
        "    nn.Linear(hidden_size,1),\r\n",
        "    nn.Sigmoid()\r\n",
        ")"
      ],
      "execution_count": 59,
      "outputs": []
    },
    {
      "cell_type": "code",
      "metadata": {
        "colab": {
          "base_uri": "https://localhost:8080/"
        },
        "id": "oMNwlI-n38F-",
        "outputId": "3124b674-c0cc-4f3c-e7ad-c9ba109b0336"
      },
      "source": [
        "D.to(device)"
      ],
      "execution_count": 60,
      "outputs": [
        {
          "output_type": "execute_result",
          "data": {
            "text/plain": [
              "Sequential(\n",
              "  (0): Linear(in_features=784, out_features=256, bias=True)\n",
              "  (1): LeakyReLU(negative_slope=0.2)\n",
              "  (2): Linear(in_features=256, out_features=256, bias=True)\n",
              "  (3): LeakyReLU(negative_slope=0.2)\n",
              "  (4): Linear(in_features=256, out_features=1, bias=True)\n",
              "  (5): Sigmoid()\n",
              ")"
            ]
          },
          "metadata": {
            "tags": []
          },
          "execution_count": 60
        }
      ]
    },
    {
      "cell_type": "code",
      "metadata": {
        "id": "g--ATRST4As_"
      },
      "source": [
        "#generator\r\n",
        "latent_size = 64\r\n",
        "G = nn.Sequential(\r\n",
        "    nn.Linear(latent_size,hidden_size),\r\n",
        "    nn.ReLU(),\r\n",
        "    nn.Linear(hidden_size,hidden_size),\r\n",
        "    nn.ReLU(),\r\n",
        "    nn.Linear(hidden_size,image_size),\r\n",
        "    nn.Tanh() #to have output values in the range of -1 and 1, which we have normalised the dataset to earlier\r\n",
        ")"
      ],
      "execution_count": 61,
      "outputs": []
    },
    {
      "cell_type": "code",
      "metadata": {
        "id": "Jy2zqxS14c5Q"
      },
      "source": [
        "y = G(torch.randn(2,latent_size))"
      ],
      "execution_count": 62,
      "outputs": []
    },
    {
      "cell_type": "code",
      "metadata": {
        "colab": {
          "base_uri": "https://localhost:8080/"
        },
        "id": "BprkI61e4u2A",
        "outputId": "9bee2e0c-402b-4aa6-d251-a6f285f49023"
      },
      "source": [
        "y.shape"
      ],
      "execution_count": 63,
      "outputs": [
        {
          "output_type": "execute_result",
          "data": {
            "text/plain": [
              "torch.Size([2, 784])"
            ]
          },
          "metadata": {
            "tags": []
          },
          "execution_count": 63
        }
      ]
    },
    {
      "cell_type": "code",
      "metadata": {
        "id": "vFdBN8mJ4_dw"
      },
      "source": [
        "gen_images = y.reshape((-1,28,28)).detach()"
      ],
      "execution_count": 64,
      "outputs": []
    },
    {
      "cell_type": "code",
      "metadata": {
        "colab": {
          "base_uri": "https://localhost:8080/"
        },
        "id": "EYYbzkKz5IHY",
        "outputId": "c79e6759-fc34-48d3-f7b1-8876455548d0"
      },
      "source": [
        "gen_images.shape"
      ],
      "execution_count": 65,
      "outputs": [
        {
          "output_type": "execute_result",
          "data": {
            "text/plain": [
              "torch.Size([2, 28, 28])"
            ]
          },
          "metadata": {
            "tags": []
          },
          "execution_count": 65
        }
      ]
    },
    {
      "cell_type": "code",
      "metadata": {
        "colab": {
          "base_uri": "https://localhost:8080/",
          "height": 282
        },
        "id": "-AVteeN35LJ4",
        "outputId": "48c8cbbb-0609-4375-9a85-e5f56d88a2ab"
      },
      "source": [
        "plt.imshow(gen_images[0])"
      ],
      "execution_count": 66,
      "outputs": [
        {
          "output_type": "execute_result",
          "data": {
            "text/plain": [
              "<matplotlib.image.AxesImage at 0x7f9fc9771208>"
            ]
          },
          "metadata": {
            "tags": []
          },
          "execution_count": 66
        },
        {
          "output_type": "display_data",
          "data": {
            "image/png": "[encoded data removed]",
            "text/plain": [
              "<Figure size 432x288 with 1 Axes>"
            ]
          },
          "metadata": {
            "tags": [],
            "needs_background": "light"
          }
        }
      ]
    },
    {
      "cell_type": "code",
      "metadata": {
        "colab": {
          "base_uri": "https://localhost:8080/",
          "height": 282
        },
        "id": "MctnjRKH5PZ3",
        "outputId": "1e21e0d5-76fb-4198-b762-8ef6cf4a5492"
      },
      "source": [
        "plt.imshow(gen_images[1])"
      ],
      "execution_count": 67,
      "outputs": [
        {
          "output_type": "execute_result",
          "data": {
            "text/plain": [
              "<matplotlib.image.AxesImage at 0x7f9fc8665668>"
            ]
          },
          "metadata": {
            "tags": []
          },
          "execution_count": 67
        },
        {
          "output_type": "display_data",
          "data": {
            "image/png": "[encoded data removed]",
            "text/plain": [
              "<Figure size 432x288 with 1 Axes>"
            ]
          },
          "metadata": {
            "tags": [],
            "needs_background": "light"
          }
        }
      ]
    },
    {
      "cell_type": "code",
      "metadata": {
        "colab": {
          "base_uri": "https://localhost:8080/"
        },
        "id": "GdDBaNrC5SgX",
        "outputId": "08dcc94c-8cd3-4ba9-9bdd-43c060fab7f8"
      },
      "source": [
        "G.to(device)"
      ],
      "execution_count": 68,
      "outputs": [
        {
          "output_type": "execute_result",
          "data": {
            "text/plain": [
              "Sequential(\n",
              "  (0): Linear(in_features=64, out_features=256, bias=True)\n",
              "  (1): ReLU()\n",
              "  (2): Linear(in_features=256, out_features=256, bias=True)\n",
              "  (3): ReLU()\n",
              "  (4): Linear(in_features=256, out_features=784, bias=True)\n",
              "  (5): Tanh()\n",
              ")"
            ]
          },
          "metadata": {
            "tags": []
          },
          "execution_count": 68
        }
      ]
    },
    {
      "cell_type": "code",
      "metadata": {
        "id": "m6nuur9JAonN"
      },
      "source": [
        "gen_images = gen_images.reshape(2,-1).to(device)"
      ],
      "execution_count": 69,
      "outputs": []
    },
    {
      "cell_type": "code",
      "metadata": {
        "colab": {
          "base_uri": "https://localhost:8080/"
        },
        "id": "P9GG5uodAeSv",
        "outputId": "32af0f51-8c41-4ce0-d456-fb9ffcfd58bd"
      },
      "source": [
        "D(gen_images)"
      ],
      "execution_count": 70,
      "outputs": [
        {
          "output_type": "execute_result",
          "data": {
            "text/plain": [
              "tensor([[0.4920],\n",
              "        [0.4914]], device='cuda:0', grad_fn=<SigmoidBackward>)"
            ]
          },
          "metadata": {
            "tags": []
          },
          "execution_count": 70
        }
      ]
    },
    {
      "cell_type": "code",
      "metadata": {
        "id": "cGPM8RR05U94"
      },
      "source": [
        "#train discriminator\r\n",
        "loss_func = nn.BCELoss()\r\n",
        "d_optim = torch.optim.Adam(D.parameters(),lr=0.0002)"
      ],
      "execution_count": 71,
      "outputs": []
    },
    {
      "cell_type": "code",
      "metadata": {
        "id": "3-MERfyB5kJW"
      },
      "source": [
        "def reset_grad():\r\n",
        "    d_optim.zero_grad()\r\n",
        "    g_optim.zero_grad()"
      ],
      "execution_count": 72,
      "outputs": []
    },
    {
      "cell_type": "code",
      "metadata": {
        "id": "OO4Gcm4D5xh1"
      },
      "source": [
        "def train_disc(images):\r\n",
        "    real_labels = torch.ones(batch_size,1).to(device) #real image is positive or 1\r\n",
        "    fake_labels = torch.zeros(batch_size,1).to(device) #fake image is negative or 0\r\n",
        "\r\n",
        "    outputs = D(images) #for real images, label should be 1\r\n",
        "    d_loss_real = loss_func(outputs,real_labels)\r\n",
        "    real_score = outputs #b/w 0 and 1, should be close to 1\r\n",
        "\r\n",
        "    z = torch.randn(batch_size,latent_size).to(device)\r\n",
        "    fake_images = G(z)\r\n",
        "    outputs = D(fake_images)\r\n",
        "    d_loss_fake = loss_func(outputs,fake_labels)\r\n",
        "    fake_score = outputs #b/w 0 and 1, should be close to 0\r\n",
        "    #discriminator should be good at classifying images as real or fake OR 0 or 1\r\n",
        "\r\n",
        "    d_loss = d_loss_real + d_loss_fake\r\n",
        "    reset_grad()\r\n",
        "    d_loss.backward()\r\n",
        "    d_optim.step()\r\n",
        "\r\n",
        "    return d_loss, real_score, fake_score"
      ],
      "execution_count": 73,
      "outputs": []
    },
    {
      "cell_type": "code",
      "metadata": {
        "id": "UL02xp4J7ahJ"
      },
      "source": [
        "#output of generator is image, so while training we use disc loss as part of loss function\r\n",
        "#so first gen image output, pass to disc, with target 1 as we want to fool the disc\r\n",
        "g_optim = torch.optim.Adam(G.parameters(),lr=0.0002)"
      ],
      "execution_count": 74,
      "outputs": []
    },
    {
      "cell_type": "code",
      "metadata": {
        "id": "tQlW7eBY8ZIv"
      },
      "source": [
        "def train_gen():\r\n",
        "    z = torch.randn(batch_size,latent_size).to(device)\r\n",
        "    fake_images = G(z)\r\n",
        "    labels = torch.ones(batch_size,1).to(device)\r\n",
        "    g_loss = loss_func(D(fake_images),labels)\r\n",
        "\r\n",
        "    reset_grad()\r\n",
        "    g_loss.backward()\r\n",
        "    g_optim.step()\r\n",
        "    return g_loss, fake_images"
      ],
      "execution_count": 75,
      "outputs": []
    },
    {
      "cell_type": "code",
      "metadata": {
        "id": "MfrsnAp-9gmq"
      },
      "source": [
        "import os\r\n",
        "\r\n",
        "sample_dir = 'samples'\r\n",
        "if not os.path.exists(sample_dir):\r\n",
        "    os.makedirs(sample_dir)"
      ],
      "execution_count": 76,
      "outputs": []
    },
    {
      "cell_type": "code",
      "metadata": {
        "colab": {
          "base_uri": "https://localhost:8080/",
          "height": 409
        },
        "id": "4JbtiVpj8_bt",
        "outputId": "b092298c-3d21-4d94-e89e-49f8a7077363"
      },
      "source": [
        "from IPython.display import Image\r\n",
        "from torchvision.utils import save_image\r\n",
        "\r\n",
        "# Save some real images\r\n",
        "for images, _ in data_loader:\r\n",
        "    images = images.reshape(images.size(0), 1, 28, 28)\r\n",
        "    save_image(images, os.path.join(sample_dir, 'real_images.png'), nrow=8)\r\n",
        "    break\r\n",
        "   \r\n",
        "Image(os.path.join(sample_dir, 'real_images.png'))"
      ],
      "execution_count": 77,
      "outputs": [
        {
          "output_type": "execute_result",
          "data": {
            "image/png": "[encoded data removed]",
            "text/plain": [
              "<IPython.core.display.Image object>"
            ]
          },
          "metadata": {
            "tags": []
          },
          "execution_count": 77
        }
      ]
    },
    {
      "cell_type": "code",
      "metadata": {
        "colab": {
          "base_uri": "https://localhost:8080/",
          "height": 426
        },
        "id": "_oEkkWeb9j6K",
        "outputId": "700a4020-6e51-40c2-b733-6ed5c250b96f"
      },
      "source": [
        "sample_vectors = torch.randn(batch_size, latent_size).to(device)\r\n",
        "\r\n",
        "def save_fake_images(index):\r\n",
        "    fake_images = G(sample_vectors)\r\n",
        "    fake_images = fake_images.reshape(fake_images.size(0), 1, 28, 28)\r\n",
        "    fake_fname = 'fake_images-{0:0=4d}.png'.format(index)\r\n",
        "    print('Saving', fake_fname)\r\n",
        "    save_image(fake_images, os.path.join(sample_dir, fake_fname), nrow=8)\r\n",
        "    \r\n",
        "# Before training\r\n",
        "save_fake_images(0)\r\n",
        "Image(os.path.join(sample_dir, 'fake_images-0000.png'))"
      ],
      "execution_count": 78,
      "outputs": [
        {
          "output_type": "stream",
          "text": [
            "Saving fake_images-0000.png\n"
          ],
          "name": "stdout"
        },
        {
          "output_type": "execute_result",
          "data": {
            "image/png": "[encoded data removed]",
            "text/plain": [
              "<IPython.core.display.Image object>"
            ]
          },
          "metadata": {
            "tags": []
          },
          "execution_count": 78
        }
      ]
    },
    {
      "cell_type": "code",
      "metadata": {
        "colab": {
          "base_uri": "https://localhost:8080/"
        },
        "id": "T4FANaMN93Qp",
        "outputId": "5417070f-b601-4500-d4db-4f64de3d12e8"
      },
      "source": [
        "num_epochs = 300\r\n",
        "total_step = len(data_loader)\r\n",
        "d_losses, g_losses, real_scores, fake_scores = [],[],[],[]\r\n",
        "\r\n",
        "for epoch in range(num_epochs):\r\n",
        "    for i,(images,_) in enumerate(data_loader):\r\n",
        "        images = images.reshape(batch_size,-1).to(device)\r\n",
        "        d_loss, real_score, fake_score = train_disc(images)\r\n",
        "        g_loss, fake_images = train_gen()\r\n",
        "\r\n",
        "        if (i+1)%200 == 0:\r\n",
        "            d_losses.append(d_loss.item())\r\n",
        "            g_losses.append(g_loss.item())\r\n",
        "            real_scores.append(real_score.mean().item())\r\n",
        "            fake_scores.append(fake_score.mean().item())\r\n",
        "            print('Epoch [{}/{}], Step [{}/{}], d_loss: {:.4f}, g_loss: {:.4f}, D(x): {:.2f}, D(G(z)): {:.2f}' \r\n",
        "                  .format(epoch, num_epochs, i+1, total_step, d_loss.item(), g_loss.item(), \r\n",
        "                          real_score.mean().item(), fake_score.mean().item()))\r\n",
        "    save_fake_images(epoch+1)"
      ],
      "execution_count": 80,
      "outputs": [
        {
          "output_type": "stream",
          "text": [
            "Epoch [0/300], Step [200/600], d_loss: 0.3431, g_loss: 2.8356, D(x): 0.89, D(G(z)): 0.16\n",
            "Epoch [0/300], Step [400/600], d_loss: 0.0755, g_loss: 5.2620, D(x): 0.97, D(G(z)): 0.03\n",
            "Epoch [0/300], Step [600/600], d_loss: 0.1744, g_loss: 3.4943, D(x): 0.92, D(G(z)): 0.06\n",
            "Saving fake_images-0001.png\n",
            "Epoch [1/300], Step [200/600], d_loss: 1.0371, g_loss: 2.6772, D(x): 0.65, D(G(z)): 0.23\n",
            "Epoch [1/300], Step [400/600], d_loss: 0.5381, g_loss: 2.8245, D(x): 0.87, D(G(z)): 0.25\n",
            "Epoch [1/300], Step [600/600], d_loss: 2.6197, g_loss: 1.2197, D(x): 0.44, D(G(z)): 0.45\n",
            "Saving fake_images-0002.png\n",
            "Epoch [2/300], Step [200/600], d_loss: 0.4724, g_loss: 2.8446, D(x): 0.84, D(G(z)): 0.16\n",
            "Epoch [2/300], Step [400/600], d_loss: 0.9512, g_loss: 1.9044, D(x): 0.68, D(G(z)): 0.22\n",
            "Epoch [2/300], Step [600/600], d_loss: 0.6333, g_loss: 2.1079, D(x): 0.81, D(G(z)): 0.27\n",
            "Saving fake_images-0003.png\n",
            "Epoch [3/300], Step [200/600], d_loss: 1.3204, g_loss: 1.6859, D(x): 0.59, D(G(z)): 0.32\n",
            "Epoch [3/300], Step [400/600], d_loss: 0.7153, g_loss: 2.2854, D(x): 0.77, D(G(z)): 0.20\n",
            "Epoch [3/300], Step [600/600], d_loss: 0.1627, g_loss: 3.9509, D(x): 0.93, D(G(z)): 0.05\n",
            "Saving fake_images-0004.png\n",
            "Epoch [4/300], Step [200/600], d_loss: 0.1837, g_loss: 2.8430, D(x): 0.93, D(G(z)): 0.09\n",
            "Epoch [4/300], Step [400/600], d_loss: 0.1656, g_loss: 2.9986, D(x): 0.95, D(G(z)): 0.07\n",
            "Epoch [4/300], Step [600/600], d_loss: 0.1094, g_loss: 4.5699, D(x): 0.95, D(G(z)): 0.02\n",
            "Saving fake_images-0005.png\n",
            "Epoch [5/300], Step [200/600], d_loss: 0.2541, g_loss: 4.6420, D(x): 0.92, D(G(z)): 0.05\n",
            "Epoch [5/300], Step [400/600], d_loss: 0.1497, g_loss: 3.4646, D(x): 0.93, D(G(z)): 0.03\n",
            "Epoch [5/300], Step [600/600], d_loss: 0.2825, g_loss: 3.7967, D(x): 0.90, D(G(z)): 0.04\n",
            "Saving fake_images-0006.png\n",
            "Epoch [6/300], Step [200/600], d_loss: 0.2440, g_loss: 4.6057, D(x): 0.91, D(G(z)): 0.02\n",
            "Epoch [6/300], Step [400/600], d_loss: 0.1558, g_loss: 4.6365, D(x): 0.95, D(G(z)): 0.05\n",
            "Epoch [6/300], Step [600/600], d_loss: 0.3108, g_loss: 3.9957, D(x): 0.97, D(G(z)): 0.22\n",
            "Saving fake_images-0007.png\n",
            "Epoch [7/300], Step [200/600], d_loss: 0.3077, g_loss: 3.1286, D(x): 0.93, D(G(z)): 0.10\n",
            "Epoch [7/300], Step [400/600], d_loss: 0.1274, g_loss: 4.9556, D(x): 0.95, D(G(z)): 0.04\n",
            "Epoch [7/300], Step [600/600], d_loss: 0.1804, g_loss: 3.9257, D(x): 0.96, D(G(z)): 0.06\n",
            "Saving fake_images-0008.png\n",
            "Epoch [8/300], Step [200/600], d_loss: 0.3571, g_loss: 4.2871, D(x): 0.94, D(G(z)): 0.18\n",
            "Epoch [8/300], Step [400/600], d_loss: 0.3564, g_loss: 3.6737, D(x): 0.97, D(G(z)): 0.21\n",
            "Epoch [8/300], Step [600/600], d_loss: 0.0789, g_loss: 4.4964, D(x): 0.97, D(G(z)): 0.04\n",
            "Saving fake_images-0009.png\n",
            "Epoch [9/300], Step [200/600], d_loss: 0.1056, g_loss: 4.7657, D(x): 0.99, D(G(z)): 0.09\n",
            "Epoch [9/300], Step [400/600], d_loss: 0.3193, g_loss: 5.5912, D(x): 1.00, D(G(z)): 0.20\n",
            "Epoch [9/300], Step [600/600], d_loss: 0.0967, g_loss: 5.9758, D(x): 0.97, D(G(z)): 0.06\n",
            "Saving fake_images-0010.png\n",
            "Epoch [10/300], Step [200/600], d_loss: 0.2100, g_loss: 5.4536, D(x): 0.98, D(G(z)): 0.14\n",
            "Epoch [10/300], Step [400/600], d_loss: 0.3030, g_loss: 6.2210, D(x): 0.95, D(G(z)): 0.11\n",
            "Epoch [10/300], Step [600/600], d_loss: 0.1030, g_loss: 4.9604, D(x): 0.98, D(G(z)): 0.07\n",
            "Saving fake_images-0011.png\n",
            "Epoch [11/300], Step [200/600], d_loss: 0.2430, g_loss: 5.2891, D(x): 0.93, D(G(z)): 0.07\n",
            "Epoch [11/300], Step [400/600], d_loss: 0.1091, g_loss: 4.9391, D(x): 0.97, D(G(z)): 0.04\n",
            "Epoch [11/300], Step [600/600], d_loss: 0.1856, g_loss: 4.2229, D(x): 0.96, D(G(z)): 0.09\n",
            "Saving fake_images-0012.png\n",
            "Epoch [12/300], Step [200/600], d_loss: 0.1296, g_loss: 5.5298, D(x): 0.95, D(G(z)): 0.03\n",
            "Epoch [12/300], Step [400/600], d_loss: 0.1043, g_loss: 4.7893, D(x): 0.96, D(G(z)): 0.03\n",
            "Epoch [12/300], Step [600/600], d_loss: 0.2687, g_loss: 4.9163, D(x): 0.93, D(G(z)): 0.06\n",
            "Saving fake_images-0013.png\n",
            "Epoch [13/300], Step [200/600], d_loss: 0.1918, g_loss: 3.0059, D(x): 0.95, D(G(z)): 0.08\n",
            "Epoch [13/300], Step [400/600], d_loss: 0.3602, g_loss: 4.3120, D(x): 0.89, D(G(z)): 0.03\n",
            "Epoch [13/300], Step [600/600], d_loss: 0.4752, g_loss: 3.1958, D(x): 0.85, D(G(z)): 0.09\n",
            "Saving fake_images-0014.png\n",
            "Epoch [14/300], Step [200/600], d_loss: 0.2253, g_loss: 4.5422, D(x): 0.95, D(G(z)): 0.06\n",
            "Epoch [14/300], Step [400/600], d_loss: 0.0707, g_loss: 6.7159, D(x): 0.97, D(G(z)): 0.03\n",
            "Epoch [14/300], Step [600/600], d_loss: 0.3886, g_loss: 4.7563, D(x): 0.89, D(G(z)): 0.09\n",
            "Saving fake_images-0015.png\n",
            "Epoch [15/300], Step [200/600], d_loss: 0.3301, g_loss: 5.5749, D(x): 0.91, D(G(z)): 0.05\n",
            "Epoch [15/300], Step [400/600], d_loss: 0.1697, g_loss: 4.3875, D(x): 0.94, D(G(z)): 0.06\n",
            "Epoch [15/300], Step [600/600], d_loss: 0.4732, g_loss: 5.2676, D(x): 0.82, D(G(z)): 0.03\n",
            "Saving fake_images-0016.png\n",
            "Epoch [16/300], Step [200/600], d_loss: 0.2462, g_loss: 3.4379, D(x): 0.93, D(G(z)): 0.10\n",
            "Epoch [16/300], Step [400/600], d_loss: 0.3967, g_loss: 3.4792, D(x): 0.91, D(G(z)): 0.16\n",
            "Epoch [16/300], Step [600/600], d_loss: 0.4151, g_loss: 3.1604, D(x): 0.94, D(G(z)): 0.21\n",
            "Saving fake_images-0017.png\n",
            "Epoch [17/300], Step [200/600], d_loss: 0.2416, g_loss: 3.3430, D(x): 0.93, D(G(z)): 0.09\n",
            "Epoch [17/300], Step [400/600], d_loss: 0.3401, g_loss: 3.5910, D(x): 0.89, D(G(z)): 0.06\n",
            "Epoch [17/300], Step [600/600], d_loss: 0.1842, g_loss: 3.6486, D(x): 0.93, D(G(z)): 0.06\n",
            "Saving fake_images-0018.png\n",
            "Epoch [18/300], Step [200/600], d_loss: 0.3322, g_loss: 4.8663, D(x): 0.87, D(G(z)): 0.03\n",
            "Epoch [18/300], Step [400/600], d_loss: 0.1860, g_loss: 5.0003, D(x): 0.97, D(G(z)): 0.09\n",
            "Epoch [18/300], Step [600/600], d_loss: 0.1869, g_loss: 3.8715, D(x): 0.95, D(G(z)): 0.08\n",
            "Saving fake_images-0019.png\n",
            "Epoch [19/300], Step [200/600], d_loss: 0.1881, g_loss: 4.7285, D(x): 0.96, D(G(z)): 0.11\n",
            "Epoch [19/300], Step [400/600], d_loss: 0.7722, g_loss: 4.1228, D(x): 0.75, D(G(z)): 0.03\n",
            "Epoch [19/300], Step [600/600], d_loss: 0.1467, g_loss: 5.2208, D(x): 0.95, D(G(z)): 0.04\n",
            "Saving fake_images-0020.png\n",
            "Epoch [20/300], Step [200/600], d_loss: 0.2957, g_loss: 4.2505, D(x): 0.92, D(G(z)): 0.11\n",
            "Epoch [20/300], Step [400/600], d_loss: 0.2199, g_loss: 4.8013, D(x): 0.91, D(G(z)): 0.05\n",
            "Epoch [20/300], Step [600/600], d_loss: 0.2884, g_loss: 3.2638, D(x): 0.92, D(G(z)): 0.10\n",
            "Saving fake_images-0021.png\n",
            "Epoch [21/300], Step [200/600], d_loss: 0.2631, g_loss: 4.1503, D(x): 0.95, D(G(z)): 0.14\n",
            "Epoch [21/300], Step [400/600], d_loss: 0.4068, g_loss: 3.7843, D(x): 0.87, D(G(z)): 0.06\n",
            "Epoch [21/300], Step [600/600], d_loss: 0.1647, g_loss: 3.9956, D(x): 0.97, D(G(z)): 0.10\n",
            "Saving fake_images-0022.png\n",
            "Epoch [22/300], Step [200/600], d_loss: 0.3190, g_loss: 4.1191, D(x): 0.88, D(G(z)): 0.04\n",
            "Epoch [22/300], Step [400/600], d_loss: 0.6103, g_loss: 5.6015, D(x): 0.78, D(G(z)): 0.05\n",
            "Epoch [22/300], Step [600/600], d_loss: 0.4453, g_loss: 3.1631, D(x): 0.85, D(G(z)): 0.09\n",
            "Saving fake_images-0023.png\n",
            "Epoch [23/300], Step [200/600], d_loss: 0.5785, g_loss: 4.0261, D(x): 0.90, D(G(z)): 0.25\n",
            "Epoch [23/300], Step [400/600], d_loss: 0.4179, g_loss: 4.0993, D(x): 0.82, D(G(z)): 0.05\n",
            "Epoch [23/300], Step [600/600], d_loss: 0.3114, g_loss: 3.8545, D(x): 0.95, D(G(z)): 0.16\n",
            "Saving fake_images-0024.png\n",
            "Epoch [24/300], Step [200/600], d_loss: 0.2759, g_loss: 4.6827, D(x): 0.91, D(G(z)): 0.07\n",
            "Epoch [24/300], Step [400/600], d_loss: 0.3400, g_loss: 4.8275, D(x): 0.89, D(G(z)): 0.09\n",
            "Epoch [24/300], Step [600/600], d_loss: 0.3755, g_loss: 2.4789, D(x): 0.86, D(G(z)): 0.09\n",
            "Saving fake_images-0025.png\n",
            "Epoch [25/300], Step [200/600], d_loss: 0.1620, g_loss: 3.9490, D(x): 0.94, D(G(z)): 0.07\n",
            "Epoch [25/300], Step [400/600], d_loss: 0.2960, g_loss: 2.9829, D(x): 0.92, D(G(z)): 0.12\n",
            "Epoch [25/300], Step [600/600], d_loss: 0.3280, g_loss: 3.6025, D(x): 0.89, D(G(z)): 0.09\n",
            "Saving fake_images-0026.png\n",
            "Epoch [26/300], Step [200/600], d_loss: 0.3675, g_loss: 4.2349, D(x): 0.89, D(G(z)): 0.09\n",
            "Epoch [26/300], Step [400/600], d_loss: 0.3575, g_loss: 2.8422, D(x): 0.91, D(G(z)): 0.15\n",
            "Epoch [26/300], Step [600/600], d_loss: 0.3964, g_loss: 5.0994, D(x): 0.83, D(G(z)): 0.05\n",
            "Saving fake_images-0027.png\n",
            "Epoch [27/300], Step [200/600], d_loss: 0.3881, g_loss: 4.6141, D(x): 0.85, D(G(z)): 0.07\n",
            "Epoch [27/300], Step [400/600], d_loss: 0.2516, g_loss: 3.3941, D(x): 0.93, D(G(z)): 0.08\n",
            "Epoch [27/300], Step [600/600], d_loss: 0.2731, g_loss: 4.4804, D(x): 0.91, D(G(z)): 0.08\n",
            "Saving fake_images-0028.png\n",
            "Epoch [28/300], Step [200/600], d_loss: 0.4078, g_loss: 3.7286, D(x): 0.87, D(G(z)): 0.08\n",
            "Epoch [28/300], Step [400/600], d_loss: 0.3390, g_loss: 3.1986, D(x): 0.90, D(G(z)): 0.11\n",
            "Epoch [28/300], Step [600/600], d_loss: 0.3459, g_loss: 2.5332, D(x): 0.87, D(G(z)): 0.12\n",
            "Saving fake_images-0029.png\n",
            "Epoch [29/300], Step [200/600], d_loss: 0.4095, g_loss: 3.3858, D(x): 0.87, D(G(z)): 0.12\n",
            "Epoch [29/300], Step [400/600], d_loss: 0.4830, g_loss: 3.2024, D(x): 0.82, D(G(z)): 0.07\n",
            "Epoch [29/300], Step [600/600], d_loss: 0.5327, g_loss: 3.8748, D(x): 0.96, D(G(z)): 0.31\n",
            "Saving fake_images-0030.png\n",
            "Epoch [30/300], Step [200/600], d_loss: 0.4524, g_loss: 3.8819, D(x): 0.89, D(G(z)): 0.13\n",
            "Epoch [30/300], Step [400/600], d_loss: 0.3731, g_loss: 4.0741, D(x): 0.87, D(G(z)): 0.08\n",
            "Epoch [30/300], Step [600/600], d_loss: 0.4053, g_loss: 3.5199, D(x): 0.87, D(G(z)): 0.13\n",
            "Saving fake_images-0031.png\n",
            "Epoch [31/300], Step [200/600], d_loss: 0.3301, g_loss: 3.8891, D(x): 0.87, D(G(z)): 0.08\n",
            "Epoch [31/300], Step [400/600], d_loss: 0.4738, g_loss: 2.6096, D(x): 0.80, D(G(z)): 0.06\n",
            "Epoch [31/300], Step [600/600], d_loss: 0.6578, g_loss: 2.7017, D(x): 0.84, D(G(z)): 0.18\n",
            "Saving fake_images-0032.png\n",
            "Epoch [32/300], Step [200/600], d_loss: 0.3768, g_loss: 2.5146, D(x): 0.89, D(G(z)): 0.17\n",
            "Epoch [32/300], Step [400/600], d_loss: 0.5231, g_loss: 2.6704, D(x): 0.87, D(G(z)): 0.19\n",
            "Epoch [32/300], Step [600/600], d_loss: 0.5282, g_loss: 2.1085, D(x): 0.86, D(G(z)): 0.18\n",
            "Saving fake_images-0033.png\n",
            "Epoch [33/300], Step [200/600], d_loss: 0.4279, g_loss: 2.9074, D(x): 0.89, D(G(z)): 0.17\n",
            "Epoch [33/300], Step [400/600], d_loss: 0.5743, g_loss: 2.7585, D(x): 0.82, D(G(z)): 0.14\n",
            "Epoch [33/300], Step [600/600], d_loss: 0.7160, g_loss: 3.3604, D(x): 0.88, D(G(z)): 0.28\n",
            "Saving fake_images-0034.png\n",
            "Epoch [34/300], Step [200/600], d_loss: 0.6079, g_loss: 3.8082, D(x): 0.92, D(G(z)): 0.26\n",
            "Epoch [34/300], Step [400/600], d_loss: 0.3476, g_loss: 4.2741, D(x): 0.95, D(G(z)): 0.16\n",
            "Epoch [34/300], Step [600/600], d_loss: 0.3115, g_loss: 4.1650, D(x): 0.92, D(G(z)): 0.13\n",
            "Saving fake_images-0035.png\n",
            "Epoch [35/300], Step [200/600], d_loss: 0.5963, g_loss: 3.5667, D(x): 0.80, D(G(z)): 0.09\n",
            "Epoch [35/300], Step [400/600], d_loss: 0.6100, g_loss: 3.6152, D(x): 0.91, D(G(z)): 0.26\n",
            "Epoch [35/300], Step [600/600], d_loss: 0.4388, g_loss: 4.1910, D(x): 0.86, D(G(z)): 0.12\n",
            "Saving fake_images-0036.png\n",
            "Epoch [36/300], Step [200/600], d_loss: 0.3615, g_loss: 3.0410, D(x): 0.84, D(G(z)): 0.07\n",
            "Epoch [36/300], Step [400/600], d_loss: 0.6247, g_loss: 2.6866, D(x): 0.94, D(G(z)): 0.30\n",
            "Epoch [36/300], Step [600/600], d_loss: 0.4669, g_loss: 2.8126, D(x): 0.82, D(G(z)): 0.10\n",
            "Saving fake_images-0037.png\n",
            "Epoch [37/300], Step [200/600], d_loss: 0.7033, g_loss: 2.3986, D(x): 0.77, D(G(z)): 0.12\n",
            "Epoch [37/300], Step [400/600], d_loss: 0.3469, g_loss: 2.6226, D(x): 0.89, D(G(z)): 0.14\n",
            "Epoch [37/300], Step [600/600], d_loss: 0.4459, g_loss: 3.0544, D(x): 0.82, D(G(z)): 0.06\n",
            "Saving fake_images-0038.png\n",
            "Epoch [38/300], Step [200/600], d_loss: 0.4047, g_loss: 2.8171, D(x): 0.87, D(G(z)): 0.15\n",
            "Epoch [38/300], Step [400/600], d_loss: 0.5341, g_loss: 3.0326, D(x): 0.86, D(G(z)): 0.20\n",
            "Epoch [38/300], Step [600/600], d_loss: 0.7029, g_loss: 2.1933, D(x): 0.86, D(G(z)): 0.25\n",
            "Saving fake_images-0039.png\n",
            "Epoch [39/300], Step [200/600], d_loss: 0.7557, g_loss: 2.2006, D(x): 0.76, D(G(z)): 0.18\n",
            "Epoch [39/300], Step [400/600], d_loss: 0.4172, g_loss: 3.0001, D(x): 0.83, D(G(z)): 0.09\n",
            "Epoch [39/300], Step [600/600], d_loss: 0.5818, g_loss: 2.7625, D(x): 0.90, D(G(z)): 0.25\n",
            "Saving fake_images-0040.png\n",
            "Epoch [40/300], Step [200/600], d_loss: 0.5529, g_loss: 1.9959, D(x): 0.85, D(G(z)): 0.21\n",
            "Epoch [40/300], Step [400/600], d_loss: 0.3882, g_loss: 3.8309, D(x): 0.87, D(G(z)): 0.13\n",
            "Epoch [40/300], Step [600/600], d_loss: 0.5683, g_loss: 2.5483, D(x): 0.85, D(G(z)): 0.24\n",
            "Saving fake_images-0041.png\n",
            "Epoch [41/300], Step [200/600], d_loss: 0.5844, g_loss: 2.9390, D(x): 0.77, D(G(z)): 0.12\n",
            "Epoch [41/300], Step [400/600], d_loss: 0.4989, g_loss: 2.3448, D(x): 0.90, D(G(z)): 0.22\n",
            "Epoch [41/300], Step [600/600], d_loss: 0.7781, g_loss: 2.4429, D(x): 0.76, D(G(z)): 0.20\n",
            "Saving fake_images-0042.png\n",
            "Epoch [42/300], Step [200/600], d_loss: 0.5403, g_loss: 3.1898, D(x): 0.80, D(G(z)): 0.11\n",
            "Epoch [42/300], Step [400/600], d_loss: 0.3716, g_loss: 3.3988, D(x): 0.84, D(G(z)): 0.09\n",
            "Epoch [42/300], Step [600/600], d_loss: 0.3403, g_loss: 3.3158, D(x): 0.89, D(G(z)): 0.14\n",
            "Saving fake_images-0043.png\n",
            "Epoch [43/300], Step [200/600], d_loss: 0.4074, g_loss: 3.3719, D(x): 0.84, D(G(z)): 0.10\n",
            "Epoch [43/300], Step [400/600], d_loss: 0.6892, g_loss: 2.6358, D(x): 0.79, D(G(z)): 0.16\n",
            "Epoch [43/300], Step [600/600], d_loss: 0.6469, g_loss: 2.8329, D(x): 0.80, D(G(z)): 0.20\n",
            "Saving fake_images-0044.png\n",
            "Epoch [44/300], Step [200/600], d_loss: 0.5143, g_loss: 3.6462, D(x): 0.82, D(G(z)): 0.12\n",
            "Epoch [44/300], Step [400/600], d_loss: 0.5749, g_loss: 3.7289, D(x): 0.90, D(G(z)): 0.25\n",
            "Epoch [44/300], Step [600/600], d_loss: 0.6256, g_loss: 3.4858, D(x): 0.79, D(G(z)): 0.14\n",
            "Saving fake_images-0045.png\n",
            "Epoch [45/300], Step [200/600], d_loss: 0.5451, g_loss: 3.2124, D(x): 0.80, D(G(z)): 0.11\n",
            "Epoch [45/300], Step [400/600], d_loss: 0.5854, g_loss: 2.4879, D(x): 0.84, D(G(z)): 0.17\n",
            "Epoch [45/300], Step [600/600], d_loss: 0.5779, g_loss: 2.6180, D(x): 0.89, D(G(z)): 0.24\n",
            "Saving fake_images-0046.png\n",
            "Epoch [46/300], Step [200/600], d_loss: 0.5131, g_loss: 2.5583, D(x): 0.84, D(G(z)): 0.14\n",
            "Epoch [46/300], Step [400/600], d_loss: 0.4950, g_loss: 1.8655, D(x): 0.86, D(G(z)): 0.20\n",
            "Epoch [46/300], Step [600/600], d_loss: 0.4580, g_loss: 3.0123, D(x): 0.85, D(G(z)): 0.14\n",
            "Saving fake_images-0047.png\n",
            "Epoch [47/300], Step [200/600], d_loss: 0.5926, g_loss: 2.0696, D(x): 0.81, D(G(z)): 0.20\n",
            "Epoch [47/300], Step [400/600], d_loss: 0.5867, g_loss: 2.6703, D(x): 0.78, D(G(z)): 0.17\n",
            "Epoch [47/300], Step [600/600], d_loss: 0.5772, g_loss: 1.9149, D(x): 0.84, D(G(z)): 0.23\n",
            "Saving fake_images-0048.png\n",
            "Epoch [48/300], Step [200/600], d_loss: 0.5836, g_loss: 2.2095, D(x): 0.79, D(G(z)): 0.15\n",
            "Epoch [48/300], Step [400/600], d_loss: 0.5626, g_loss: 2.9510, D(x): 0.81, D(G(z)): 0.18\n",
            "Epoch [48/300], Step [600/600], d_loss: 0.7269, g_loss: 2.0840, D(x): 0.80, D(G(z)): 0.23\n",
            "Saving fake_images-0049.png\n",
            "Epoch [49/300], Step [200/600], d_loss: 0.6880, g_loss: 2.2162, D(x): 0.81, D(G(z)): 0.21\n",
            "Epoch [49/300], Step [400/600], d_loss: 0.6432, g_loss: 2.0982, D(x): 0.86, D(G(z)): 0.28\n",
            "Epoch [49/300], Step [600/600], d_loss: 0.4697, g_loss: 3.1129, D(x): 0.84, D(G(z)): 0.17\n",
            "Saving fake_images-0050.png\n",
            "Epoch [50/300], Step [200/600], d_loss: 0.5203, g_loss: 2.3748, D(x): 0.80, D(G(z)): 0.17\n",
            "Epoch [50/300], Step [400/600], d_loss: 0.7213, g_loss: 1.7150, D(x): 0.80, D(G(z)): 0.25\n",
            "Epoch [50/300], Step [600/600], d_loss: 0.6734, g_loss: 2.3776, D(x): 0.81, D(G(z)): 0.23\n",
            "Saving fake_images-0051.png\n",
            "Epoch [51/300], Step [200/600], d_loss: 0.6827, g_loss: 2.0962, D(x): 0.77, D(G(z)): 0.19\n",
            "Epoch [51/300], Step [400/600], d_loss: 0.7025, g_loss: 2.8788, D(x): 0.74, D(G(z)): 0.16\n",
            "Epoch [51/300], Step [600/600], d_loss: 0.6534, g_loss: 2.0880, D(x): 0.83, D(G(z)): 0.21\n",
            "Saving fake_images-0052.png\n",
            "Epoch [52/300], Step [200/600], d_loss: 0.7441, g_loss: 2.4297, D(x): 0.79, D(G(z)): 0.22\n",
            "Epoch [52/300], Step [400/600], d_loss: 0.4524, g_loss: 2.6801, D(x): 0.86, D(G(z)): 0.17\n",
            "Epoch [52/300], Step [600/600], d_loss: 0.6064, g_loss: 2.6775, D(x): 0.81, D(G(z)): 0.19\n",
            "Saving fake_images-0053.png\n",
            "Epoch [53/300], Step [200/600], d_loss: 0.5843, g_loss: 2.2972, D(x): 0.76, D(G(z)): 0.12\n",
            "Epoch [53/300], Step [400/600], d_loss: 0.6238, g_loss: 2.5134, D(x): 0.86, D(G(z)): 0.24\n",
            "Epoch [53/300], Step [600/600], d_loss: 0.4783, g_loss: 3.3213, D(x): 0.85, D(G(z)): 0.16\n",
            "Saving fake_images-0054.png\n",
            "Epoch [54/300], Step [200/600], d_loss: 0.7201, g_loss: 2.6713, D(x): 0.79, D(G(z)): 0.23\n",
            "Epoch [54/300], Step [400/600], d_loss: 0.5615, g_loss: 2.1229, D(x): 0.83, D(G(z)): 0.21\n",
            "Epoch [54/300], Step [600/600], d_loss: 0.6616, g_loss: 2.0253, D(x): 0.86, D(G(z)): 0.27\n",
            "Saving fake_images-0055.png\n",
            "Epoch [55/300], Step [200/600], d_loss: 0.6834, g_loss: 2.8499, D(x): 0.76, D(G(z)): 0.18\n",
            "Epoch [55/300], Step [400/600], d_loss: 0.5504, g_loss: 2.8114, D(x): 0.81, D(G(z)): 0.19\n",
            "Epoch [55/300], Step [600/600], d_loss: 0.4781, g_loss: 3.2688, D(x): 0.89, D(G(z)): 0.20\n",
            "Saving fake_images-0056.png\n",
            "Epoch [56/300], Step [200/600], d_loss: 0.4681, g_loss: 2.6120, D(x): 0.85, D(G(z)): 0.17\n",
            "Epoch [56/300], Step [400/600], d_loss: 0.5533, g_loss: 2.6574, D(x): 0.81, D(G(z)): 0.19\n",
            "Epoch [56/300], Step [600/600], d_loss: 0.9275, g_loss: 2.0099, D(x): 0.64, D(G(z)): 0.12\n",
            "Saving fake_images-0057.png\n",
            "Epoch [57/300], Step [200/600], d_loss: 0.4345, g_loss: 3.2512, D(x): 0.80, D(G(z)): 0.11\n",
            "Epoch [57/300], Step [400/600], d_loss: 0.5967, g_loss: 2.1180, D(x): 0.81, D(G(z)): 0.19\n",
            "Epoch [57/300], Step [600/600], d_loss: 0.8101, g_loss: 1.9259, D(x): 0.76, D(G(z)): 0.26\n",
            "Saving fake_images-0058.png\n",
            "Epoch [58/300], Step [200/600], d_loss: 0.7585, g_loss: 2.3710, D(x): 0.79, D(G(z)): 0.21\n",
            "Epoch [58/300], Step [400/600], d_loss: 0.8392, g_loss: 2.3103, D(x): 0.66, D(G(z)): 0.13\n",
            "Epoch [58/300], Step [600/600], d_loss: 0.6335, g_loss: 2.5203, D(x): 0.80, D(G(z)): 0.18\n",
            "Saving fake_images-0059.png\n",
            "Epoch [59/300], Step [200/600], d_loss: 0.6079, g_loss: 2.6938, D(x): 0.82, D(G(z)): 0.23\n",
            "Epoch [59/300], Step [400/600], d_loss: 0.6435, g_loss: 2.6040, D(x): 0.79, D(G(z)): 0.21\n",
            "Epoch [59/300], Step [600/600], d_loss: 0.9158, g_loss: 2.0153, D(x): 0.77, D(G(z)): 0.31\n",
            "Saving fake_images-0060.png\n",
            "Epoch [60/300], Step [200/600], d_loss: 0.5432, g_loss: 2.6061, D(x): 0.80, D(G(z)): 0.16\n",
            "Epoch [60/300], Step [400/600], d_loss: 0.6520, g_loss: 2.3997, D(x): 0.82, D(G(z)): 0.28\n",
            "Epoch [60/300], Step [600/600], d_loss: 0.6640, g_loss: 2.3428, D(x): 0.77, D(G(z)): 0.21\n",
            "Saving fake_images-0061.png\n",
            "Epoch [61/300], Step [200/600], d_loss: 0.7569, g_loss: 3.0598, D(x): 0.75, D(G(z)): 0.18\n",
            "Epoch [61/300], Step [400/600], d_loss: 0.7188, g_loss: 2.6954, D(x): 0.76, D(G(z)): 0.22\n",
            "Epoch [61/300], Step [600/600], d_loss: 0.5595, g_loss: 2.5659, D(x): 0.86, D(G(z)): 0.25\n",
            "Saving fake_images-0062.png\n",
            "Epoch [62/300], Step [200/600], d_loss: 0.5952, g_loss: 2.0190, D(x): 0.75, D(G(z)): 0.15\n",
            "Epoch [62/300], Step [400/600], d_loss: 0.7018, g_loss: 1.9331, D(x): 0.85, D(G(z)): 0.30\n",
            "Epoch [62/300], Step [600/600], d_loss: 0.7332, g_loss: 1.6950, D(x): 0.71, D(G(z)): 0.20\n",
            "Saving fake_images-0063.png\n",
            "Epoch [63/300], Step [200/600], d_loss: 1.3918, g_loss: 2.5173, D(x): 0.56, D(G(z)): 0.23\n",
            "Epoch [63/300], Step [400/600], d_loss: 0.6805, g_loss: 2.1034, D(x): 0.74, D(G(z)): 0.21\n",
            "Epoch [63/300], Step [600/600], d_loss: 0.7807, g_loss: 1.9987, D(x): 0.74, D(G(z)): 0.24\n",
            "Saving fake_images-0064.png\n",
            "Epoch [64/300], Step [200/600], d_loss: 0.7119, g_loss: 2.3523, D(x): 0.72, D(G(z)): 0.17\n",
            "Epoch [64/300], Step [400/600], d_loss: 0.6248, g_loss: 2.2595, D(x): 0.75, D(G(z)): 0.18\n",
            "Epoch [64/300], Step [600/600], d_loss: 0.6044, g_loss: 1.7944, D(x): 0.81, D(G(z)): 0.21\n",
            "Saving fake_images-0065.png\n",
            "Epoch [65/300], Step [200/600], d_loss: 0.7623, g_loss: 1.8687, D(x): 0.76, D(G(z)): 0.24\n",
            "Epoch [65/300], Step [400/600], d_loss: 0.6665, g_loss: 2.1010, D(x): 0.79, D(G(z)): 0.25\n",
            "Epoch [65/300], Step [600/600], d_loss: 0.7761, g_loss: 1.9462, D(x): 0.72, D(G(z)): 0.20\n",
            "Saving fake_images-0066.png\n",
            "Epoch [66/300], Step [200/600], d_loss: 0.7917, g_loss: 2.0092, D(x): 0.74, D(G(z)): 0.23\n",
            "Epoch [66/300], Step [400/600], d_loss: 0.8734, g_loss: 1.7985, D(x): 0.70, D(G(z)): 0.22\n",
            "Epoch [66/300], Step [600/600], d_loss: 0.7491, g_loss: 2.9236, D(x): 0.70, D(G(z)): 0.17\n",
            "Saving fake_images-0067.png\n",
            "Epoch [67/300], Step [200/600], d_loss: 0.7469, g_loss: 2.1386, D(x): 0.82, D(G(z)): 0.29\n",
            "Epoch [67/300], Step [400/600], d_loss: 0.8409, g_loss: 2.1833, D(x): 0.79, D(G(z)): 0.29\n",
            "Epoch [67/300], Step [600/600], d_loss: 0.8692, g_loss: 2.3886, D(x): 0.68, D(G(z)): 0.17\n",
            "Saving fake_images-0068.png\n",
            "Epoch [68/300], Step [200/600], d_loss: 0.5334, g_loss: 2.6816, D(x): 0.83, D(G(z)): 0.21\n",
            "Epoch [68/300], Step [400/600], d_loss: 0.7911, g_loss: 1.3761, D(x): 0.70, D(G(z)): 0.22\n",
            "Epoch [68/300], Step [600/600], d_loss: 0.8329, g_loss: 2.5682, D(x): 0.75, D(G(z)): 0.27\n",
            "Saving fake_images-0069.png\n",
            "Epoch [69/300], Step [200/600], d_loss: 0.7205, g_loss: 1.6592, D(x): 0.84, D(G(z)): 0.31\n",
            "Epoch [69/300], Step [400/600], d_loss: 0.4773, g_loss: 2.6665, D(x): 0.82, D(G(z)): 0.13\n",
            "Epoch [69/300], Step [600/600], d_loss: 0.7835, g_loss: 2.0061, D(x): 0.77, D(G(z)): 0.25\n",
            "Saving fake_images-0070.png\n",
            "Epoch [70/300], Step [200/600], d_loss: 0.7624, g_loss: 2.2384, D(x): 0.75, D(G(z)): 0.23\n",
            "Epoch [70/300], Step [400/600], d_loss: 0.6265, g_loss: 2.8318, D(x): 0.78, D(G(z)): 0.19\n",
            "Epoch [70/300], Step [600/600], d_loss: 0.6403, g_loss: 2.3703, D(x): 0.82, D(G(z)): 0.24\n",
            "Saving fake_images-0071.png\n",
            "Epoch [71/300], Step [200/600], d_loss: 0.6144, g_loss: 1.6158, D(x): 0.82, D(G(z)): 0.24\n",
            "Epoch [71/300], Step [400/600], d_loss: 0.7241, g_loss: 2.2494, D(x): 0.79, D(G(z)): 0.27\n",
            "Epoch [71/300], Step [600/600], d_loss: 0.6381, g_loss: 2.1826, D(x): 0.83, D(G(z)): 0.22\n",
            "Saving fake_images-0072.png\n",
            "Epoch [72/300], Step [200/600], d_loss: 0.4888, g_loss: 3.0710, D(x): 0.85, D(G(z)): 0.20\n",
            "Epoch [72/300], Step [400/600], d_loss: 0.6197, g_loss: 2.1350, D(x): 0.84, D(G(z)): 0.27\n",
            "Epoch [72/300], Step [600/600], d_loss: 0.7135, g_loss: 2.4241, D(x): 0.77, D(G(z)): 0.22\n",
            "Saving fake_images-0073.png\n",
            "Epoch [73/300], Step [200/600], d_loss: 0.4950, g_loss: 2.3551, D(x): 0.86, D(G(z)): 0.20\n",
            "Epoch [73/300], Step [400/600], d_loss: 0.7095, g_loss: 2.5797, D(x): 0.72, D(G(z)): 0.16\n",
            "Epoch [73/300], Step [600/600], d_loss: 0.8242, g_loss: 2.8175, D(x): 0.81, D(G(z)): 0.34\n",
            "Saving fake_images-0074.png\n",
            "Epoch [74/300], Step [200/600], d_loss: 0.8124, g_loss: 2.3760, D(x): 0.73, D(G(z)): 0.22\n",
            "Epoch [74/300], Step [400/600], d_loss: 0.7872, g_loss: 2.0955, D(x): 0.70, D(G(z)): 0.21\n",
            "Epoch [74/300], Step [600/600], d_loss: 0.7063, g_loss: 1.7840, D(x): 0.83, D(G(z)): 0.29\n",
            "Saving fake_images-0075.png\n",
            "Epoch [75/300], Step [200/600], d_loss: 0.6434, g_loss: 1.8937, D(x): 0.75, D(G(z)): 0.15\n",
            "Epoch [75/300], Step [400/600], d_loss: 0.5677, g_loss: 2.4786, D(x): 0.78, D(G(z)): 0.15\n",
            "Epoch [75/300], Step [600/600], d_loss: 0.9079, g_loss: 1.9926, D(x): 0.69, D(G(z)): 0.25\n",
            "Saving fake_images-0076.png\n",
            "Epoch [76/300], Step [200/600], d_loss: 0.6544, g_loss: 2.0014, D(x): 0.79, D(G(z)): 0.22\n",
            "Epoch [76/300], Step [400/600], d_loss: 0.7081, g_loss: 2.1330, D(x): 0.76, D(G(z)): 0.21\n",
            "Epoch [76/300], Step [600/600], d_loss: 0.9016, g_loss: 1.7671, D(x): 0.80, D(G(z)): 0.33\n",
            "Saving fake_images-0077.png\n",
            "Epoch [77/300], Step [200/600], d_loss: 0.9439, g_loss: 2.2426, D(x): 0.85, D(G(z)): 0.43\n",
            "Epoch [77/300], Step [400/600], d_loss: 0.9282, g_loss: 1.8927, D(x): 0.72, D(G(z)): 0.28\n",
            "Epoch [77/300], Step [600/600], d_loss: 0.7451, g_loss: 2.2237, D(x): 0.74, D(G(z)): 0.18\n",
            "Saving fake_images-0078.png\n",
            "Epoch [78/300], Step [200/600], d_loss: 0.6690, g_loss: 2.7436, D(x): 0.73, D(G(z)): 0.18\n",
            "Epoch [78/300], Step [400/600], d_loss: 0.9749, g_loss: 1.9274, D(x): 0.70, D(G(z)): 0.26\n",
            "Epoch [78/300], Step [600/600], d_loss: 0.7958, g_loss: 2.0643, D(x): 0.74, D(G(z)): 0.22\n",
            "Saving fake_images-0079.png\n",
            "Epoch [79/300], Step [200/600], d_loss: 0.8650, g_loss: 2.0201, D(x): 0.71, D(G(z)): 0.26\n",
            "Epoch [79/300], Step [400/600], d_loss: 0.6040, g_loss: 2.0820, D(x): 0.82, D(G(z)): 0.24\n",
            "Epoch [79/300], Step [600/600], d_loss: 0.9858, g_loss: 1.7593, D(x): 0.68, D(G(z)): 0.24\n",
            "Saving fake_images-0080.png\n",
            "Epoch [80/300], Step [200/600], d_loss: 0.7876, g_loss: 2.4972, D(x): 0.74, D(G(z)): 0.26\n",
            "Epoch [80/300], Step [400/600], d_loss: 0.6350, g_loss: 2.3467, D(x): 0.77, D(G(z)): 0.19\n",
            "Epoch [80/300], Step [600/600], d_loss: 0.9115, g_loss: 1.6401, D(x): 0.81, D(G(z)): 0.41\n",
            "Saving fake_images-0081.png\n",
            "Epoch [81/300], Step [200/600], d_loss: 0.7143, g_loss: 2.2314, D(x): 0.72, D(G(z)): 0.20\n",
            "Epoch [81/300], Step [400/600], d_loss: 0.6390, g_loss: 2.1169, D(x): 0.81, D(G(z)): 0.25\n",
            "Epoch [81/300], Step [600/600], d_loss: 1.0601, g_loss: 1.6771, D(x): 0.65, D(G(z)): 0.24\n",
            "Saving fake_images-0082.png\n",
            "Epoch [82/300], Step [200/600], d_loss: 0.8395, g_loss: 1.9506, D(x): 0.71, D(G(z)): 0.24\n",
            "Epoch [82/300], Step [400/600], d_loss: 0.9753, g_loss: 2.0944, D(x): 0.63, D(G(z)): 0.19\n",
            "Epoch [82/300], Step [600/600], d_loss: 0.6939, g_loss: 2.5159, D(x): 0.83, D(G(z)): 0.28\n",
            "Saving fake_images-0083.png\n",
            "Epoch [83/300], Step [200/600], d_loss: 0.8816, g_loss: 2.5484, D(x): 0.66, D(G(z)): 0.19\n",
            "Epoch [83/300], Step [400/600], d_loss: 0.6880, g_loss: 2.3049, D(x): 0.81, D(G(z)): 0.27\n",
            "Epoch [83/300], Step [600/600], d_loss: 0.7972, g_loss: 1.9285, D(x): 0.69, D(G(z)): 0.20\n",
            "Saving fake_images-0084.png\n",
            "Epoch [84/300], Step [200/600], d_loss: 0.8035, g_loss: 1.7503, D(x): 0.82, D(G(z)): 0.35\n",
            "Epoch [84/300], Step [400/600], d_loss: 0.6518, g_loss: 1.9280, D(x): 0.77, D(G(z)): 0.21\n",
            "Epoch [84/300], Step [600/600], d_loss: 0.6268, g_loss: 2.1512, D(x): 0.77, D(G(z)): 0.19\n",
            "Saving fake_images-0085.png\n",
            "Epoch [85/300], Step [200/600], d_loss: 0.7566, g_loss: 1.3578, D(x): 0.75, D(G(z)): 0.26\n",
            "Epoch [85/300], Step [400/600], d_loss: 0.6526, g_loss: 1.6597, D(x): 0.75, D(G(z)): 0.20\n",
            "Epoch [85/300], Step [600/600], d_loss: 0.6841, g_loss: 2.8091, D(x): 0.77, D(G(z)): 0.20\n",
            "Saving fake_images-0086.png\n",
            "Epoch [86/300], Step [200/600], d_loss: 0.8999, g_loss: 1.6398, D(x): 0.74, D(G(z)): 0.30\n",
            "Epoch [86/300], Step [400/600], d_loss: 0.8768, g_loss: 1.8193, D(x): 0.80, D(G(z)): 0.36\n",
            "Epoch [86/300], Step [600/600], d_loss: 0.8654, g_loss: 1.8643, D(x): 0.66, D(G(z)): 0.20\n",
            "Saving fake_images-0087.png\n",
            "Epoch [87/300], Step [200/600], d_loss: 1.0256, g_loss: 1.4607, D(x): 0.62, D(G(z)): 0.25\n",
            "Epoch [87/300], Step [400/600], d_loss: 0.9074, g_loss: 2.2033, D(x): 0.68, D(G(z)): 0.21\n",
            "Epoch [87/300], Step [600/600], d_loss: 0.8175, g_loss: 1.8863, D(x): 0.68, D(G(z)): 0.18\n",
            "Saving fake_images-0088.png\n",
            "Epoch [88/300], Step [200/600], d_loss: 0.7506, g_loss: 2.6368, D(x): 0.71, D(G(z)): 0.18\n",
            "Epoch [88/300], Step [400/600], d_loss: 0.9675, g_loss: 1.5873, D(x): 0.78, D(G(z)): 0.38\n",
            "Epoch [88/300], Step [600/600], d_loss: 0.6150, g_loss: 2.4863, D(x): 0.76, D(G(z)): 0.20\n",
            "Saving fake_images-0089.png\n",
            "Epoch [89/300], Step [200/600], d_loss: 0.6950, g_loss: 1.8910, D(x): 0.73, D(G(z)): 0.18\n",
            "Epoch [89/300], Step [400/600], d_loss: 0.7682, g_loss: 2.5471, D(x): 0.75, D(G(z)): 0.27\n",
            "Epoch [89/300], Step [600/600], d_loss: 0.6620, g_loss: 1.8586, D(x): 0.80, D(G(z)): 0.25\n",
            "Saving fake_images-0090.png\n",
            "Epoch [90/300], Step [200/600], d_loss: 0.6708, g_loss: 2.4209, D(x): 0.72, D(G(z)): 0.16\n",
            "Epoch [90/300], Step [400/600], d_loss: 0.8089, g_loss: 2.0691, D(x): 0.69, D(G(z)): 0.21\n",
            "Epoch [90/300], Step [600/600], d_loss: 0.9655, g_loss: 2.2933, D(x): 0.68, D(G(z)): 0.22\n",
            "Saving fake_images-0091.png\n",
            "Epoch [91/300], Step [200/600], d_loss: 0.8567, g_loss: 2.2241, D(x): 0.77, D(G(z)): 0.33\n",
            "Epoch [91/300], Step [400/600], d_loss: 0.9833, g_loss: 2.2515, D(x): 0.66, D(G(z)): 0.24\n",
            "Epoch [91/300], Step [600/600], d_loss: 0.8736, g_loss: 1.5497, D(x): 0.70, D(G(z)): 0.25\n",
            "Saving fake_images-0092.png\n",
            "Epoch [92/300], Step [200/600], d_loss: 0.7678, g_loss: 1.7376, D(x): 0.79, D(G(z)): 0.28\n",
            "Epoch [92/300], Step [400/600], d_loss: 0.7305, g_loss: 2.0972, D(x): 0.80, D(G(z)): 0.28\n",
            "Epoch [92/300], Step [600/600], d_loss: 0.7147, g_loss: 1.4688, D(x): 0.78, D(G(z)): 0.24\n",
            "Saving fake_images-0093.png\n",
            "Epoch [93/300], Step [200/600], d_loss: 0.8924, g_loss: 2.4285, D(x): 0.70, D(G(z)): 0.24\n",
            "Epoch [93/300], Step [400/600], d_loss: 0.9576, g_loss: 1.8771, D(x): 0.71, D(G(z)): 0.30\n",
            "Epoch [93/300], Step [600/600], d_loss: 0.6271, g_loss: 2.2099, D(x): 0.73, D(G(z)): 0.17\n",
            "Saving fake_images-0094.png\n",
            "Epoch [94/300], Step [200/600], d_loss: 0.8552, g_loss: 1.2421, D(x): 0.74, D(G(z)): 0.30\n",
            "Epoch [94/300], Step [400/600], d_loss: 0.7608, g_loss: 1.5614, D(x): 0.81, D(G(z)): 0.32\n",
            "Epoch [94/300], Step [600/600], d_loss: 0.7121, g_loss: 2.0382, D(x): 0.79, D(G(z)): 0.26\n",
            "Saving fake_images-0095.png\n",
            "Epoch [95/300], Step [200/600], d_loss: 0.6495, g_loss: 1.9064, D(x): 0.78, D(G(z)): 0.23\n",
            "Epoch [95/300], Step [400/600], d_loss: 0.6101, g_loss: 2.2228, D(x): 0.81, D(G(z)): 0.26\n",
            "Epoch [95/300], Step [600/600], d_loss: 1.0118, g_loss: 1.6782, D(x): 0.70, D(G(z)): 0.33\n",
            "Saving fake_images-0096.png\n",
            "Epoch [96/300], Step [200/600], d_loss: 0.9120, g_loss: 1.7143, D(x): 0.71, D(G(z)): 0.25\n",
            "Epoch [96/300], Step [400/600], d_loss: 0.6890, g_loss: 2.2063, D(x): 0.75, D(G(z)): 0.23\n",
            "Epoch [96/300], Step [600/600], d_loss: 0.7366, g_loss: 1.9822, D(x): 0.77, D(G(z)): 0.28\n",
            "Saving fake_images-0097.png\n",
            "Epoch [97/300], Step [200/600], d_loss: 0.8487, g_loss: 1.7631, D(x): 0.70, D(G(z)): 0.24\n",
            "Epoch [97/300], Step [400/600], d_loss: 0.8156, g_loss: 1.7803, D(x): 0.73, D(G(z)): 0.28\n",
            "Epoch [97/300], Step [600/600], d_loss: 0.6839, g_loss: 1.6654, D(x): 0.80, D(G(z)): 0.29\n",
            "Saving fake_images-0098.png\n",
            "Epoch [98/300], Step [200/600], d_loss: 0.6379, g_loss: 1.9066, D(x): 0.79, D(G(z)): 0.23\n",
            "Epoch [98/300], Step [400/600], d_loss: 0.9184, g_loss: 1.9252, D(x): 0.72, D(G(z)): 0.30\n",
            "Epoch [98/300], Step [600/600], d_loss: 0.7273, g_loss: 1.5938, D(x): 0.82, D(G(z)): 0.30\n",
            "Saving fake_images-0099.png\n",
            "Epoch [99/300], Step [200/600], d_loss: 0.9650, g_loss: 1.7142, D(x): 0.68, D(G(z)): 0.29\n",
            "Epoch [99/300], Step [400/600], d_loss: 0.7703, g_loss: 1.8220, D(x): 0.71, D(G(z)): 0.23\n",
            "Epoch [99/300], Step [600/600], d_loss: 1.0488, g_loss: 1.6094, D(x): 0.64, D(G(z)): 0.24\n",
            "Saving fake_images-0100.png\n",
            "Epoch [100/300], Step [200/600], d_loss: 0.7916, g_loss: 1.9913, D(x): 0.73, D(G(z)): 0.24\n",
            "Epoch [100/300], Step [400/600], d_loss: 0.7548, g_loss: 2.3903, D(x): 0.72, D(G(z)): 0.23\n",
            "Epoch [100/300], Step [600/600], d_loss: 0.7441, g_loss: 1.4104, D(x): 0.74, D(G(z)): 0.24\n",
            "Saving fake_images-0101.png\n",
            "Epoch [101/300], Step [200/600], d_loss: 0.8032, g_loss: 1.8542, D(x): 0.70, D(G(z)): 0.20\n",
            "Epoch [101/300], Step [400/600], d_loss: 0.7113, g_loss: 1.8296, D(x): 0.76, D(G(z)): 0.24\n",
            "Epoch [101/300], Step [600/600], d_loss: 0.8523, g_loss: 1.8484, D(x): 0.72, D(G(z)): 0.27\n",
            "Saving fake_images-0102.png\n",
            "Epoch [102/300], Step [200/600], d_loss: 0.6620, g_loss: 2.0562, D(x): 0.75, D(G(z)): 0.21\n",
            "Epoch [102/300], Step [400/600], d_loss: 0.7674, g_loss: 1.4692, D(x): 0.82, D(G(z)): 0.34\n",
            "Epoch [102/300], Step [600/600], d_loss: 0.8590, g_loss: 1.7107, D(x): 0.83, D(G(z)): 0.38\n",
            "Saving fake_images-0103.png\n",
            "Epoch [103/300], Step [200/600], d_loss: 0.6723, g_loss: 1.4316, D(x): 0.80, D(G(z)): 0.29\n",
            "Epoch [103/300], Step [400/600], d_loss: 0.8978, g_loss: 1.1513, D(x): 0.80, D(G(z)): 0.37\n",
            "Epoch [103/300], Step [600/600], d_loss: 0.6813, g_loss: 2.4351, D(x): 0.77, D(G(z)): 0.23\n",
            "Saving fake_images-0104.png\n",
            "Epoch [104/300], Step [200/600], d_loss: 0.7603, g_loss: 2.0294, D(x): 0.77, D(G(z)): 0.29\n",
            "Epoch [104/300], Step [400/600], d_loss: 0.8124, g_loss: 2.0058, D(x): 0.72, D(G(z)): 0.25\n",
            "Epoch [104/300], Step [600/600], d_loss: 0.7393, g_loss: 1.9981, D(x): 0.71, D(G(z)): 0.21\n",
            "Saving fake_images-0105.png\n",
            "Epoch [105/300], Step [200/600], d_loss: 0.6347, g_loss: 1.9889, D(x): 0.81, D(G(z)): 0.24\n",
            "Epoch [105/300], Step [400/600], d_loss: 0.7980, g_loss: 1.7035, D(x): 0.75, D(G(z)): 0.28\n",
            "Epoch [105/300], Step [600/600], d_loss: 1.0204, g_loss: 1.5309, D(x): 0.74, D(G(z)): 0.36\n",
            "Saving fake_images-0106.png\n",
            "Epoch [106/300], Step [200/600], d_loss: 1.0114, g_loss: 2.1795, D(x): 0.65, D(G(z)): 0.28\n",
            "Epoch [106/300], Step [400/600], d_loss: 0.7131, g_loss: 1.8086, D(x): 0.74, D(G(z)): 0.22\n",
            "Epoch [106/300], Step [600/600], d_loss: 0.7475, g_loss: 1.6029, D(x): 0.85, D(G(z)): 0.35\n",
            "Saving fake_images-0107.png\n",
            "Epoch [107/300], Step [200/600], d_loss: 0.7492, g_loss: 2.4963, D(x): 0.72, D(G(z)): 0.24\n",
            "Epoch [107/300], Step [400/600], d_loss: 0.8913, g_loss: 1.8337, D(x): 0.68, D(G(z)): 0.27\n",
            "Epoch [107/300], Step [600/600], d_loss: 1.0488, g_loss: 1.7767, D(x): 0.64, D(G(z)): 0.28\n",
            "Saving fake_images-0108.png\n",
            "Epoch [108/300], Step [200/600], d_loss: 0.7891, g_loss: 1.9599, D(x): 0.73, D(G(z)): 0.28\n",
            "Epoch [108/300], Step [400/600], d_loss: 0.6271, g_loss: 1.6846, D(x): 0.77, D(G(z)): 0.22\n",
            "Epoch [108/300], Step [600/600], d_loss: 1.0589, g_loss: 1.6992, D(x): 0.71, D(G(z)): 0.34\n",
            "Saving fake_images-0109.png\n",
            "Epoch [109/300], Step [200/600], d_loss: 0.9854, g_loss: 1.1199, D(x): 0.69, D(G(z)): 0.29\n",
            "Epoch [109/300], Step [400/600], d_loss: 0.9177, g_loss: 1.6392, D(x): 0.83, D(G(z)): 0.38\n",
            "Epoch [109/300], Step [600/600], d_loss: 0.7288, g_loss: 1.9923, D(x): 0.76, D(G(z)): 0.27\n",
            "Saving fake_images-0110.png\n",
            "Epoch [110/300], Step [200/600], d_loss: 0.7516, g_loss: 1.5524, D(x): 0.72, D(G(z)): 0.26\n",
            "Epoch [110/300], Step [400/600], d_loss: 0.8226, g_loss: 1.4562, D(x): 0.74, D(G(z)): 0.28\n",
            "Epoch [110/300], Step [600/600], d_loss: 0.6578, g_loss: 1.8522, D(x): 0.77, D(G(z)): 0.23\n",
            "Saving fake_images-0111.png\n",
            "Epoch [111/300], Step [200/600], d_loss: 0.7328, g_loss: 2.1499, D(x): 0.66, D(G(z)): 0.16\n",
            "Epoch [111/300], Step [400/600], d_loss: 0.6723, g_loss: 2.1817, D(x): 0.72, D(G(z)): 0.16\n",
            "Epoch [111/300], Step [600/600], d_loss: 0.8569, g_loss: 2.1096, D(x): 0.76, D(G(z)): 0.31\n",
            "Saving fake_images-0112.png\n",
            "Epoch [112/300], Step [200/600], d_loss: 0.7918, g_loss: 2.0116, D(x): 0.79, D(G(z)): 0.32\n",
            "Epoch [112/300], Step [400/600], d_loss: 1.0969, g_loss: 1.4421, D(x): 0.73, D(G(z)): 0.39\n",
            "Epoch [112/300], Step [600/600], d_loss: 1.0339, g_loss: 1.6698, D(x): 0.72, D(G(z)): 0.36\n",
            "Saving fake_images-0113.png\n",
            "Epoch [113/300], Step [200/600], d_loss: 0.7901, g_loss: 1.7881, D(x): 0.75, D(G(z)): 0.28\n",
            "Epoch [113/300], Step [400/600], d_loss: 0.7541, g_loss: 1.9958, D(x): 0.71, D(G(z)): 0.25\n",
            "Epoch [113/300], Step [600/600], d_loss: 0.9030, g_loss: 1.5176, D(x): 0.62, D(G(z)): 0.17\n",
            "Saving fake_images-0114.png\n",
            "Epoch [114/300], Step [200/600], d_loss: 0.8631, g_loss: 1.4594, D(x): 0.72, D(G(z)): 0.30\n",
            "Epoch [114/300], Step [400/600], d_loss: 0.7145, g_loss: 1.4879, D(x): 0.74, D(G(z)): 0.24\n",
            "Epoch [114/300], Step [600/600], d_loss: 1.2436, g_loss: 1.0890, D(x): 0.56, D(G(z)): 0.28\n",
            "Saving fake_images-0115.png\n",
            "Epoch [115/300], Step [200/600], d_loss: 0.9319, g_loss: 1.7436, D(x): 0.71, D(G(z)): 0.32\n",
            "Epoch [115/300], Step [400/600], d_loss: 0.9510, g_loss: 1.4193, D(x): 0.68, D(G(z)): 0.29\n",
            "Epoch [115/300], Step [600/600], d_loss: 0.9561, g_loss: 1.8762, D(x): 0.71, D(G(z)): 0.27\n",
            "Saving fake_images-0116.png\n",
            "Epoch [116/300], Step [200/600], d_loss: 0.7682, g_loss: 1.9472, D(x): 0.69, D(G(z)): 0.20\n",
            "Epoch [116/300], Step [400/600], d_loss: 0.7528, g_loss: 2.2318, D(x): 0.75, D(G(z)): 0.25\n",
            "Epoch [116/300], Step [600/600], d_loss: 0.7698, g_loss: 2.5456, D(x): 0.72, D(G(z)): 0.22\n",
            "Saving fake_images-0117.png\n",
            "Epoch [117/300], Step [200/600], d_loss: 0.8627, g_loss: 1.7472, D(x): 0.71, D(G(z)): 0.29\n",
            "Epoch [117/300], Step [400/600], d_loss: 0.9083, g_loss: 1.4644, D(x): 0.70, D(G(z)): 0.30\n",
            "Epoch [117/300], Step [600/600], d_loss: 0.8882, g_loss: 1.8377, D(x): 0.73, D(G(z)): 0.29\n",
            "Saving fake_images-0118.png\n",
            "Epoch [118/300], Step [200/600], d_loss: 1.1922, g_loss: 1.6878, D(x): 0.71, D(G(z)): 0.40\n",
            "Epoch [118/300], Step [400/600], d_loss: 0.7437, g_loss: 2.4249, D(x): 0.77, D(G(z)): 0.28\n",
            "Epoch [118/300], Step [600/600], d_loss: 0.8428, g_loss: 2.0607, D(x): 0.68, D(G(z)): 0.22\n",
            "Saving fake_images-0119.png\n",
            "Epoch [119/300], Step [200/600], d_loss: 1.0011, g_loss: 1.4806, D(x): 0.71, D(G(z)): 0.34\n",
            "Epoch [119/300], Step [400/600], d_loss: 0.8386, g_loss: 1.9627, D(x): 0.75, D(G(z)): 0.31\n",
            "Epoch [119/300], Step [600/600], d_loss: 0.7249, g_loss: 1.7925, D(x): 0.75, D(G(z)): 0.25\n",
            "Saving fake_images-0120.png\n",
            "Epoch [120/300], Step [200/600], d_loss: 0.8339, g_loss: 1.9515, D(x): 0.70, D(G(z)): 0.26\n",
            "Epoch [120/300], Step [400/600], d_loss: 0.7932, g_loss: 1.7671, D(x): 0.73, D(G(z)): 0.26\n",
            "Epoch [120/300], Step [600/600], d_loss: 0.7380, g_loss: 1.4275, D(x): 0.72, D(G(z)): 0.23\n",
            "Saving fake_images-0121.png\n",
            "Epoch [121/300], Step [200/600], d_loss: 0.7632, g_loss: 2.3216, D(x): 0.75, D(G(z)): 0.29\n",
            "Epoch [121/300], Step [400/600], d_loss: 1.0533, g_loss: 1.5276, D(x): 0.78, D(G(z)): 0.43\n",
            "Epoch [121/300], Step [600/600], d_loss: 0.5836, g_loss: 2.3307, D(x): 0.83, D(G(z)): 0.26\n",
            "Saving fake_images-0122.png\n",
            "Epoch [122/300], Step [200/600], d_loss: 0.6361, g_loss: 2.2813, D(x): 0.76, D(G(z)): 0.21\n",
            "Epoch [122/300], Step [400/600], d_loss: 0.7714, g_loss: 1.5396, D(x): 0.80, D(G(z)): 0.31\n",
            "Epoch [122/300], Step [600/600], d_loss: 0.8369, g_loss: 1.9087, D(x): 0.70, D(G(z)): 0.23\n",
            "Saving fake_images-0123.png\n",
            "Epoch [123/300], Step [200/600], d_loss: 0.8611, g_loss: 1.2985, D(x): 0.78, D(G(z)): 0.33\n",
            "Epoch [123/300], Step [400/600], d_loss: 0.7256, g_loss: 1.5528, D(x): 0.74, D(G(z)): 0.27\n",
            "Epoch [123/300], Step [600/600], d_loss: 0.8481, g_loss: 1.1475, D(x): 0.68, D(G(z)): 0.25\n",
            "Saving fake_images-0124.png\n",
            "Epoch [124/300], Step [200/600], d_loss: 0.9565, g_loss: 1.6756, D(x): 0.68, D(G(z)): 0.27\n",
            "Epoch [124/300], Step [400/600], d_loss: 0.9266, g_loss: 1.3990, D(x): 0.73, D(G(z)): 0.32\n",
            "Epoch [124/300], Step [600/600], d_loss: 0.8850, g_loss: 1.6731, D(x): 0.74, D(G(z)): 0.32\n",
            "Saving fake_images-0125.png\n",
            "Epoch [125/300], Step [200/600], d_loss: 0.8325, g_loss: 1.6097, D(x): 0.72, D(G(z)): 0.28\n",
            "Epoch [125/300], Step [400/600], d_loss: 0.8656, g_loss: 1.6659, D(x): 0.68, D(G(z)): 0.23\n",
            "Epoch [125/300], Step [600/600], d_loss: 0.9623, g_loss: 1.3516, D(x): 0.65, D(G(z)): 0.27\n",
            "Saving fake_images-0126.png\n",
            "Epoch [126/300], Step [200/600], d_loss: 0.7919, g_loss: 1.6774, D(x): 0.69, D(G(z)): 0.23\n",
            "Epoch [126/300], Step [400/600], d_loss: 0.8022, g_loss: 1.5807, D(x): 0.71, D(G(z)): 0.27\n",
            "Epoch [126/300], Step [600/600], d_loss: 1.0265, g_loss: 1.4609, D(x): 0.74, D(G(z)): 0.38\n",
            "Saving fake_images-0127.png\n",
            "Epoch [127/300], Step [200/600], d_loss: 1.1376, g_loss: 1.4024, D(x): 0.80, D(G(z)): 0.46\n",
            "Epoch [127/300], Step [400/600], d_loss: 0.9933, g_loss: 1.4005, D(x): 0.60, D(G(z)): 0.24\n",
            "Epoch [127/300], Step [600/600], d_loss: 0.7966, g_loss: 1.4817, D(x): 0.70, D(G(z)): 0.24\n",
            "Saving fake_images-0128.png\n",
            "Epoch [128/300], Step [200/600], d_loss: 1.1559, g_loss: 1.2128, D(x): 0.55, D(G(z)): 0.24\n",
            "Epoch [128/300], Step [400/600], d_loss: 0.7487, g_loss: 1.7179, D(x): 0.73, D(G(z)): 0.25\n",
            "Epoch [128/300], Step [600/600], d_loss: 0.7282, g_loss: 2.1905, D(x): 0.73, D(G(z)): 0.21\n",
            "Saving fake_images-0129.png\n",
            "Epoch [129/300], Step [200/600], d_loss: 0.6706, g_loss: 1.7613, D(x): 0.84, D(G(z)): 0.31\n",
            "Epoch [129/300], Step [400/600], d_loss: 0.9305, g_loss: 1.5552, D(x): 0.76, D(G(z)): 0.38\n",
            "Epoch [129/300], Step [600/600], d_loss: 0.8285, g_loss: 1.6923, D(x): 0.75, D(G(z)): 0.32\n",
            "Saving fake_images-0130.png\n",
            "Epoch [130/300], Step [200/600], d_loss: 1.2121, g_loss: 1.2161, D(x): 0.76, D(G(z)): 0.44\n",
            "Epoch [130/300], Step [400/600], d_loss: 0.7928, g_loss: 1.8179, D(x): 0.73, D(G(z)): 0.25\n",
            "Epoch [130/300], Step [600/600], d_loss: 0.7521, g_loss: 1.4638, D(x): 0.75, D(G(z)): 0.26\n",
            "Saving fake_images-0131.png\n",
            "Epoch [131/300], Step [200/600], d_loss: 0.8872, g_loss: 1.3538, D(x): 0.72, D(G(z)): 0.32\n",
            "Epoch [131/300], Step [400/600], d_loss: 0.8444, g_loss: 1.8291, D(x): 0.74, D(G(z)): 0.28\n",
            "Epoch [131/300], Step [600/600], d_loss: 0.7458, g_loss: 1.5543, D(x): 0.75, D(G(z)): 0.26\n",
            "Saving fake_images-0132.png\n",
            "Epoch [132/300], Step [200/600], d_loss: 0.9059, g_loss: 1.3200, D(x): 0.72, D(G(z)): 0.34\n",
            "Epoch [132/300], Step [400/600], d_loss: 0.9061, g_loss: 1.9297, D(x): 0.76, D(G(z)): 0.33\n",
            "Epoch [132/300], Step [600/600], d_loss: 1.0023, g_loss: 1.3199, D(x): 0.73, D(G(z)): 0.37\n",
            "Saving fake_images-0133.png\n",
            "Epoch [133/300], Step [200/600], d_loss: 1.0815, g_loss: 1.3134, D(x): 0.73, D(G(z)): 0.39\n",
            "Epoch [133/300], Step [400/600], d_loss: 0.7090, g_loss: 2.1390, D(x): 0.75, D(G(z)): 0.25\n",
            "Epoch [133/300], Step [600/600], d_loss: 0.7540, g_loss: 2.0953, D(x): 0.75, D(G(z)): 0.26\n",
            "Saving fake_images-0134.png\n",
            "Epoch [134/300], Step [200/600], d_loss: 0.9009, g_loss: 1.5531, D(x): 0.68, D(G(z)): 0.26\n",
            "Epoch [134/300], Step [400/600], d_loss: 1.1552, g_loss: 1.4178, D(x): 0.67, D(G(z)): 0.42\n",
            "Epoch [134/300], Step [600/600], d_loss: 1.0747, g_loss: 1.5179, D(x): 0.62, D(G(z)): 0.31\n",
            "Saving fake_images-0135.png\n",
            "Epoch [135/300], Step [200/600], d_loss: 0.9086, g_loss: 1.5703, D(x): 0.67, D(G(z)): 0.26\n",
            "Epoch [135/300], Step [400/600], d_loss: 1.0848, g_loss: 1.3188, D(x): 0.66, D(G(z)): 0.31\n",
            "Epoch [135/300], Step [600/600], d_loss: 0.7973, g_loss: 1.9557, D(x): 0.74, D(G(z)): 0.28\n",
            "Saving fake_images-0136.png\n",
            "Epoch [136/300], Step [200/600], d_loss: 0.8354, g_loss: 1.5753, D(x): 0.75, D(G(z)): 0.33\n",
            "Epoch [136/300], Step [400/600], d_loss: 0.9084, g_loss: 1.7610, D(x): 0.66, D(G(z)): 0.25\n",
            "Epoch [136/300], Step [600/600], d_loss: 1.0337, g_loss: 1.4091, D(x): 0.67, D(G(z)): 0.35\n",
            "Saving fake_images-0137.png\n",
            "Epoch [137/300], Step [200/600], d_loss: 0.7604, g_loss: 1.7251, D(x): 0.77, D(G(z)): 0.28\n",
            "Epoch [137/300], Step [400/600], d_loss: 0.8282, g_loss: 1.7614, D(x): 0.76, D(G(z)): 0.32\n",
            "Epoch [137/300], Step [600/600], d_loss: 1.0928, g_loss: 1.8419, D(x): 0.61, D(G(z)): 0.26\n",
            "Saving fake_images-0138.png\n",
            "Epoch [138/300], Step [200/600], d_loss: 0.7712, g_loss: 1.5153, D(x): 0.78, D(G(z)): 0.32\n",
            "Epoch [138/300], Step [400/600], d_loss: 0.8338, g_loss: 1.5693, D(x): 0.71, D(G(z)): 0.27\n",
            "Epoch [138/300], Step [600/600], d_loss: 0.8655, g_loss: 1.9773, D(x): 0.75, D(G(z)): 0.31\n",
            "Saving fake_images-0139.png\n",
            "Epoch [139/300], Step [200/600], d_loss: 0.9385, g_loss: 1.4385, D(x): 0.66, D(G(z)): 0.29\n",
            "Epoch [139/300], Step [400/600], d_loss: 1.0348, g_loss: 2.0173, D(x): 0.54, D(G(z)): 0.18\n",
            "Epoch [139/300], Step [600/600], d_loss: 0.7546, g_loss: 1.8008, D(x): 0.77, D(G(z)): 0.30\n",
            "Saving fake_images-0140.png\n",
            "Epoch [140/300], Step [200/600], d_loss: 0.9497, g_loss: 1.7627, D(x): 0.63, D(G(z)): 0.21\n",
            "Epoch [140/300], Step [400/600], d_loss: 1.0788, g_loss: 1.4975, D(x): 0.70, D(G(z)): 0.37\n",
            "Epoch [140/300], Step [600/600], d_loss: 1.0683, g_loss: 1.4865, D(x): 0.66, D(G(z)): 0.34\n",
            "Saving fake_images-0141.png\n",
            "Epoch [141/300], Step [200/600], d_loss: 0.8093, g_loss: 1.1680, D(x): 0.72, D(G(z)): 0.29\n",
            "Epoch [141/300], Step [400/600], d_loss: 0.9253, g_loss: 1.6409, D(x): 0.71, D(G(z)): 0.34\n",
            "Epoch [141/300], Step [600/600], d_loss: 0.8518, g_loss: 1.6547, D(x): 0.70, D(G(z)): 0.25\n",
            "Saving fake_images-0142.png\n",
            "Epoch [142/300], Step [200/600], d_loss: 1.0502, g_loss: 1.7737, D(x): 0.68, D(G(z)): 0.33\n",
            "Epoch [142/300], Step [400/600], d_loss: 0.8769, g_loss: 1.5943, D(x): 0.67, D(G(z)): 0.22\n",
            "Epoch [142/300], Step [600/600], d_loss: 0.9448, g_loss: 1.7829, D(x): 0.66, D(G(z)): 0.23\n",
            "Saving fake_images-0143.png\n",
            "Epoch [143/300], Step [200/600], d_loss: 0.9729, g_loss: 1.6916, D(x): 0.66, D(G(z)): 0.29\n",
            "Epoch [143/300], Step [400/600], d_loss: 0.9126, g_loss: 1.6525, D(x): 0.68, D(G(z)): 0.30\n",
            "Epoch [143/300], Step [600/600], d_loss: 0.8857, g_loss: 1.3091, D(x): 0.79, D(G(z)): 0.39\n",
            "Saving fake_images-0144.png\n",
            "Epoch [144/300], Step [200/600], d_loss: 0.7826, g_loss: 1.7733, D(x): 0.71, D(G(z)): 0.23\n",
            "Epoch [144/300], Step [400/600], d_loss: 0.8527, g_loss: 2.0221, D(x): 0.65, D(G(z)): 0.21\n",
            "Epoch [144/300], Step [600/600], d_loss: 0.8865, g_loss: 1.5540, D(x): 0.68, D(G(z)): 0.25\n",
            "Saving fake_images-0145.png\n",
            "Epoch [145/300], Step [200/600], d_loss: 0.9455, g_loss: 1.8489, D(x): 0.72, D(G(z)): 0.30\n",
            "Epoch [145/300], Step [400/600], d_loss: 0.8195, g_loss: 1.1192, D(x): 0.75, D(G(z)): 0.32\n",
            "Epoch [145/300], Step [600/600], d_loss: 0.8631, g_loss: 1.5647, D(x): 0.66, D(G(z)): 0.20\n",
            "Saving fake_images-0146.png\n",
            "Epoch [146/300], Step [200/600], d_loss: 1.0485, g_loss: 1.2133, D(x): 0.62, D(G(z)): 0.29\n",
            "Epoch [146/300], Step [400/600], d_loss: 0.8901, g_loss: 1.4110, D(x): 0.67, D(G(z)): 0.29\n",
            "Epoch [146/300], Step [600/600], d_loss: 0.8271, g_loss: 1.7066, D(x): 0.76, D(G(z)): 0.32\n",
            "Saving fake_images-0147.png\n",
            "Epoch [147/300], Step [200/600], d_loss: 1.0042, g_loss: 1.7282, D(x): 0.60, D(G(z)): 0.25\n",
            "Epoch [147/300], Step [400/600], d_loss: 0.8722, g_loss: 1.6157, D(x): 0.68, D(G(z)): 0.28\n",
            "Epoch [147/300], Step [600/600], d_loss: 0.9867, g_loss: 1.4211, D(x): 0.72, D(G(z)): 0.37\n",
            "Saving fake_images-0148.png\n",
            "Epoch [148/300], Step [200/600], d_loss: 0.9428, g_loss: 2.0603, D(x): 0.67, D(G(z)): 0.28\n",
            "Epoch [148/300], Step [400/600], d_loss: 0.9714, g_loss: 1.6055, D(x): 0.62, D(G(z)): 0.24\n",
            "Epoch [148/300], Step [600/600], d_loss: 0.8834, g_loss: 1.7171, D(x): 0.74, D(G(z)): 0.36\n",
            "Saving fake_images-0149.png\n",
            "Epoch [149/300], Step [200/600], d_loss: 1.1772, g_loss: 1.4497, D(x): 0.63, D(G(z)): 0.37\n",
            "Epoch [149/300], Step [400/600], d_loss: 0.7796, g_loss: 1.6917, D(x): 0.71, D(G(z)): 0.25\n",
            "Epoch [149/300], Step [600/600], d_loss: 0.7320, g_loss: 1.9652, D(x): 0.66, D(G(z)): 0.16\n",
            "Saving fake_images-0150.png\n",
            "Epoch [150/300], Step [200/600], d_loss: 0.8729, g_loss: 1.6165, D(x): 0.75, D(G(z)): 0.33\n",
            "Epoch [150/300], Step [400/600], d_loss: 0.8147, g_loss: 1.6612, D(x): 0.70, D(G(z)): 0.25\n",
            "Epoch [150/300], Step [600/600], d_loss: 1.0059, g_loss: 1.4431, D(x): 0.62, D(G(z)): 0.24\n",
            "Saving fake_images-0151.png\n",
            "Epoch [151/300], Step [200/600], d_loss: 0.8766, g_loss: 1.4112, D(x): 0.72, D(G(z)): 0.29\n",
            "Epoch [151/300], Step [400/600], d_loss: 0.8631, g_loss: 1.3640, D(x): 0.73, D(G(z)): 0.31\n",
            "Epoch [151/300], Step [600/600], d_loss: 1.0496, g_loss: 1.5056, D(x): 0.72, D(G(z)): 0.37\n",
            "Saving fake_images-0152.png\n",
            "Epoch [152/300], Step [200/600], d_loss: 0.9509, g_loss: 1.2968, D(x): 0.74, D(G(z)): 0.38\n",
            "Epoch [152/300], Step [400/600], d_loss: 1.1320, g_loss: 1.3144, D(x): 0.71, D(G(z)): 0.42\n",
            "Epoch [152/300], Step [600/600], d_loss: 1.1259, g_loss: 1.8009, D(x): 0.59, D(G(z)): 0.25\n",
            "Saving fake_images-0153.png\n",
            "Epoch [153/300], Step [200/600], d_loss: 0.8430, g_loss: 1.6578, D(x): 0.72, D(G(z)): 0.30\n",
            "Epoch [153/300], Step [400/600], d_loss: 1.0220, g_loss: 1.2977, D(x): 0.63, D(G(z)): 0.27\n",
            "Epoch [153/300], Step [600/600], d_loss: 0.9641, g_loss: 2.0603, D(x): 0.67, D(G(z)): 0.28\n",
            "Saving fake_images-0154.png\n",
            "Epoch [154/300], Step [200/600], d_loss: 0.8603, g_loss: 1.6635, D(x): 0.73, D(G(z)): 0.32\n",
            "Epoch [154/300], Step [400/600], d_loss: 1.0798, g_loss: 1.6123, D(x): 0.65, D(G(z)): 0.33\n",
            "Epoch [154/300], Step [600/600], d_loss: 0.9708, g_loss: 1.5786, D(x): 0.62, D(G(z)): 0.24\n",
            "Saving fake_images-0155.png\n",
            "Epoch [155/300], Step [200/600], d_loss: 1.1192, g_loss: 1.9285, D(x): 0.61, D(G(z)): 0.31\n",
            "Epoch [155/300], Step [400/600], d_loss: 0.9073, g_loss: 1.8744, D(x): 0.66, D(G(z)): 0.24\n",
            "Epoch [155/300], Step [600/600], d_loss: 0.8941, g_loss: 1.4179, D(x): 0.68, D(G(z)): 0.28\n",
            "Saving fake_images-0156.png\n",
            "Epoch [156/300], Step [200/600], d_loss: 0.9807, g_loss: 1.7935, D(x): 0.63, D(G(z)): 0.28\n",
            "Epoch [156/300], Step [400/600], d_loss: 1.1091, g_loss: 1.7873, D(x): 0.61, D(G(z)): 0.32\n",
            "Epoch [156/300], Step [600/600], d_loss: 0.8912, g_loss: 2.1052, D(x): 0.69, D(G(z)): 0.27\n",
            "Saving fake_images-0157.png\n",
            "Epoch [157/300], Step [200/600], d_loss: 0.9192, g_loss: 1.6644, D(x): 0.73, D(G(z)): 0.34\n",
            "Epoch [157/300], Step [400/600], d_loss: 0.8956, g_loss: 1.5893, D(x): 0.75, D(G(z)): 0.34\n",
            "Epoch [157/300], Step [600/600], d_loss: 0.9564, g_loss: 1.2614, D(x): 0.66, D(G(z)): 0.27\n",
            "Saving fake_images-0158.png\n",
            "Epoch [158/300], Step [200/600], d_loss: 0.9623, g_loss: 1.6097, D(x): 0.68, D(G(z)): 0.33\n",
            "Epoch [158/300], Step [400/600], d_loss: 1.0125, g_loss: 1.4407, D(x): 0.67, D(G(z)): 0.32\n",
            "Epoch [158/300], Step [600/600], d_loss: 1.0556, g_loss: 1.5580, D(x): 0.63, D(G(z)): 0.28\n",
            "Saving fake_images-0159.png\n",
            "Epoch [159/300], Step [200/600], d_loss: 1.0580, g_loss: 1.6476, D(x): 0.67, D(G(z)): 0.35\n",
            "Epoch [159/300], Step [400/600], d_loss: 0.7318, g_loss: 1.5163, D(x): 0.75, D(G(z)): 0.28\n",
            "Epoch [159/300], Step [600/600], d_loss: 1.0437, g_loss: 1.4735, D(x): 0.65, D(G(z)): 0.33\n",
            "Saving fake_images-0160.png\n",
            "Epoch [160/300], Step [200/600], d_loss: 0.7652, g_loss: 1.5788, D(x): 0.72, D(G(z)): 0.24\n",
            "Epoch [160/300], Step [400/600], d_loss: 1.1480, g_loss: 1.5416, D(x): 0.60, D(G(z)): 0.33\n",
            "Epoch [160/300], Step [600/600], d_loss: 0.9105, g_loss: 1.7019, D(x): 0.67, D(G(z)): 0.26\n",
            "Saving fake_images-0161.png\n",
            "Epoch [161/300], Step [200/600], d_loss: 0.9973, g_loss: 1.6135, D(x): 0.75, D(G(z)): 0.37\n",
            "Epoch [161/300], Step [400/600], d_loss: 0.9327, g_loss: 1.2736, D(x): 0.71, D(G(z)): 0.36\n",
            "Epoch [161/300], Step [600/600], d_loss: 0.9955, g_loss: 1.2872, D(x): 0.73, D(G(z)): 0.34\n",
            "Saving fake_images-0162.png\n",
            "Epoch [162/300], Step [200/600], d_loss: 0.9686, g_loss: 1.6039, D(x): 0.66, D(G(z)): 0.28\n",
            "Epoch [162/300], Step [400/600], d_loss: 0.9421, g_loss: 1.7803, D(x): 0.62, D(G(z)): 0.24\n",
            "Epoch [162/300], Step [600/600], d_loss: 0.9665, g_loss: 1.6752, D(x): 0.73, D(G(z)): 0.36\n",
            "Saving fake_images-0163.png\n",
            "Epoch [163/300], Step [200/600], d_loss: 0.9235, g_loss: 1.6848, D(x): 0.69, D(G(z)): 0.31\n",
            "Epoch [163/300], Step [400/600], d_loss: 1.0074, g_loss: 1.5788, D(x): 0.66, D(G(z)): 0.30\n",
            "Epoch [163/300], Step [600/600], d_loss: 0.9229, g_loss: 1.5278, D(x): 0.66, D(G(z)): 0.25\n",
            "Saving fake_images-0164.png\n",
            "Epoch [164/300], Step [200/600], d_loss: 0.8412, g_loss: 1.3355, D(x): 0.73, D(G(z)): 0.30\n",
            "Epoch [164/300], Step [400/600], d_loss: 0.9711, g_loss: 1.5494, D(x): 0.63, D(G(z)): 0.23\n",
            "Epoch [164/300], Step [600/600], d_loss: 0.9551, g_loss: 1.7620, D(x): 0.68, D(G(z)): 0.30\n",
            "Saving fake_images-0165.png\n",
            "Epoch [165/300], Step [200/600], d_loss: 0.9904, g_loss: 1.6596, D(x): 0.72, D(G(z)): 0.36\n",
            "Epoch [165/300], Step [400/600], d_loss: 0.8462, g_loss: 1.8294, D(x): 0.69, D(G(z)): 0.23\n",
            "Epoch [165/300], Step [600/600], d_loss: 0.8794, g_loss: 1.6149, D(x): 0.69, D(G(z)): 0.28\n",
            "Saving fake_images-0166.png\n",
            "Epoch [166/300], Step [200/600], d_loss: 0.8774, g_loss: 1.6363, D(x): 0.67, D(G(z)): 0.26\n",
            "Epoch [166/300], Step [400/600], d_loss: 0.8973, g_loss: 1.5977, D(x): 0.74, D(G(z)): 0.37\n",
            "Epoch [166/300], Step [600/600], d_loss: 1.0266, g_loss: 1.5751, D(x): 0.64, D(G(z)): 0.29\n",
            "Saving fake_images-0167.png\n",
            "Epoch [167/300], Step [200/600], d_loss: 0.9839, g_loss: 1.6795, D(x): 0.70, D(G(z)): 0.34\n",
            "Epoch [167/300], Step [400/600], d_loss: 0.8875, g_loss: 1.9821, D(x): 0.71, D(G(z)): 0.26\n",
            "Epoch [167/300], Step [600/600], d_loss: 0.9221, g_loss: 2.0149, D(x): 0.69, D(G(z)): 0.30\n",
            "Saving fake_images-0168.png\n",
            "Epoch [168/300], Step [200/600], d_loss: 0.8308, g_loss: 1.6420, D(x): 0.69, D(G(z)): 0.24\n",
            "Epoch [168/300], Step [400/600], d_loss: 0.8276, g_loss: 1.4666, D(x): 0.77, D(G(z)): 0.34\n",
            "Epoch [168/300], Step [600/600], d_loss: 0.9346, g_loss: 1.9445, D(x): 0.69, D(G(z)): 0.28\n",
            "Saving fake_images-0169.png\n",
            "Epoch [169/300], Step [200/600], d_loss: 0.8226, g_loss: 1.5329, D(x): 0.74, D(G(z)): 0.29\n",
            "Epoch [169/300], Step [400/600], d_loss: 0.8713, g_loss: 1.4785, D(x): 0.67, D(G(z)): 0.25\n",
            "Epoch [169/300], Step [600/600], d_loss: 0.8995, g_loss: 1.5722, D(x): 0.75, D(G(z)): 0.36\n",
            "Saving fake_images-0170.png\n",
            "Epoch [170/300], Step [200/600], d_loss: 0.9672, g_loss: 1.5611, D(x): 0.69, D(G(z)): 0.29\n",
            "Epoch [170/300], Step [400/600], d_loss: 0.9548, g_loss: 1.5551, D(x): 0.66, D(G(z)): 0.25\n",
            "Epoch [170/300], Step [600/600], d_loss: 0.9405, g_loss: 1.3943, D(x): 0.81, D(G(z)): 0.40\n",
            "Saving fake_images-0171.png\n",
            "Epoch [171/300], Step [200/600], d_loss: 0.9126, g_loss: 1.3689, D(x): 0.68, D(G(z)): 0.31\n",
            "Epoch [171/300], Step [400/600], d_loss: 0.9114, g_loss: 1.7544, D(x): 0.68, D(G(z)): 0.28\n",
            "Epoch [171/300], Step [600/600], d_loss: 0.8610, g_loss: 1.4057, D(x): 0.75, D(G(z)): 0.35\n",
            "Saving fake_images-0172.png\n",
            "Epoch [172/300], Step [200/600], d_loss: 1.0953, g_loss: 1.6043, D(x): 0.60, D(G(z)): 0.26\n",
            "Epoch [172/300], Step [400/600], d_loss: 0.8306, g_loss: 1.5831, D(x): 0.66, D(G(z)): 0.21\n",
            "Epoch [172/300], Step [600/600], d_loss: 0.8743, g_loss: 1.8719, D(x): 0.72, D(G(z)): 0.27\n",
            "Saving fake_images-0173.png\n",
            "Epoch [173/300], Step [200/600], d_loss: 0.8945, g_loss: 1.3049, D(x): 0.72, D(G(z)): 0.33\n",
            "Epoch [173/300], Step [400/600], d_loss: 0.8270, g_loss: 2.0693, D(x): 0.72, D(G(z)): 0.27\n",
            "Epoch [173/300], Step [600/600], d_loss: 1.0122, g_loss: 1.6890, D(x): 0.70, D(G(z)): 0.33\n",
            "Saving fake_images-0174.png\n",
            "Epoch [174/300], Step [200/600], d_loss: 1.0180, g_loss: 1.2698, D(x): 0.72, D(G(z)): 0.39\n",
            "Epoch [174/300], Step [400/600], d_loss: 1.0100, g_loss: 1.8765, D(x): 0.68, D(G(z)): 0.34\n",
            "Epoch [174/300], Step [600/600], d_loss: 1.1541, g_loss: 1.5651, D(x): 0.61, D(G(z)): 0.33\n",
            "Saving fake_images-0175.png\n",
            "Epoch [175/300], Step [200/600], d_loss: 0.8133, g_loss: 1.2553, D(x): 0.73, D(G(z)): 0.29\n",
            "Epoch [175/300], Step [400/600], d_loss: 1.0296, g_loss: 1.8060, D(x): 0.74, D(G(z)): 0.38\n",
            "Epoch [175/300], Step [600/600], d_loss: 1.0819, g_loss: 1.3190, D(x): 0.67, D(G(z)): 0.38\n",
            "Saving fake_images-0176.png\n",
            "Epoch [176/300], Step [200/600], d_loss: 1.1370, g_loss: 1.5854, D(x): 0.62, D(G(z)): 0.29\n",
            "Epoch [176/300], Step [400/600], d_loss: 0.9026, g_loss: 1.4807, D(x): 0.69, D(G(z)): 0.30\n",
            "Epoch [176/300], Step [600/600], d_loss: 1.0244, g_loss: 1.5830, D(x): 0.65, D(G(z)): 0.28\n",
            "Saving fake_images-0177.png\n",
            "Epoch [177/300], Step [200/600], d_loss: 1.0653, g_loss: 1.4665, D(x): 0.65, D(G(z)): 0.32\n",
            "Epoch [177/300], Step [400/600], d_loss: 0.7782, g_loss: 1.4032, D(x): 0.71, D(G(z)): 0.26\n",
            "Epoch [177/300], Step [600/600], d_loss: 0.9236, g_loss: 1.5122, D(x): 0.63, D(G(z)): 0.24\n",
            "Saving fake_images-0178.png\n",
            "Epoch [178/300], Step [200/600], d_loss: 0.9915, g_loss: 1.5031, D(x): 0.65, D(G(z)): 0.28\n",
            "Epoch [178/300], Step [400/600], d_loss: 1.0362, g_loss: 1.3487, D(x): 0.62, D(G(z)): 0.26\n",
            "Epoch [178/300], Step [600/600], d_loss: 0.8421, g_loss: 1.7713, D(x): 0.70, D(G(z)): 0.27\n",
            "Saving fake_images-0179.png\n",
            "Epoch [179/300], Step [200/600], d_loss: 0.7252, g_loss: 1.7063, D(x): 0.71, D(G(z)): 0.22\n",
            "Epoch [179/300], Step [400/600], d_loss: 0.8445, g_loss: 1.3110, D(x): 0.71, D(G(z)): 0.32\n",
            "Epoch [179/300], Step [600/600], d_loss: 1.0242, g_loss: 1.4843, D(x): 0.70, D(G(z)): 0.33\n",
            "Saving fake_images-0180.png\n",
            "Epoch [180/300], Step [200/600], d_loss: 0.9435, g_loss: 2.0530, D(x): 0.71, D(G(z)): 0.32\n",
            "Epoch [180/300], Step [400/600], d_loss: 0.9044, g_loss: 1.8854, D(x): 0.75, D(G(z)): 0.34\n",
            "Epoch [180/300], Step [600/600], d_loss: 1.0027, g_loss: 1.4091, D(x): 0.67, D(G(z)): 0.32\n",
            "Saving fake_images-0181.png\n",
            "Epoch [181/300], Step [200/600], d_loss: 1.0560, g_loss: 1.7497, D(x): 0.70, D(G(z)): 0.36\n",
            "Epoch [181/300], Step [400/600], d_loss: 0.9713, g_loss: 1.6345, D(x): 0.66, D(G(z)): 0.30\n",
            "Epoch [181/300], Step [600/600], d_loss: 0.9398, g_loss: 1.6665, D(x): 0.75, D(G(z)): 0.34\n",
            "Saving fake_images-0182.png\n",
            "Epoch [182/300], Step [200/600], d_loss: 0.8927, g_loss: 1.3042, D(x): 0.73, D(G(z)): 0.33\n",
            "Epoch [182/300], Step [400/600], d_loss: 1.0028, g_loss: 1.5668, D(x): 0.73, D(G(z)): 0.36\n",
            "Epoch [182/300], Step [600/600], d_loss: 1.0417, g_loss: 1.4842, D(x): 0.64, D(G(z)): 0.29\n",
            "Saving fake_images-0183.png\n",
            "Epoch [183/300], Step [200/600], d_loss: 0.8545, g_loss: 1.7570, D(x): 0.78, D(G(z)): 0.33\n",
            "Epoch [183/300], Step [400/600], d_loss: 0.8886, g_loss: 1.6189, D(x): 0.67, D(G(z)): 0.27\n",
            "Epoch [183/300], Step [600/600], d_loss: 0.8645, g_loss: 1.5204, D(x): 0.74, D(G(z)): 0.31\n",
            "Saving fake_images-0184.png\n",
            "Epoch [184/300], Step [200/600], d_loss: 0.9729, g_loss: 1.2852, D(x): 0.63, D(G(z)): 0.26\n",
            "Epoch [184/300], Step [400/600], d_loss: 1.0724, g_loss: 1.2957, D(x): 0.68, D(G(z)): 0.36\n",
            "Epoch [184/300], Step [600/600], d_loss: 0.9827, g_loss: 1.7457, D(x): 0.72, D(G(z)): 0.36\n",
            "Saving fake_images-0185.png\n",
            "Epoch [185/300], Step [200/600], d_loss: 1.0562, g_loss: 1.3623, D(x): 0.58, D(G(z)): 0.26\n",
            "Epoch [185/300], Step [400/600], d_loss: 0.8463, g_loss: 1.3982, D(x): 0.75, D(G(z)): 0.32\n",
            "Epoch [185/300], Step [600/600], d_loss: 1.2063, g_loss: 1.4933, D(x): 0.57, D(G(z)): 0.31\n",
            "Saving fake_images-0186.png\n",
            "Epoch [186/300], Step [200/600], d_loss: 0.9837, g_loss: 1.5244, D(x): 0.73, D(G(z)): 0.38\n",
            "Epoch [186/300], Step [400/600], d_loss: 0.8036, g_loss: 1.8659, D(x): 0.74, D(G(z)): 0.31\n",
            "Epoch [186/300], Step [600/600], d_loss: 0.9582, g_loss: 1.2492, D(x): 0.68, D(G(z)): 0.31\n",
            "Saving fake_images-0187.png\n",
            "Epoch [187/300], Step [200/600], d_loss: 0.9237, g_loss: 1.4606, D(x): 0.66, D(G(z)): 0.28\n",
            "Epoch [187/300], Step [400/600], d_loss: 0.9193, g_loss: 1.5381, D(x): 0.77, D(G(z)): 0.39\n",
            "Epoch [187/300], Step [600/600], d_loss: 0.9206, g_loss: 1.5251, D(x): 0.66, D(G(z)): 0.29\n",
            "Saving fake_images-0188.png\n",
            "Epoch [188/300], Step [200/600], d_loss: 0.8921, g_loss: 1.6772, D(x): 0.67, D(G(z)): 0.30\n",
            "Epoch [188/300], Step [400/600], d_loss: 1.1097, g_loss: 1.4160, D(x): 0.70, D(G(z)): 0.40\n",
            "Epoch [188/300], Step [600/600], d_loss: 0.9587, g_loss: 1.5589, D(x): 0.69, D(G(z)): 0.33\n",
            "Saving fake_images-0189.png\n",
            "Epoch [189/300], Step [200/600], d_loss: 1.2358, g_loss: 1.5107, D(x): 0.54, D(G(z)): 0.30\n",
            "Epoch [189/300], Step [400/600], d_loss: 1.1107, g_loss: 1.3811, D(x): 0.65, D(G(z)): 0.32\n",
            "Epoch [189/300], Step [600/600], d_loss: 0.9668, g_loss: 1.5318, D(x): 0.67, D(G(z)): 0.29\n",
            "Saving fake_images-0190.png\n",
            "Epoch [190/300], Step [200/600], d_loss: 1.0457, g_loss: 1.5991, D(x): 0.63, D(G(z)): 0.27\n",
            "Epoch [190/300], Step [400/600], d_loss: 0.8901, g_loss: 1.4734, D(x): 0.68, D(G(z)): 0.30\n",
            "Epoch [190/300], Step [600/600], d_loss: 0.8617, g_loss: 1.5649, D(x): 0.74, D(G(z)): 0.32\n",
            "Saving fake_images-0191.png\n",
            "Epoch [191/300], Step [200/600], d_loss: 1.0724, g_loss: 1.5098, D(x): 0.59, D(G(z)): 0.28\n",
            "Epoch [191/300], Step [400/600], d_loss: 1.0058, g_loss: 1.9222, D(x): 0.64, D(G(z)): 0.26\n",
            "Epoch [191/300], Step [600/600], d_loss: 0.8943, g_loss: 1.6807, D(x): 0.65, D(G(z)): 0.26\n",
            "Saving fake_images-0192.png\n",
            "Epoch [192/300], Step [200/600], d_loss: 1.1107, g_loss: 1.4866, D(x): 0.67, D(G(z)): 0.38\n",
            "Epoch [192/300], Step [400/600], d_loss: 0.9007, g_loss: 1.7684, D(x): 0.70, D(G(z)): 0.30\n",
            "Epoch [192/300], Step [600/600], d_loss: 0.8758, g_loss: 1.6255, D(x): 0.70, D(G(z)): 0.25\n",
            "Saving fake_images-0193.png\n",
            "Epoch [193/300], Step [200/600], d_loss: 1.0204, g_loss: 1.6966, D(x): 0.66, D(G(z)): 0.28\n",
            "Epoch [193/300], Step [400/600], d_loss: 0.6866, g_loss: 1.7053, D(x): 0.78, D(G(z)): 0.27\n",
            "Epoch [193/300], Step [600/600], d_loss: 1.0457, g_loss: 1.3519, D(x): 0.68, D(G(z)): 0.35\n",
            "Saving fake_images-0194.png\n",
            "Epoch [194/300], Step [200/600], d_loss: 0.9439, g_loss: 1.6570, D(x): 0.64, D(G(z)): 0.27\n",
            "Epoch [194/300], Step [400/600], d_loss: 1.0559, g_loss: 1.4663, D(x): 0.73, D(G(z)): 0.39\n",
            "Epoch [194/300], Step [600/600], d_loss: 1.0716, g_loss: 1.4279, D(x): 0.64, D(G(z)): 0.31\n",
            "Saving fake_images-0195.png\n",
            "Epoch [195/300], Step [200/600], d_loss: 0.9360, g_loss: 1.9738, D(x): 0.66, D(G(z)): 0.25\n",
            "Epoch [195/300], Step [400/600], d_loss: 0.8989, g_loss: 1.5040, D(x): 0.65, D(G(z)): 0.25\n",
            "Epoch [195/300], Step [600/600], d_loss: 0.9473, g_loss: 1.5550, D(x): 0.67, D(G(z)): 0.31\n",
            "Saving fake_images-0196.png\n",
            "Epoch [196/300], Step [200/600], d_loss: 0.8602, g_loss: 1.6773, D(x): 0.69, D(G(z)): 0.25\n",
            "Epoch [196/300], Step [400/600], d_loss: 0.9737, g_loss: 1.1790, D(x): 0.70, D(G(z)): 0.37\n",
            "Epoch [196/300], Step [600/600], d_loss: 0.8606, g_loss: 1.8294, D(x): 0.68, D(G(z)): 0.28\n",
            "Saving fake_images-0197.png\n",
            "Epoch [197/300], Step [200/600], d_loss: 1.0067, g_loss: 1.5968, D(x): 0.61, D(G(z)): 0.25\n",
            "Epoch [197/300], Step [400/600], d_loss: 1.0761, g_loss: 1.7057, D(x): 0.67, D(G(z)): 0.34\n",
            "Epoch [197/300], Step [600/600], d_loss: 0.9142, g_loss: 1.4669, D(x): 0.67, D(G(z)): 0.29\n",
            "Saving fake_images-0198.png\n",
            "Epoch [198/300], Step [200/600], d_loss: 0.7289, g_loss: 1.7098, D(x): 0.76, D(G(z)): 0.29\n",
            "Epoch [198/300], Step [400/600], d_loss: 0.7318, g_loss: 1.8417, D(x): 0.73, D(G(z)): 0.24\n",
            "Epoch [198/300], Step [600/600], d_loss: 0.9481, g_loss: 1.7166, D(x): 0.72, D(G(z)): 0.35\n",
            "Saving fake_images-0199.png\n",
            "Epoch [199/300], Step [200/600], d_loss: 0.9087, g_loss: 1.6895, D(x): 0.64, D(G(z)): 0.23\n",
            "Epoch [199/300], Step [400/600], d_loss: 1.0064, g_loss: 1.6301, D(x): 0.74, D(G(z)): 0.39\n",
            "Epoch [199/300], Step [600/600], d_loss: 0.9690, g_loss: 1.5728, D(x): 0.66, D(G(z)): 0.31\n",
            "Saving fake_images-0200.png\n",
            "Epoch [200/300], Step [200/600], d_loss: 0.8119, g_loss: 1.5203, D(x): 0.76, D(G(z)): 0.32\n",
            "Epoch [200/300], Step [400/600], d_loss: 0.9245, g_loss: 1.4390, D(x): 0.70, D(G(z)): 0.33\n",
            "Epoch [200/300], Step [600/600], d_loss: 0.9930, g_loss: 1.4743, D(x): 0.75, D(G(z)): 0.39\n",
            "Saving fake_images-0201.png\n",
            "Epoch [201/300], Step [200/600], d_loss: 1.0109, g_loss: 1.6015, D(x): 0.64, D(G(z)): 0.29\n",
            "Epoch [201/300], Step [400/600], d_loss: 1.0202, g_loss: 1.4418, D(x): 0.66, D(G(z)): 0.34\n",
            "Epoch [201/300], Step [600/600], d_loss: 0.9362, g_loss: 1.5302, D(x): 0.67, D(G(z)): 0.31\n",
            "Saving fake_images-0202.png\n",
            "Epoch [202/300], Step [200/600], d_loss: 0.9893, g_loss: 1.3835, D(x): 0.61, D(G(z)): 0.27\n",
            "Epoch [202/300], Step [400/600], d_loss: 1.0311, g_loss: 1.3020, D(x): 0.61, D(G(z)): 0.28\n",
            "Epoch [202/300], Step [600/600], d_loss: 1.0507, g_loss: 1.4458, D(x): 0.66, D(G(z)): 0.34\n",
            "Saving fake_images-0203.png\n",
            "Epoch [203/300], Step [200/600], d_loss: 0.9002, g_loss: 1.5521, D(x): 0.78, D(G(z)): 0.37\n",
            "Epoch [203/300], Step [400/600], d_loss: 0.9483, g_loss: 1.9135, D(x): 0.71, D(G(z)): 0.34\n",
            "Epoch [203/300], Step [600/600], d_loss: 0.9219, g_loss: 1.3143, D(x): 0.70, D(G(z)): 0.32\n",
            "Saving fake_images-0204.png\n",
            "Epoch [204/300], Step [200/600], d_loss: 0.9553, g_loss: 1.5892, D(x): 0.62, D(G(z)): 0.25\n",
            "Epoch [204/300], Step [400/600], d_loss: 0.8491, g_loss: 1.5226, D(x): 0.70, D(G(z)): 0.29\n",
            "Epoch [204/300], Step [600/600], d_loss: 0.9611, g_loss: 1.1057, D(x): 0.71, D(G(z)): 0.35\n",
            "Saving fake_images-0205.png\n",
            "Epoch [205/300], Step [200/600], d_loss: 0.8368, g_loss: 1.7110, D(x): 0.64, D(G(z)): 0.22\n",
            "Epoch [205/300], Step [400/600], d_loss: 0.9599, g_loss: 1.1516, D(x): 0.70, D(G(z)): 0.33\n",
            "Epoch [205/300], Step [600/600], d_loss: 0.8656, g_loss: 1.6871, D(x): 0.65, D(G(z)): 0.24\n",
            "Saving fake_images-0206.png\n",
            "Epoch [206/300], Step [200/600], d_loss: 1.0565, g_loss: 1.8126, D(x): 0.75, D(G(z)): 0.39\n",
            "Epoch [206/300], Step [400/600], d_loss: 0.9729, g_loss: 1.3930, D(x): 0.65, D(G(z)): 0.29\n",
            "Epoch [206/300], Step [600/600], d_loss: 1.0275, g_loss: 1.6220, D(x): 0.73, D(G(z)): 0.38\n",
            "Saving fake_images-0207.png\n",
            "Epoch [207/300], Step [200/600], d_loss: 0.7906, g_loss: 1.5993, D(x): 0.67, D(G(z)): 0.22\n",
            "Epoch [207/300], Step [400/600], d_loss: 1.0400, g_loss: 1.3209, D(x): 0.64, D(G(z)): 0.32\n",
            "Epoch [207/300], Step [600/600], d_loss: 1.0443, g_loss: 1.6045, D(x): 0.67, D(G(z)): 0.35\n",
            "Saving fake_images-0208.png\n",
            "Epoch [208/300], Step [200/600], d_loss: 0.9533, g_loss: 1.6221, D(x): 0.73, D(G(z)): 0.37\n",
            "Epoch [208/300], Step [400/600], d_loss: 0.9508, g_loss: 1.2905, D(x): 0.72, D(G(z)): 0.35\n",
            "Epoch [208/300], Step [600/600], d_loss: 1.0056, g_loss: 1.7213, D(x): 0.69, D(G(z)): 0.28\n",
            "Saving fake_images-0209.png\n",
            "Epoch [209/300], Step [200/600], d_loss: 0.8144, g_loss: 1.7470, D(x): 0.71, D(G(z)): 0.29\n",
            "Epoch [209/300], Step [400/600], d_loss: 0.8442, g_loss: 1.8863, D(x): 0.73, D(G(z)): 0.29\n",
            "Epoch [209/300], Step [600/600], d_loss: 0.9218, g_loss: 1.6980, D(x): 0.71, D(G(z)): 0.33\n",
            "Saving fake_images-0210.png\n",
            "Epoch [210/300], Step [200/600], d_loss: 1.0599, g_loss: 1.7581, D(x): 0.60, D(G(z)): 0.28\n",
            "Epoch [210/300], Step [400/600], d_loss: 0.8354, g_loss: 1.6446, D(x): 0.67, D(G(z)): 0.23\n",
            "Epoch [210/300], Step [600/600], d_loss: 0.9127, g_loss: 1.7762, D(x): 0.72, D(G(z)): 0.34\n",
            "Saving fake_images-0211.png\n",
            "Epoch [211/300], Step [200/600], d_loss: 1.0511, g_loss: 1.3022, D(x): 0.65, D(G(z)): 0.33\n",
            "Epoch [211/300], Step [400/600], d_loss: 0.9223, g_loss: 1.9231, D(x): 0.72, D(G(z)): 0.31\n",
            "Epoch [211/300], Step [600/600], d_loss: 0.8802, g_loss: 1.4654, D(x): 0.64, D(G(z)): 0.23\n",
            "Saving fake_images-0212.png\n",
            "Epoch [212/300], Step [200/600], d_loss: 0.8762, g_loss: 1.2727, D(x): 0.73, D(G(z)): 0.34\n",
            "Epoch [212/300], Step [400/600], d_loss: 0.9493, g_loss: 1.7919, D(x): 0.61, D(G(z)): 0.22\n",
            "Epoch [212/300], Step [600/600], d_loss: 0.8902, g_loss: 1.9311, D(x): 0.71, D(G(z)): 0.29\n",
            "Saving fake_images-0213.png\n",
            "Epoch [213/300], Step [200/600], d_loss: 1.0385, g_loss: 1.3643, D(x): 0.63, D(G(z)): 0.32\n",
            "Epoch [213/300], Step [400/600], d_loss: 0.8383, g_loss: 1.6574, D(x): 0.76, D(G(z)): 0.32\n",
            "Epoch [213/300], Step [600/600], d_loss: 0.8944, g_loss: 1.5609, D(x): 0.70, D(G(z)): 0.30\n",
            "Saving fake_images-0214.png\n",
            "Epoch [214/300], Step [200/600], d_loss: 0.9162, g_loss: 1.4479, D(x): 0.69, D(G(z)): 0.29\n",
            "Epoch [214/300], Step [400/600], d_loss: 0.8705, g_loss: 1.8693, D(x): 0.69, D(G(z)): 0.28\n",
            "Epoch [214/300], Step [600/600], d_loss: 1.1121, g_loss: 1.5064, D(x): 0.64, D(G(z)): 0.32\n",
            "Saving fake_images-0215.png\n",
            "Epoch [215/300], Step [200/600], d_loss: 0.7817, g_loss: 1.6538, D(x): 0.70, D(G(z)): 0.26\n",
            "Epoch [215/300], Step [400/600], d_loss: 0.9929, g_loss: 1.3600, D(x): 0.71, D(G(z)): 0.35\n",
            "Epoch [215/300], Step [600/600], d_loss: 0.9907, g_loss: 1.5500, D(x): 0.76, D(G(z)): 0.38\n",
            "Saving fake_images-0216.png\n",
            "Epoch [216/300], Step [200/600], d_loss: 1.0176, g_loss: 1.2366, D(x): 0.67, D(G(z)): 0.36\n",
            "Epoch [216/300], Step [400/600], d_loss: 1.0329, g_loss: 1.3788, D(x): 0.66, D(G(z)): 0.35\n",
            "Epoch [216/300], Step [600/600], d_loss: 0.9738, g_loss: 1.5260, D(x): 0.65, D(G(z)): 0.26\n",
            "Saving fake_images-0217.png\n",
            "Epoch [217/300], Step [200/600], d_loss: 0.8166, g_loss: 1.5195, D(x): 0.75, D(G(z)): 0.33\n",
            "Epoch [217/300], Step [400/600], d_loss: 0.9123, g_loss: 1.4231, D(x): 0.73, D(G(z)): 0.31\n",
            "Epoch [217/300], Step [600/600], d_loss: 0.8819, g_loss: 1.5167, D(x): 0.70, D(G(z)): 0.31\n",
            "Saving fake_images-0218.png\n",
            "Epoch [218/300], Step [200/600], d_loss: 0.9683, g_loss: 1.8712, D(x): 0.60, D(G(z)): 0.21\n",
            "Epoch [218/300], Step [400/600], d_loss: 0.8469, g_loss: 1.6213, D(x): 0.79, D(G(z)): 0.34\n",
            "Epoch [218/300], Step [600/600], d_loss: 0.8083, g_loss: 1.6570, D(x): 0.76, D(G(z)): 0.32\n",
            "Saving fake_images-0219.png\n",
            "Epoch [219/300], Step [200/600], d_loss: 0.8096, g_loss: 1.7940, D(x): 0.75, D(G(z)): 0.31\n",
            "Epoch [219/300], Step [400/600], d_loss: 0.9706, g_loss: 1.3011, D(x): 0.74, D(G(z)): 0.38\n",
            "Epoch [219/300], Step [600/600], d_loss: 0.9953, g_loss: 1.6947, D(x): 0.66, D(G(z)): 0.32\n",
            "Saving fake_images-0220.png\n",
            "Epoch [220/300], Step [200/600], d_loss: 0.7475, g_loss: 1.2779, D(x): 0.74, D(G(z)): 0.26\n",
            "Epoch [220/300], Step [400/600], d_loss: 0.9183, g_loss: 1.6191, D(x): 0.70, D(G(z)): 0.32\n",
            "Epoch [220/300], Step [600/600], d_loss: 0.9335, g_loss: 1.1768, D(x): 0.75, D(G(z)): 0.37\n",
            "Saving fake_images-0221.png\n",
            "Epoch [221/300], Step [200/600], d_loss: 0.9208, g_loss: 1.5006, D(x): 0.70, D(G(z)): 0.29\n",
            "Epoch [221/300], Step [400/600], d_loss: 0.9992, g_loss: 1.5763, D(x): 0.65, D(G(z)): 0.31\n",
            "Epoch [221/300], Step [600/600], d_loss: 0.8695, g_loss: 1.9574, D(x): 0.72, D(G(z)): 0.30\n",
            "Saving fake_images-0222.png\n",
            "Epoch [222/300], Step [200/600], d_loss: 1.0310, g_loss: 1.2458, D(x): 0.74, D(G(z)): 0.39\n",
            "Epoch [222/300], Step [400/600], d_loss: 0.8422, g_loss: 1.5320, D(x): 0.70, D(G(z)): 0.27\n",
            "Epoch [222/300], Step [600/600], d_loss: 0.8205, g_loss: 1.7688, D(x): 0.69, D(G(z)): 0.27\n",
            "Saving fake_images-0223.png\n",
            "Epoch [223/300], Step [200/600], d_loss: 1.0496, g_loss: 1.4591, D(x): 0.77, D(G(z)): 0.42\n",
            "Epoch [223/300], Step [400/600], d_loss: 0.8050, g_loss: 1.6014, D(x): 0.72, D(G(z)): 0.27\n",
            "Epoch [223/300], Step [600/600], d_loss: 0.8148, g_loss: 1.6282, D(x): 0.72, D(G(z)): 0.29\n",
            "Saving fake_images-0224.png\n",
            "Epoch [224/300], Step [200/600], d_loss: 0.9926, g_loss: 1.6116, D(x): 0.68, D(G(z)): 0.33\n",
            "Epoch [224/300], Step [400/600], d_loss: 0.8913, g_loss: 1.6345, D(x): 0.74, D(G(z)): 0.33\n",
            "Epoch [224/300], Step [600/600], d_loss: 0.9722, g_loss: 1.5271, D(x): 0.63, D(G(z)): 0.29\n",
            "Saving fake_images-0225.png\n",
            "Epoch [225/300], Step [200/600], d_loss: 1.1389, g_loss: 1.5575, D(x): 0.59, D(G(z)): 0.27\n",
            "Epoch [225/300], Step [400/600], d_loss: 0.9719, g_loss: 1.4805, D(x): 0.72, D(G(z)): 0.37\n",
            "Epoch [225/300], Step [600/600], d_loss: 0.9072, g_loss: 1.6876, D(x): 0.73, D(G(z)): 0.34\n",
            "Saving fake_images-0226.png\n",
            "Epoch [226/300], Step [200/600], d_loss: 0.9508, g_loss: 1.2872, D(x): 0.64, D(G(z)): 0.28\n",
            "Epoch [226/300], Step [400/600], d_loss: 0.9080, g_loss: 1.3168, D(x): 0.68, D(G(z)): 0.31\n",
            "Epoch [226/300], Step [600/600], d_loss: 0.9135, g_loss: 1.0865, D(x): 0.68, D(G(z)): 0.31\n",
            "Saving fake_images-0227.png\n",
            "Epoch [227/300], Step [200/600], d_loss: 1.0808, g_loss: 1.4314, D(x): 0.60, D(G(z)): 0.29\n",
            "Epoch [227/300], Step [400/600], d_loss: 1.0258, g_loss: 1.6895, D(x): 0.64, D(G(z)): 0.29\n",
            "Epoch [227/300], Step [600/600], d_loss: 0.8096, g_loss: 1.5946, D(x): 0.74, D(G(z)): 0.31\n",
            "Saving fake_images-0228.png\n",
            "Epoch [228/300], Step [200/600], d_loss: 1.0230, g_loss: 1.6081, D(x): 0.67, D(G(z)): 0.35\n",
            "Epoch [228/300], Step [400/600], d_loss: 0.9703, g_loss: 1.4349, D(x): 0.72, D(G(z)): 0.36\n",
            "Epoch [228/300], Step [600/600], d_loss: 0.9443, g_loss: 1.3496, D(x): 0.79, D(G(z)): 0.40\n",
            "Saving fake_images-0229.png\n",
            "Epoch [229/300], Step [200/600], d_loss: 0.9990, g_loss: 1.6588, D(x): 0.65, D(G(z)): 0.30\n",
            "Epoch [229/300], Step [400/600], d_loss: 0.9649, g_loss: 1.5297, D(x): 0.62, D(G(z)): 0.24\n",
            "Epoch [229/300], Step [600/600], d_loss: 0.9657, g_loss: 1.2306, D(x): 0.68, D(G(z)): 0.32\n",
            "Saving fake_images-0230.png\n",
            "Epoch [230/300], Step [200/600], d_loss: 1.0282, g_loss: 1.3419, D(x): 0.74, D(G(z)): 0.39\n",
            "Epoch [230/300], Step [400/600], d_loss: 0.8797, g_loss: 1.5373, D(x): 0.70, D(G(z)): 0.31\n",
            "Epoch [230/300], Step [600/600], d_loss: 0.9658, g_loss: 1.0693, D(x): 0.71, D(G(z)): 0.34\n",
            "Saving fake_images-0231.png\n",
            "Epoch [231/300], Step [200/600], d_loss: 0.8325, g_loss: 1.5301, D(x): 0.72, D(G(z)): 0.28\n",
            "Epoch [231/300], Step [400/600], d_loss: 0.8365, g_loss: 1.5001, D(x): 0.70, D(G(z)): 0.27\n",
            "Epoch [231/300], Step [600/600], d_loss: 1.0886, g_loss: 1.2477, D(x): 0.65, D(G(z)): 0.32\n",
            "Saving fake_images-0232.png\n",
            "Epoch [232/300], Step [200/600], d_loss: 0.9763, g_loss: 1.6150, D(x): 0.72, D(G(z)): 0.36\n",
            "Epoch [232/300], Step [400/600], d_loss: 0.8911, g_loss: 1.3799, D(x): 0.68, D(G(z)): 0.28\n",
            "Epoch [232/300], Step [600/600], d_loss: 0.9038, g_loss: 1.6846, D(x): 0.73, D(G(z)): 0.33\n",
            "Saving fake_images-0233.png\n",
            "Epoch [233/300], Step [200/600], d_loss: 0.8121, g_loss: 1.7984, D(x): 0.72, D(G(z)): 0.28\n",
            "Epoch [233/300], Step [400/600], d_loss: 0.8741, g_loss: 1.3738, D(x): 0.72, D(G(z)): 0.31\n",
            "Epoch [233/300], Step [600/600], d_loss: 0.9590, g_loss: 1.5914, D(x): 0.61, D(G(z)): 0.23\n",
            "Saving fake_images-0234.png\n",
            "Epoch [234/300], Step [200/600], d_loss: 0.9464, g_loss: 1.6911, D(x): 0.67, D(G(z)): 0.30\n",
            "Epoch [234/300], Step [400/600], d_loss: 0.9563, g_loss: 1.5210, D(x): 0.67, D(G(z)): 0.32\n",
            "Epoch [234/300], Step [600/600], d_loss: 0.8842, g_loss: 1.4699, D(x): 0.75, D(G(z)): 0.34\n",
            "Saving fake_images-0235.png\n",
            "Epoch [235/300], Step [200/600], d_loss: 0.9786, g_loss: 1.4947, D(x): 0.73, D(G(z)): 0.39\n",
            "Epoch [235/300], Step [400/600], d_loss: 0.9773, g_loss: 1.4849, D(x): 0.67, D(G(z)): 0.32\n",
            "Epoch [235/300], Step [600/600], d_loss: 1.0772, g_loss: 2.0565, D(x): 0.57, D(G(z)): 0.27\n",
            "Saving fake_images-0236.png\n",
            "Epoch [236/300], Step [200/600], d_loss: 0.9319, g_loss: 1.2813, D(x): 0.72, D(G(z)): 0.35\n",
            "Epoch [236/300], Step [400/600], d_loss: 0.7424, g_loss: 1.4246, D(x): 0.73, D(G(z)): 0.24\n",
            "Epoch [236/300], Step [600/600], d_loss: 0.8329, g_loss: 1.7644, D(x): 0.79, D(G(z)): 0.37\n",
            "Saving fake_images-0237.png\n",
            "Epoch [237/300], Step [200/600], d_loss: 0.9925, g_loss: 1.4838, D(x): 0.66, D(G(z)): 0.31\n",
            "Epoch [237/300], Step [400/600], d_loss: 0.9442, g_loss: 1.5234, D(x): 0.68, D(G(z)): 0.32\n",
            "Epoch [237/300], Step [600/600], d_loss: 0.9099, g_loss: 1.5332, D(x): 0.70, D(G(z)): 0.32\n",
            "Saving fake_images-0238.png\n",
            "Epoch [238/300], Step [200/600], d_loss: 0.9041, g_loss: 1.6540, D(x): 0.71, D(G(z)): 0.30\n",
            "Epoch [238/300], Step [400/600], d_loss: 1.0343, g_loss: 1.3519, D(x): 0.68, D(G(z)): 0.37\n",
            "Epoch [238/300], Step [600/600], d_loss: 0.7462, g_loss: 1.7669, D(x): 0.75, D(G(z)): 0.27\n",
            "Saving fake_images-0239.png\n",
            "Epoch [239/300], Step [200/600], d_loss: 0.9888, g_loss: 1.3860, D(x): 0.71, D(G(z)): 0.36\n",
            "Epoch [239/300], Step [400/600], d_loss: 1.1056, g_loss: 1.4265, D(x): 0.67, D(G(z)): 0.38\n",
            "Epoch [239/300], Step [600/600], d_loss: 0.9839, g_loss: 1.8503, D(x): 0.64, D(G(z)): 0.28\n",
            "Saving fake_images-0240.png\n",
            "Epoch [240/300], Step [200/600], d_loss: 0.8866, g_loss: 1.5177, D(x): 0.68, D(G(z)): 0.28\n",
            "Epoch [240/300], Step [400/600], d_loss: 0.7548, g_loss: 1.4782, D(x): 0.75, D(G(z)): 0.28\n",
            "Epoch [240/300], Step [600/600], d_loss: 0.9786, g_loss: 1.3439, D(x): 0.70, D(G(z)): 0.35\n",
            "Saving fake_images-0241.png\n",
            "Epoch [241/300], Step [200/600], d_loss: 0.8813, g_loss: 1.4081, D(x): 0.76, D(G(z)): 0.34\n",
            "Epoch [241/300], Step [400/600], d_loss: 0.9665, g_loss: 1.6348, D(x): 0.65, D(G(z)): 0.28\n",
            "Epoch [241/300], Step [600/600], d_loss: 0.8581, g_loss: 1.4018, D(x): 0.67, D(G(z)): 0.25\n",
            "Saving fake_images-0242.png\n",
            "Epoch [242/300], Step [200/600], d_loss: 0.9116, g_loss: 1.4794, D(x): 0.68, D(G(z)): 0.31\n",
            "Epoch [242/300], Step [400/600], d_loss: 1.0046, g_loss: 1.9911, D(x): 0.71, D(G(z)): 0.35\n",
            "Epoch [242/300], Step [600/600], d_loss: 1.0167, g_loss: 1.4036, D(x): 0.65, D(G(z)): 0.34\n",
            "Saving fake_images-0243.png\n",
            "Epoch [243/300], Step [200/600], d_loss: 0.9884, g_loss: 1.6468, D(x): 0.70, D(G(z)): 0.35\n",
            "Epoch [243/300], Step [400/600], d_loss: 0.8424, g_loss: 1.4754, D(x): 0.74, D(G(z)): 0.32\n",
            "Epoch [243/300], Step [600/600], d_loss: 0.8004, g_loss: 1.6105, D(x): 0.72, D(G(z)): 0.26\n",
            "Saving fake_images-0244.png\n",
            "Epoch [244/300], Step [200/600], d_loss: 0.9392, g_loss: 1.3748, D(x): 0.71, D(G(z)): 0.34\n",
            "Epoch [244/300], Step [400/600], d_loss: 0.8467, g_loss: 1.4496, D(x): 0.76, D(G(z)): 0.34\n",
            "Epoch [244/300], Step [600/600], d_loss: 0.8863, g_loss: 1.5807, D(x): 0.70, D(G(z)): 0.31\n",
            "Saving fake_images-0245.png\n",
            "Epoch [245/300], Step [200/600], d_loss: 0.9054, g_loss: 1.3877, D(x): 0.66, D(G(z)): 0.26\n",
            "Epoch [245/300], Step [400/600], d_loss: 0.7134, g_loss: 1.8062, D(x): 0.76, D(G(z)): 0.27\n",
            "Epoch [245/300], Step [600/600], d_loss: 1.0103, g_loss: 1.5018, D(x): 0.58, D(G(z)): 0.21\n",
            "Saving fake_images-0246.png\n",
            "Epoch [246/300], Step [200/600], d_loss: 0.8872, g_loss: 1.5295, D(x): 0.71, D(G(z)): 0.32\n",
            "Epoch [246/300], Step [400/600], d_loss: 0.9221, g_loss: 1.5918, D(x): 0.73, D(G(z)): 0.37\n",
            "Epoch [246/300], Step [600/600], d_loss: 0.9496, g_loss: 1.6597, D(x): 0.74, D(G(z)): 0.36\n",
            "Saving fake_images-0247.png\n",
            "Epoch [247/300], Step [200/600], d_loss: 1.1026, g_loss: 1.6242, D(x): 0.63, D(G(z)): 0.32\n",
            "Epoch [247/300], Step [400/600], d_loss: 1.1031, g_loss: 1.4581, D(x): 0.71, D(G(z)): 0.39\n",
            "Epoch [247/300], Step [600/600], d_loss: 0.8847, g_loss: 1.6161, D(x): 0.67, D(G(z)): 0.26\n",
            "Saving fake_images-0248.png\n",
            "Epoch [248/300], Step [200/600], d_loss: 1.0003, g_loss: 1.6520, D(x): 0.71, D(G(z)): 0.36\n",
            "Epoch [248/300], Step [400/600], d_loss: 0.9787, g_loss: 1.4715, D(x): 0.62, D(G(z)): 0.26\n",
            "Epoch [248/300], Step [600/600], d_loss: 0.9526, g_loss: 1.6844, D(x): 0.65, D(G(z)): 0.28\n",
            "Saving fake_images-0249.png\n",
            "Epoch [249/300], Step [200/600], d_loss: 0.8963, g_loss: 1.4405, D(x): 0.70, D(G(z)): 0.31\n",
            "Epoch [249/300], Step [400/600], d_loss: 0.8584, g_loss: 1.1592, D(x): 0.72, D(G(z)): 0.32\n",
            "Epoch [249/300], Step [600/600], d_loss: 0.9139, g_loss: 1.3146, D(x): 0.64, D(G(z)): 0.26\n",
            "Saving fake_images-0250.png\n",
            "Epoch [250/300], Step [200/600], d_loss: 0.9487, g_loss: 1.5510, D(x): 0.75, D(G(z)): 0.37\n",
            "Epoch [250/300], Step [400/600], d_loss: 1.1811, g_loss: 1.5138, D(x): 0.69, D(G(z)): 0.43\n",
            "Epoch [250/300], Step [600/600], d_loss: 0.9182, g_loss: 1.6482, D(x): 0.69, D(G(z)): 0.32\n",
            "Saving fake_images-0251.png\n",
            "Epoch [251/300], Step [200/600], d_loss: 0.8436, g_loss: 1.3487, D(x): 0.72, D(G(z)): 0.33\n",
            "Epoch [251/300], Step [400/600], d_loss: 0.9891, g_loss: 1.5888, D(x): 0.70, D(G(z)): 0.36\n",
            "Epoch [251/300], Step [600/600], d_loss: 1.1860, g_loss: 1.2283, D(x): 0.73, D(G(z)): 0.43\n",
            "Saving fake_images-0252.png\n",
            "Epoch [252/300], Step [200/600], d_loss: 0.7750, g_loss: 1.8215, D(x): 0.72, D(G(z)): 0.27\n",
            "Epoch [252/300], Step [400/600], d_loss: 0.8982, g_loss: 1.3059, D(x): 0.71, D(G(z)): 0.32\n",
            "Epoch [252/300], Step [600/600], d_loss: 0.8874, g_loss: 1.3340, D(x): 0.68, D(G(z)): 0.30\n",
            "Saving fake_images-0253.png\n",
            "Epoch [253/300], Step [200/600], d_loss: 0.9712, g_loss: 1.4774, D(x): 0.72, D(G(z)): 0.33\n",
            "Epoch [253/300], Step [400/600], d_loss: 0.9460, g_loss: 1.6147, D(x): 0.72, D(G(z)): 0.35\n",
            "Epoch [253/300], Step [600/600], d_loss: 0.8667, g_loss: 1.2639, D(x): 0.75, D(G(z)): 0.36\n",
            "Saving fake_images-0254.png\n",
            "Epoch [254/300], Step [200/600], d_loss: 1.1495, g_loss: 1.1310, D(x): 0.62, D(G(z)): 0.35\n",
            "Epoch [254/300], Step [400/600], d_loss: 0.9818, g_loss: 1.2526, D(x): 0.69, D(G(z)): 0.35\n",
            "Epoch [254/300], Step [600/600], d_loss: 0.9064, g_loss: 1.7398, D(x): 0.72, D(G(z)): 0.31\n",
            "Saving fake_images-0255.png\n",
            "Epoch [255/300], Step [200/600], d_loss: 1.0065, g_loss: 1.5438, D(x): 0.67, D(G(z)): 0.32\n",
            "Epoch [255/300], Step [400/600], d_loss: 0.9938, g_loss: 1.2143, D(x): 0.62, D(G(z)): 0.28\n",
            "Epoch [255/300], Step [600/600], d_loss: 0.9459, g_loss: 1.5253, D(x): 0.72, D(G(z)): 0.37\n",
            "Saving fake_images-0256.png\n",
            "Epoch [256/300], Step [200/600], d_loss: 0.9753, g_loss: 1.2854, D(x): 0.74, D(G(z)): 0.37\n",
            "Epoch [256/300], Step [400/600], d_loss: 0.9397, g_loss: 1.3396, D(x): 0.66, D(G(z)): 0.29\n",
            "Epoch [256/300], Step [600/600], d_loss: 0.8326, g_loss: 1.6346, D(x): 0.69, D(G(z)): 0.25\n",
            "Saving fake_images-0257.png\n",
            "Epoch [257/300], Step [200/600], d_loss: 0.9832, g_loss: 1.9541, D(x): 0.59, D(G(z)): 0.21\n",
            "Epoch [257/300], Step [400/600], d_loss: 1.0834, g_loss: 1.6393, D(x): 0.59, D(G(z)): 0.25\n",
            "Epoch [257/300], Step [600/600], d_loss: 0.9842, g_loss: 1.5315, D(x): 0.66, D(G(z)): 0.28\n",
            "Saving fake_images-0258.png\n",
            "Epoch [258/300], Step [200/600], d_loss: 1.0528, g_loss: 1.0623, D(x): 0.71, D(G(z)): 0.41\n",
            "Epoch [258/300], Step [400/600], d_loss: 0.9739, g_loss: 1.6741, D(x): 0.62, D(G(z)): 0.26\n",
            "Epoch [258/300], Step [600/600], d_loss: 0.8658, g_loss: 1.6803, D(x): 0.71, D(G(z)): 0.33\n",
            "Saving fake_images-0259.png\n",
            "Epoch [259/300], Step [200/600], d_loss: 1.0672, g_loss: 1.3184, D(x): 0.69, D(G(z)): 0.36\n",
            "Epoch [259/300], Step [400/600], d_loss: 0.8897, g_loss: 1.6541, D(x): 0.76, D(G(z)): 0.34\n",
            "Epoch [259/300], Step [600/600], d_loss: 0.9951, g_loss: 1.8276, D(x): 0.61, D(G(z)): 0.24\n",
            "Saving fake_images-0260.png\n",
            "Epoch [260/300], Step [200/600], d_loss: 0.8428, g_loss: 1.7877, D(x): 0.77, D(G(z)): 0.33\n",
            "Epoch [260/300], Step [400/600], d_loss: 0.8625, g_loss: 1.5724, D(x): 0.73, D(G(z)): 0.30\n",
            "Epoch [260/300], Step [600/600], d_loss: 0.8653, g_loss: 1.5269, D(x): 0.68, D(G(z)): 0.26\n",
            "Saving fake_images-0261.png\n",
            "Epoch [261/300], Step [200/600], d_loss: 0.9595, g_loss: 1.2211, D(x): 0.73, D(G(z)): 0.38\n",
            "Epoch [261/300], Step [400/600], d_loss: 0.9926, g_loss: 1.3288, D(x): 0.71, D(G(z)): 0.35\n",
            "Epoch [261/300], Step [600/600], d_loss: 0.8698, g_loss: 1.4654, D(x): 0.72, D(G(z)): 0.33\n",
            "Saving fake_images-0262.png\n",
            "Epoch [262/300], Step [200/600], d_loss: 1.0296, g_loss: 1.3618, D(x): 0.58, D(G(z)): 0.22\n",
            "Epoch [262/300], Step [400/600], d_loss: 0.8987, g_loss: 1.7344, D(x): 0.69, D(G(z)): 0.30\n",
            "Epoch [262/300], Step [600/600], d_loss: 0.9847, g_loss: 1.4511, D(x): 0.74, D(G(z)): 0.36\n",
            "Saving fake_images-0263.png\n",
            "Epoch [263/300], Step [200/600], d_loss: 0.9902, g_loss: 1.2089, D(x): 0.74, D(G(z)): 0.41\n",
            "Epoch [263/300], Step [400/600], d_loss: 0.9035, g_loss: 1.3430, D(x): 0.74, D(G(z)): 0.36\n",
            "Epoch [263/300], Step [600/600], d_loss: 0.8024, g_loss: 1.5722, D(x): 0.65, D(G(z)): 0.22\n",
            "Saving fake_images-0264.png\n",
            "Epoch [264/300], Step [200/600], d_loss: 1.0318, g_loss: 1.3261, D(x): 0.69, D(G(z)): 0.32\n",
            "Epoch [264/300], Step [400/600], d_loss: 0.8214, g_loss: 1.4410, D(x): 0.68, D(G(z)): 0.25\n",
            "Epoch [264/300], Step [600/600], d_loss: 1.0328, g_loss: 1.4272, D(x): 0.69, D(G(z)): 0.36\n",
            "Saving fake_images-0265.png\n",
            "Epoch [265/300], Step [200/600], d_loss: 1.0243, g_loss: 1.6210, D(x): 0.72, D(G(z)): 0.38\n",
            "Epoch [265/300], Step [400/600], d_loss: 1.2399, g_loss: 1.3637, D(x): 0.55, D(G(z)): 0.29\n",
            "Epoch [265/300], Step [600/600], d_loss: 0.7924, g_loss: 1.6289, D(x): 0.64, D(G(z)): 0.19\n",
            "Saving fake_images-0266.png\n",
            "Epoch [266/300], Step [200/600], d_loss: 0.8945, g_loss: 1.6537, D(x): 0.71, D(G(z)): 0.32\n",
            "Epoch [266/300], Step [400/600], d_loss: 1.0184, g_loss: 1.6224, D(x): 0.63, D(G(z)): 0.29\n",
            "Epoch [266/300], Step [600/600], d_loss: 0.7607, g_loss: 1.4807, D(x): 0.75, D(G(z)): 0.29\n",
            "Saving fake_images-0267.png\n",
            "Epoch [267/300], Step [200/600], d_loss: 0.9897, g_loss: 1.6218, D(x): 0.69, D(G(z)): 0.33\n",
            "Epoch [267/300], Step [400/600], d_loss: 0.9999, g_loss: 1.4095, D(x): 0.75, D(G(z)): 0.41\n",
            "Epoch [267/300], Step [600/600], d_loss: 0.8477, g_loss: 1.4877, D(x): 0.72, D(G(z)): 0.31\n",
            "Saving fake_images-0268.png\n",
            "Epoch [268/300], Step [200/600], d_loss: 1.3099, g_loss: 1.1386, D(x): 0.65, D(G(z)): 0.42\n",
            "Epoch [268/300], Step [400/600], d_loss: 0.8267, g_loss: 1.8013, D(x): 0.73, D(G(z)): 0.28\n",
            "Epoch [268/300], Step [600/600], d_loss: 0.9769, g_loss: 1.5792, D(x): 0.67, D(G(z)): 0.32\n",
            "Saving fake_images-0269.png\n",
            "Epoch [269/300], Step [200/600], d_loss: 0.9584, g_loss: 1.3978, D(x): 0.68, D(G(z)): 0.34\n",
            "Epoch [269/300], Step [400/600], d_loss: 1.0384, g_loss: 1.2841, D(x): 0.68, D(G(z)): 0.37\n",
            "Epoch [269/300], Step [600/600], d_loss: 0.8664, g_loss: 1.7944, D(x): 0.71, D(G(z)): 0.30\n",
            "Saving fake_images-0270.png\n",
            "Epoch [270/300], Step [200/600], d_loss: 1.0173, g_loss: 1.3281, D(x): 0.65, D(G(z)): 0.30\n",
            "Epoch [270/300], Step [400/600], d_loss: 0.9669, g_loss: 1.3181, D(x): 0.65, D(G(z)): 0.28\n",
            "Epoch [270/300], Step [600/600], d_loss: 1.0514, g_loss: 1.4812, D(x): 0.72, D(G(z)): 0.36\n",
            "Saving fake_images-0271.png\n",
            "Epoch [271/300], Step [200/600], d_loss: 1.1795, g_loss: 1.4369, D(x): 0.71, D(G(z)): 0.41\n",
            "Epoch [271/300], Step [400/600], d_loss: 1.0729, g_loss: 1.4350, D(x): 0.71, D(G(z)): 0.37\n",
            "Epoch [271/300], Step [600/600], d_loss: 0.9454, g_loss: 1.2681, D(x): 0.79, D(G(z)): 0.42\n",
            "Saving fake_images-0272.png\n",
            "Epoch [272/300], Step [200/600], d_loss: 0.9710, g_loss: 1.6305, D(x): 0.68, D(G(z)): 0.31\n",
            "Epoch [272/300], Step [400/600], d_loss: 0.9065, g_loss: 1.5762, D(x): 0.72, D(G(z)): 0.33\n",
            "Epoch [272/300], Step [600/600], d_loss: 0.9209, g_loss: 1.3116, D(x): 0.74, D(G(z)): 0.34\n",
            "Saving fake_images-0273.png\n",
            "Epoch [273/300], Step [200/600], d_loss: 0.7768, g_loss: 1.6647, D(x): 0.70, D(G(z)): 0.25\n",
            "Epoch [273/300], Step [400/600], d_loss: 0.9364, g_loss: 1.2722, D(x): 0.72, D(G(z)): 0.33\n",
            "Epoch [273/300], Step [600/600], d_loss: 0.6585, g_loss: 1.5043, D(x): 0.77, D(G(z)): 0.27\n",
            "Saving fake_images-0274.png\n",
            "Epoch [274/300], Step [200/600], d_loss: 0.8522, g_loss: 1.6914, D(x): 0.71, D(G(z)): 0.32\n",
            "Epoch [274/300], Step [400/600], d_loss: 0.9299, g_loss: 1.4256, D(x): 0.78, D(G(z)): 0.39\n",
            "Epoch [274/300], Step [600/600], d_loss: 0.7724, g_loss: 1.5340, D(x): 0.74, D(G(z)): 0.28\n",
            "Saving fake_images-0275.png\n",
            "Epoch [275/300], Step [200/600], d_loss: 1.0093, g_loss: 1.5091, D(x): 0.62, D(G(z)): 0.26\n",
            "Epoch [275/300], Step [400/600], d_loss: 0.8970, g_loss: 1.5586, D(x): 0.67, D(G(z)): 0.27\n",
            "Epoch [275/300], Step [600/600], d_loss: 1.0140, g_loss: 1.5780, D(x): 0.61, D(G(z)): 0.26\n",
            "Saving fake_images-0276.png\n",
            "Epoch [276/300], Step [200/600], d_loss: 0.9090, g_loss: 1.3989, D(x): 0.72, D(G(z)): 0.34\n",
            "Epoch [276/300], Step [400/600], d_loss: 1.0927, g_loss: 1.2802, D(x): 0.71, D(G(z)): 0.41\n",
            "Epoch [276/300], Step [600/600], d_loss: 0.8994, g_loss: 1.5900, D(x): 0.69, D(G(z)): 0.29\n",
            "Saving fake_images-0277.png\n",
            "Epoch [277/300], Step [200/600], d_loss: 0.7923, g_loss: 1.5135, D(x): 0.72, D(G(z)): 0.28\n",
            "Epoch [277/300], Step [400/600], d_loss: 0.9306, g_loss: 1.6165, D(x): 0.67, D(G(z)): 0.29\n",
            "Epoch [277/300], Step [600/600], d_loss: 0.9992, g_loss: 1.6396, D(x): 0.68, D(G(z)): 0.34\n",
            "Saving fake_images-0278.png\n",
            "Epoch [278/300], Step [200/600], d_loss: 1.1143, g_loss: 1.4534, D(x): 0.63, D(G(z)): 0.36\n",
            "Epoch [278/300], Step [400/600], d_loss: 0.8723, g_loss: 1.5981, D(x): 0.66, D(G(z)): 0.25\n",
            "Epoch [278/300], Step [600/600], d_loss: 0.8735, g_loss: 1.4894, D(x): 0.69, D(G(z)): 0.30\n",
            "Saving fake_images-0279.png\n",
            "Epoch [279/300], Step [200/600], d_loss: 0.8765, g_loss: 1.4582, D(x): 0.72, D(G(z)): 0.30\n",
            "Epoch [279/300], Step [400/600], d_loss: 1.0584, g_loss: 1.5393, D(x): 0.62, D(G(z)): 0.29\n",
            "Epoch [279/300], Step [600/600], d_loss: 0.9085, g_loss: 1.7229, D(x): 0.69, D(G(z)): 0.26\n",
            "Saving fake_images-0280.png\n",
            "Epoch [280/300], Step [200/600], d_loss: 0.8449, g_loss: 1.4672, D(x): 0.74, D(G(z)): 0.33\n",
            "Epoch [280/300], Step [400/600], d_loss: 0.8003, g_loss: 1.5630, D(x): 0.76, D(G(z)): 0.32\n",
            "Epoch [280/300], Step [600/600], d_loss: 0.8729, g_loss: 1.3733, D(x): 0.70, D(G(z)): 0.32\n",
            "Saving fake_images-0281.png\n",
            "Epoch [281/300], Step [200/600], d_loss: 1.0286, g_loss: 1.3076, D(x): 0.60, D(G(z)): 0.27\n",
            "Epoch [281/300], Step [400/600], d_loss: 0.7849, g_loss: 1.6001, D(x): 0.72, D(G(z)): 0.25\n",
            "Epoch [281/300], Step [600/600], d_loss: 0.9666, g_loss: 1.1975, D(x): 0.72, D(G(z)): 0.35\n",
            "Saving fake_images-0282.png\n",
            "Epoch [282/300], Step [200/600], d_loss: 0.8488, g_loss: 1.6521, D(x): 0.68, D(G(z)): 0.24\n",
            "Epoch [282/300], Step [400/600], d_loss: 1.1545, g_loss: 1.5508, D(x): 0.60, D(G(z)): 0.33\n",
            "Epoch [282/300], Step [600/600], d_loss: 1.0594, g_loss: 1.4720, D(x): 0.67, D(G(z)): 0.29\n",
            "Saving fake_images-0283.png\n",
            "Epoch [283/300], Step [200/600], d_loss: 0.9766, g_loss: 1.0095, D(x): 0.72, D(G(z)): 0.37\n",
            "Epoch [283/300], Step [400/600], d_loss: 1.0115, g_loss: 1.5005, D(x): 0.66, D(G(z)): 0.29\n",
            "Epoch [283/300], Step [600/600], d_loss: 0.9831, g_loss: 1.6844, D(x): 0.63, D(G(z)): 0.27\n",
            "Saving fake_images-0284.png\n",
            "Epoch [284/300], Step [200/600], d_loss: 0.9605, g_loss: 1.5487, D(x): 0.65, D(G(z)): 0.28\n",
            "Epoch [284/300], Step [400/600], d_loss: 0.7792, g_loss: 1.5976, D(x): 0.73, D(G(z)): 0.26\n",
            "Epoch [284/300], Step [600/600], d_loss: 0.9506, g_loss: 1.3462, D(x): 0.75, D(G(z)): 0.37\n",
            "Saving fake_images-0285.png\n",
            "Epoch [285/300], Step [200/600], d_loss: 0.9323, g_loss: 1.5283, D(x): 0.67, D(G(z)): 0.28\n",
            "Epoch [285/300], Step [400/600], d_loss: 0.9087, g_loss: 1.4669, D(x): 0.70, D(G(z)): 0.28\n",
            "Epoch [285/300], Step [600/600], d_loss: 0.9079, g_loss: 1.3610, D(x): 0.69, D(G(z)): 0.30\n",
            "Saving fake_images-0286.png\n",
            "Epoch [286/300], Step [200/600], d_loss: 0.8993, g_loss: 1.5860, D(x): 0.71, D(G(z)): 0.35\n",
            "Epoch [286/300], Step [400/600], d_loss: 1.0291, g_loss: 1.8070, D(x): 0.64, D(G(z)): 0.29\n",
            "Epoch [286/300], Step [600/600], d_loss: 1.0200, g_loss: 1.3927, D(x): 0.66, D(G(z)): 0.33\n",
            "Saving fake_images-0287.png\n",
            "Epoch [287/300], Step [200/600], d_loss: 0.9177, g_loss: 1.6420, D(x): 0.63, D(G(z)): 0.24\n",
            "Epoch [287/300], Step [400/600], d_loss: 0.8318, g_loss: 1.4795, D(x): 0.77, D(G(z)): 0.34\n",
            "Epoch [287/300], Step [600/600], d_loss: 1.0894, g_loss: 1.4766, D(x): 0.64, D(G(z)): 0.34\n",
            "Saving fake_images-0288.png\n",
            "Epoch [288/300], Step [200/600], d_loss: 0.9646, g_loss: 1.3653, D(x): 0.67, D(G(z)): 0.32\n",
            "Epoch [288/300], Step [400/600], d_loss: 0.8922, g_loss: 1.5937, D(x): 0.71, D(G(z)): 0.31\n",
            "Epoch [288/300], Step [600/600], d_loss: 0.9544, g_loss: 1.4684, D(x): 0.66, D(G(z)): 0.30\n",
            "Saving fake_images-0289.png\n",
            "Epoch [289/300], Step [200/600], d_loss: 0.8017, g_loss: 1.7431, D(x): 0.74, D(G(z)): 0.28\n",
            "Epoch [289/300], Step [400/600], d_loss: 0.8935, g_loss: 1.4304, D(x): 0.66, D(G(z)): 0.26\n",
            "Epoch [289/300], Step [600/600], d_loss: 0.9642, g_loss: 1.6098, D(x): 0.70, D(G(z)): 0.31\n",
            "Saving fake_images-0290.png\n",
            "Epoch [290/300], Step [200/600], d_loss: 0.8747, g_loss: 1.2735, D(x): 0.75, D(G(z)): 0.35\n",
            "Epoch [290/300], Step [400/600], d_loss: 0.8943, g_loss: 1.5404, D(x): 0.68, D(G(z)): 0.26\n",
            "Epoch [290/300], Step [600/600], d_loss: 0.9502, g_loss: 1.4206, D(x): 0.71, D(G(z)): 0.33\n",
            "Saving fake_images-0291.png\n",
            "Epoch [291/300], Step [200/600], d_loss: 0.9149, g_loss: 1.3915, D(x): 0.67, D(G(z)): 0.30\n",
            "Epoch [291/300], Step [400/600], d_loss: 0.9243, g_loss: 1.5913, D(x): 0.71, D(G(z)): 0.33\n",
            "Epoch [291/300], Step [600/600], d_loss: 0.8938, g_loss: 1.2465, D(x): 0.72, D(G(z)): 0.32\n",
            "Saving fake_images-0292.png\n",
            "Epoch [292/300], Step [200/600], d_loss: 0.7874, g_loss: 1.4622, D(x): 0.75, D(G(z)): 0.30\n",
            "Epoch [292/300], Step [400/600], d_loss: 0.8533, g_loss: 1.5227, D(x): 0.70, D(G(z)): 0.26\n",
            "Epoch [292/300], Step [600/600], d_loss: 0.9477, g_loss: 1.2321, D(x): 0.68, D(G(z)): 0.32\n",
            "Saving fake_images-0293.png\n",
            "Epoch [293/300], Step [200/600], d_loss: 0.9719, g_loss: 1.6020, D(x): 0.71, D(G(z)): 0.36\n",
            "Epoch [293/300], Step [400/600], d_loss: 0.8867, g_loss: 1.3291, D(x): 0.73, D(G(z)): 0.30\n",
            "Epoch [293/300], Step [600/600], d_loss: 0.9645, g_loss: 1.2655, D(x): 0.69, D(G(z)): 0.33\n",
            "Saving fake_images-0294.png\n",
            "Epoch [294/300], Step [200/600], d_loss: 0.7656, g_loss: 1.3075, D(x): 0.75, D(G(z)): 0.30\n",
            "Epoch [294/300], Step [400/600], d_loss: 1.0406, g_loss: 1.2289, D(x): 0.69, D(G(z)): 0.34\n",
            "Epoch [294/300], Step [600/600], d_loss: 1.0193, g_loss: 1.6371, D(x): 0.61, D(G(z)): 0.26\n",
            "Saving fake_images-0295.png\n",
            "Epoch [295/300], Step [200/600], d_loss: 0.8697, g_loss: 1.5765, D(x): 0.69, D(G(z)): 0.28\n",
            "Epoch [295/300], Step [400/600], d_loss: 0.9500, g_loss: 1.5643, D(x): 0.76, D(G(z)): 0.36\n",
            "Epoch [295/300], Step [600/600], d_loss: 0.9283, g_loss: 1.4362, D(x): 0.70, D(G(z)): 0.30\n",
            "Saving fake_images-0296.png\n",
            "Epoch [296/300], Step [200/600], d_loss: 1.1169, g_loss: 2.0027, D(x): 0.64, D(G(z)): 0.32\n",
            "Epoch [296/300], Step [400/600], d_loss: 0.9734, g_loss: 1.5646, D(x): 0.60, D(G(z)): 0.24\n",
            "Epoch [296/300], Step [600/600], d_loss: 0.9719, g_loss: 1.2004, D(x): 0.63, D(G(z)): 0.27\n",
            "Saving fake_images-0297.png\n",
            "Epoch [297/300], Step [200/600], d_loss: 0.8428, g_loss: 1.6231, D(x): 0.70, D(G(z)): 0.27\n",
            "Epoch [297/300], Step [400/600], d_loss: 0.8630, g_loss: 1.6240, D(x): 0.68, D(G(z)): 0.25\n",
            "Epoch [297/300], Step [600/600], d_loss: 0.9174, g_loss: 1.4847, D(x): 0.68, D(G(z)): 0.29\n",
            "Saving fake_images-0298.png\n",
            "Epoch [298/300], Step [200/600], d_loss: 0.9832, g_loss: 1.3180, D(x): 0.67, D(G(z)): 0.33\n",
            "Epoch [298/300], Step [400/600], d_loss: 0.7712, g_loss: 1.6472, D(x): 0.70, D(G(z)): 0.25\n",
            "Epoch [298/300], Step [600/600], d_loss: 0.9383, g_loss: 1.2980, D(x): 0.66, D(G(z)): 0.30\n",
            "Saving fake_images-0299.png\n",
            "Epoch [299/300], Step [200/600], d_loss: 1.0731, g_loss: 1.7084, D(x): 0.70, D(G(z)): 0.36\n",
            "Epoch [299/300], Step [400/600], d_loss: 0.9651, g_loss: 1.4572, D(x): 0.75, D(G(z)): 0.36\n",
            "Epoch [299/300], Step [600/600], d_loss: 0.9878, g_loss: 1.5797, D(x): 0.68, D(G(z)): 0.35\n",
            "Saving fake_images-0300.png\n"
          ],
          "name": "stdout"
        }
      ]
    },
    {
      "cell_type": "code",
      "metadata": {
        "colab": {
          "base_uri": "https://localhost:8080/",
          "height": 409
        },
        "id": "4bfwcsR4_epZ",
        "outputId": "197e9395-d058-47f5-e7f6-a68b7d0864a0"
      },
      "source": [
        "Image('./samples/fake_images-0010.png')"
      ],
      "execution_count": 81,
      "outputs": [
        {
          "output_type": "execute_result",
          "data": {
            "image/png": "[encoded data removed]",
            "text/plain": [
              "<IPython.core.display.Image object>"
            ]
          },
          "metadata": {
            "tags": []
          },
          "execution_count": 81
        }
      ]
    },
    {
      "cell_type": "code",
      "metadata": {
        "colab": {
          "base_uri": "https://localhost:8080/",
          "height": 409
        },
        "id": "GOsyxWTWDvvs",
        "outputId": "5eb018f5-dbbc-4584-cbe7-194c04fc131b"
      },
      "source": [
        "Image('./samples/fake_images-0100.png')"
      ],
      "execution_count": 82,
      "outputs": [
        {
          "output_type": "execute_result",
          "data": {
            "image/png": "[encoded data removed]",
            "text/plain": [
              "<IPython.core.display.Image object>"
            ]
          },
          "metadata": {
            "tags": []
          },
          "execution_count": 82
        }
      ]
    },
    {
      "cell_type": "code",
      "metadata": {
        "colab": {
          "base_uri": "https://localhost:8080/",
          "height": 409
        },
        "id": "oee9wmEHV1aP",
        "outputId": "4f7670ca-86ca-436a-98dc-6c0a399826d2"
      },
      "source": [
        "Image('./samples/fake_images-0300.png')"
      ],
      "execution_count": 83,
      "outputs": [
        {
          "output_type": "execute_result",
          "data": {
            "image/png": "[encoded data removed]",
            "text/plain": [
              "<IPython.core.display.Image object>"
            ]
          },
          "metadata": {
            "tags": []
          },
          "execution_count": 83
        }
      ]
    },
    {
      "cell_type": "code",
      "metadata": {
        "id": "WJfKPw9kV4H2"
      },
      "source": [
        ""
      ],
      "execution_count": null,
      "outputs": []
    }
  ]
}